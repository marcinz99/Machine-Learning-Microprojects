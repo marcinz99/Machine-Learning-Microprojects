{
 "cells": [
  {
   "cell_type": "markdown",
   "metadata": {},
   "source": [
    "# House price prediction"
   ]
  },
  {
   "cell_type": "code",
   "execution_count": 1,
   "metadata": {},
   "outputs": [],
   "source": [
    "import pandas as pd\n",
    "import numpy as np\n",
    "import matplotlib.pyplot as plt\n",
    "\n",
    "from sklearn.ensemble import RandomForestRegressor\n",
    "from sklearn.metrics import mean_absolute_error\n",
    "from sklearn.model_selection import train_test_split\n",
    "from sklearn.preprocessing import OneHotEncoder\n",
    "from sklearn.impute import SimpleImputer\n",
    "from sklearn.preprocessing import LabelEncoder\n",
    "from sklearn.compose import ColumnTransformer\n",
    "from sklearn.pipeline import Pipeline\n",
    "\n",
    "np.random.seed(12345)"
   ]
  },
  {
   "cell_type": "markdown",
   "metadata": {},
   "source": [
    "In this notebook there are a `Pipeline` and a `ColumnTransformer` functionalities used in order to tidy up the code a bit. Aside of that, this is mostly the same as the previous one."
   ]
  },
  {
   "cell_type": "markdown",
   "metadata": {},
   "source": [
    "#### Preparing the data"
   ]
  },
  {
   "cell_type": "code",
   "execution_count": 2,
   "metadata": {},
   "outputs": [],
   "source": [
    "train_set = pd.read_csv('data/train.csv', index_col='Id')\n",
    "test_set = pd.read_csv('data/test.csv', index_col='Id')"
   ]
  },
  {
   "cell_type": "code",
   "execution_count": 3,
   "metadata": {},
   "outputs": [],
   "source": [
    "train_set.dropna(axis=0, subset=['SalePrice'], inplace=True)\n",
    "\n",
    "X = train_set.drop(['SalePrice'], axis=1)\n",
    "y = train_set['SalePrice']\n",
    "\n",
    "X_train, X_valid, y_train, y_valid = train_test_split(\n",
    "    X, y, train_size=0.8, test_size=0.2, random_state=1\n",
    ")"
   ]
  },
  {
   "cell_type": "code",
   "execution_count": 4,
   "metadata": {},
   "outputs": [],
   "source": [
    "numeric_features = X.select_dtypes(exclude='object').columns\n",
    "categorical_features = X.select_dtypes(include='object').columns"
   ]
  },
  {
   "cell_type": "markdown",
   "metadata": {},
   "source": [
    "#### One-Hot encoding"
   ]
  },
  {
   "cell_type": "code",
   "execution_count": 5,
   "metadata": {},
   "outputs": [],
   "source": [
    "low_cardinality_cols = [col for col in categorical_features if X[col].nunique() < 10]\n",
    "high_cardinality_cols = list(set(categorical_features) - set(low_cardinality_cols))"
   ]
  },
  {
   "cell_type": "code",
   "execution_count": 6,
   "metadata": {},
   "outputs": [],
   "source": [
    "numeric_transformer = Pipeline(steps=[\n",
    "    ('imputer', SimpleImputer(strategy='median'))\n",
    "])\n",
    "categorical_transformer = Pipeline(steps=[\n",
    "    ('imputer', SimpleImputer(strategy='most_frequent')),\n",
    "    ('onehot', OneHotEncoder(handle_unknown='ignore', sparse=False))\n",
    "])"
   ]
  },
  {
   "cell_type": "code",
   "execution_count": 7,
   "metadata": {},
   "outputs": [],
   "source": [
    "column_transformer = ColumnTransformer(transformers=[\n",
    "    ('numeric', numeric_transformer, numeric_features),\n",
    "    ('categorical_low_card', categorical_transformer, low_cardinality_cols),\n",
    "    ('drop_unused', 'drop', categorical_features)\n",
    "])"
   ]
  },
  {
   "cell_type": "code",
   "execution_count": 8,
   "metadata": {},
   "outputs": [],
   "source": [
    "column_transformer.fit(X)\n",
    "\n",
    "OH_X_train = pd.DataFrame(column_transformer.transform(X_train))\n",
    "OH_X_train.columns = (\n",
    "    pd.Index(numeric_features.to_list() + categorical_features.to_list() +\n",
    "             np.arange(OH_X_train.columns.size - X_train.columns.size).tolist())\n",
    ")\n",
    "\n",
    "OH_X_valid = pd.DataFrame(column_transformer.transform(X_valid))\n",
    "OH_X_valid.columns = (\n",
    "    pd.Index(numeric_features.to_list() + categorical_features.to_list() +\n",
    "             np.arange(OH_X_valid.columns.size - X_valid.columns.size).tolist())\n",
    ")"
   ]
  },
  {
   "cell_type": "code",
   "execution_count": 9,
   "metadata": {},
   "outputs": [
    {
     "data": {
      "text/plain": [
       "RandomForestRegressor(bootstrap=True, criterion='mse', max_depth=None,\n",
       "                      max_features='auto', max_leaf_nodes=None,\n",
       "                      min_impurity_decrease=0.0, min_impurity_split=None,\n",
       "                      min_samples_leaf=1, min_samples_split=2,\n",
       "                      min_weight_fraction_leaf=0.0, n_estimators=160,\n",
       "                      n_jobs=None, oob_score=False, random_state=1, verbose=0,\n",
       "                      warm_start=False)"
      ]
     },
     "execution_count": 9,
     "metadata": {},
     "output_type": "execute_result"
    }
   ],
   "source": [
    "model = RandomForestRegressor(criterion='mse', n_estimators=160, random_state=1)\n",
    "model.fit(OH_X_train, y_train)"
   ]
  },
  {
   "cell_type": "code",
   "execution_count": 10,
   "metadata": {},
   "outputs": [],
   "source": [
    "predictions = model.predict(OH_X_valid)"
   ]
  },
  {
   "cell_type": "code",
   "execution_count": 11,
   "metadata": {},
   "outputs": [
    {
     "name": "stdout",
     "output_type": "stream",
     "text": [
      "MAE: 16567.48028681507\n"
     ]
    }
   ],
   "source": [
    "mae = mean_absolute_error(predictions, y_valid)\n",
    "print(\"MAE:\", mae)"
   ]
  },
  {
   "cell_type": "markdown",
   "metadata": {},
   "source": [
    "#### Label encoding"
   ]
  },
  {
   "cell_type": "code",
   "execution_count": 12,
   "metadata": {},
   "outputs": [],
   "source": [
    "numeric_transformer = Pipeline(steps=[\n",
    "    ('imputer', SimpleImputer(strategy='median'))\n",
    "])\n",
    "categorical_transformer = Pipeline(steps=[\n",
    "    ('imputer', SimpleImputer(strategy='most_frequent'))\n",
    "])"
   ]
  },
  {
   "cell_type": "code",
   "execution_count": 13,
   "metadata": {},
   "outputs": [],
   "source": [
    "column_transformer = ColumnTransformer(transformers=[\n",
    "    ('numeric', numeric_transformer, numeric_features),\n",
    "    ('categorical', categorical_transformer, categorical_features)\n",
    "])"
   ]
  },
  {
   "cell_type": "code",
   "execution_count": 14,
   "metadata": {
    "scrolled": false
   },
   "outputs": [],
   "source": [
    "column_transformer.fit(X)\n",
    "\n",
    "label_X_train = pd.DataFrame(column_transformer.transform(X_train))\n",
    "label_X_train.columns = (\n",
    "    pd.Index(numeric_features.to_list() + categorical_features.to_list() +\n",
    "             np.arange(label_X_train.columns.size - X_train.columns.size).tolist())\n",
    ")\n",
    "\n",
    "label_X_valid = pd.DataFrame(column_transformer.transform(X_valid))\n",
    "label_X_valid.columns = (\n",
    "    pd.Index(numeric_features.to_list() + categorical_features.to_list() +\n",
    "             np.arange(label_X_valid.columns.size - X_valid.columns.size).tolist())\n",
    ")"
   ]
  },
  {
   "cell_type": "code",
   "execution_count": 15,
   "metadata": {},
   "outputs": [],
   "source": [
    "label_encoder = LabelEncoder()\n",
    "\n",
    "for col in categorical_features:\n",
    "    label_encoder.fit(pd.concat([label_X_train[col], label_X_valid[col]], axis=0))\n",
    "    label_X_train[col] = label_encoder.transform(label_X_train[col])\n",
    "    label_X_valid[col] = label_encoder.transform(label_X_valid[col])"
   ]
  },
  {
   "cell_type": "code",
   "execution_count": 16,
   "metadata": {},
   "outputs": [
    {
     "data": {
      "text/plain": [
       "RandomForestRegressor(bootstrap=True, criterion='mse', max_depth=None,\n",
       "                      max_features='auto', max_leaf_nodes=None,\n",
       "                      min_impurity_decrease=0.0, min_impurity_split=None,\n",
       "                      min_samples_leaf=1, min_samples_split=2,\n",
       "                      min_weight_fraction_leaf=0.0, n_estimators=160,\n",
       "                      n_jobs=None, oob_score=False, random_state=1, verbose=0,\n",
       "                      warm_start=False)"
      ]
     },
     "execution_count": 16,
     "metadata": {},
     "output_type": "execute_result"
    }
   ],
   "source": [
    "model = RandomForestRegressor(criterion='mse', n_estimators=160, random_state=1)\n",
    "model.fit(label_X_train, y_train)"
   ]
  },
  {
   "cell_type": "code",
   "execution_count": 17,
   "metadata": {},
   "outputs": [],
   "source": [
    "predictions = model.predict(label_X_valid)"
   ]
  },
  {
   "cell_type": "code",
   "execution_count": 18,
   "metadata": {},
   "outputs": [
    {
     "name": "stdout",
     "output_type": "stream",
     "text": [
      "MAE: 16333.587435787671\n"
     ]
    }
   ],
   "source": [
    "mae = mean_absolute_error(predictions, y_valid)\n",
    "print(\"MAE:\", mae)"
   ]
  },
  {
   "cell_type": "markdown",
   "metadata": {},
   "source": [
    "#### One-Hot + Label encoding"
   ]
  },
  {
   "cell_type": "code",
   "execution_count": 19,
   "metadata": {},
   "outputs": [],
   "source": [
    "low_cardinality_cols = [col for col in categorical_features if X[col].nunique() < 10]\n",
    "high_cardinality_cols = list(set(categorical_features) - set(low_cardinality_cols))"
   ]
  },
  {
   "cell_type": "code",
   "execution_count": 20,
   "metadata": {},
   "outputs": [],
   "source": [
    "numeric_imputer = Pipeline(steps=[\n",
    "    ('imputer', SimpleImputer(strategy='median'))\n",
    "])\n",
    "categorical_imputer = Pipeline(steps=[\n",
    "    ('imputer', SimpleImputer(strategy='most_frequent'))\n",
    "])\n",
    "categorical_onehot = Pipeline(steps=[\n",
    "    ('onehot', OneHotEncoder(handle_unknown='ignore', sparse=False))\n",
    "])"
   ]
  },
  {
   "cell_type": "code",
   "execution_count": 21,
   "metadata": {},
   "outputs": [],
   "source": [
    "column_imputer = ColumnTransformer(transformers=[\n",
    "    ('numeric', numeric_imputer, numeric_features),\n",
    "    ('categorical_impute', categorical_imputer, categorical_features)\n",
    "])"
   ]
  },
  {
   "cell_type": "code",
   "execution_count": 22,
   "metadata": {
    "scrolled": false
   },
   "outputs": [],
   "source": [
    "column_imputer.fit(X)\n",
    "\n",
    "imputed_X_train = pd.DataFrame(column_imputer.transform(X_train))\n",
    "imputed_X_train.columns = (\n",
    "    pd.Index(numeric_features.to_list() + categorical_features.to_list() +\n",
    "             np.arange(imputed_X_train.columns.size - X_train.columns.size).tolist())\n",
    ")\n",
    "\n",
    "imputed_X_valid = pd.DataFrame(column_imputer.transform(X_valid))\n",
    "imputed_X_valid.columns = (\n",
    "    pd.Index(numeric_features.to_list() + categorical_features.to_list() +\n",
    "             np.arange(imputed_X_valid.columns.size - X_valid.columns.size).tolist())\n",
    ")"
   ]
  },
  {
   "cell_type": "code",
   "execution_count": 23,
   "metadata": {},
   "outputs": [],
   "source": [
    "column_onehot = ColumnTransformer(transformers=[\n",
    "    ('numeric', 'passthrough', numeric_features),\n",
    "    ('categorical_low_card', categorical_onehot, low_cardinality_cols),\n",
    "    ('drop_encoded', 'drop', low_cardinality_cols),\n",
    "    ('label_enc', 'passthrough', high_cardinality_cols)\n",
    "])"
   ]
  },
  {
   "cell_type": "code",
   "execution_count": 24,
   "metadata": {},
   "outputs": [],
   "source": [
    "column_onehot.fit(pd.concat([imputed_X_train, imputed_X_valid], axis=0))\n",
    "\n",
    "column_onehot.transform(imputed_X_train)\n",
    "OH_label_X_train = pd.DataFrame(column_onehot.transform(imputed_X_train))\n",
    "OH_label_X_train.columns = (\n",
    "    pd.Index(numeric_features.to_list() +\n",
    "             np.arange(OH_label_X_train.columns.size - numeric_features.size -\n",
    "                       len(high_cardinality_cols)).tolist() +\n",
    "             high_cardinality_cols)\n",
    ")\n",
    "\n",
    "OH_label_X_valid = pd.DataFrame(column_onehot.transform(imputed_X_valid))\n",
    "OH_label_X_valid.columns = (\n",
    "    pd.Index(numeric_features.to_list() +\n",
    "             np.arange(OH_label_X_train.columns.size - numeric_features.size -\n",
    "                       len(high_cardinality_cols)).tolist() +\n",
    "             high_cardinality_cols)\n",
    ")"
   ]
  },
  {
   "cell_type": "code",
   "execution_count": 25,
   "metadata": {},
   "outputs": [],
   "source": [
    "label_encoder = LabelEncoder()\n",
    "\n",
    "for col in high_cardinality_cols:\n",
    "    label_encoder.fit(pd.concat([OH_label_X_train[col], OH_label_X_valid[col]], axis=0))\n",
    "    OH_label_X_train[col] = label_encoder.transform(OH_label_X_train[col])\n",
    "    OH_label_X_valid[col] = label_encoder.transform(OH_label_X_valid[col])"
   ]
  },
  {
   "cell_type": "code",
   "execution_count": 26,
   "metadata": {},
   "outputs": [
    {
     "data": {
      "text/plain": [
       "RandomForestRegressor(bootstrap=True, criterion='mse', max_depth=None,\n",
       "                      max_features='auto', max_leaf_nodes=None,\n",
       "                      min_impurity_decrease=0.0, min_impurity_split=None,\n",
       "                      min_samples_leaf=1, min_samples_split=2,\n",
       "                      min_weight_fraction_leaf=0.0, n_estimators=160,\n",
       "                      n_jobs=None, oob_score=False, random_state=1, verbose=0,\n",
       "                      warm_start=False)"
      ]
     },
     "execution_count": 26,
     "metadata": {},
     "output_type": "execute_result"
    }
   ],
   "source": [
    "model = RandomForestRegressor(criterion='mse', n_estimators=160, random_state=1)\n",
    "model.fit(OH_label_X_train, y_train)"
   ]
  },
  {
   "cell_type": "code",
   "execution_count": 27,
   "metadata": {},
   "outputs": [],
   "source": [
    "predictions = model.predict(OH_label_X_valid)"
   ]
  },
  {
   "cell_type": "code",
   "execution_count": 28,
   "metadata": {},
   "outputs": [
    {
     "name": "stdout",
     "output_type": "stream",
     "text": [
      "MAE: 16395.526177226027\n"
     ]
    }
   ],
   "source": [
    "mae = mean_absolute_error(predictions, y_valid)\n",
    "print(\"MAE:\", mae)"
   ]
  }
 ],
 "metadata": {
  "kernelspec": {
   "display_name": "Python 3",
   "language": "python",
   "name": "python3"
  },
  "language_info": {
   "codemirror_mode": {
    "name": "ipython",
    "version": 3
   },
   "file_extension": ".py",
   "mimetype": "text/x-python",
   "name": "python",
   "nbconvert_exporter": "python",
   "pygments_lexer": "ipython3",
   "version": "3.7.4"
  }
 },
 "nbformat": 4,
 "nbformat_minor": 2
}
