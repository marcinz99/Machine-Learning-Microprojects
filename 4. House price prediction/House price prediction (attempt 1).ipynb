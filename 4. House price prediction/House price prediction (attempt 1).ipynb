{
 "cells": [
  {
   "cell_type": "markdown",
   "metadata": {},
   "source": [
    "# House price prediction"
   ]
  },
  {
   "cell_type": "code",
   "execution_count": 1,
   "metadata": {},
   "outputs": [],
   "source": [
    "import pandas as pd\n",
    "import numpy as np\n",
    "import matplotlib.pyplot as plt\n",
    "\n",
    "from sklearn.ensemble import RandomForestRegressor\n",
    "from sklearn.metrics import mean_absolute_error\n",
    "from sklearn.model_selection import train_test_split\n",
    "\n",
    "np.random.seed(12345)"
   ]
  },
  {
   "cell_type": "markdown",
   "metadata": {},
   "source": [
    "#### Preparing the data"
   ]
  },
  {
   "cell_type": "code",
   "execution_count": 2,
   "metadata": {},
   "outputs": [],
   "source": [
    "train_set = pd.read_csv('data/train.csv')\n",
    "test_set = pd.read_csv('data/test.csv')"
   ]
  },
  {
   "cell_type": "code",
   "execution_count": 3,
   "metadata": {},
   "outputs": [
    {
     "data": {
      "text/html": [
       "<div>\n",
       "<style scoped>\n",
       "    .dataframe tbody tr th:only-of-type {\n",
       "        vertical-align: middle;\n",
       "    }\n",
       "\n",
       "    .dataframe tbody tr th {\n",
       "        vertical-align: top;\n",
       "    }\n",
       "\n",
       "    .dataframe thead th {\n",
       "        text-align: right;\n",
       "    }\n",
       "</style>\n",
       "<table border=\"1\" class=\"dataframe\">\n",
       "  <thead>\n",
       "    <tr style=\"text-align: right;\">\n",
       "      <th></th>\n",
       "      <th>Id</th>\n",
       "      <th>MSSubClass</th>\n",
       "      <th>LotFrontage</th>\n",
       "      <th>LotArea</th>\n",
       "      <th>OverallQual</th>\n",
       "      <th>OverallCond</th>\n",
       "      <th>YearBuilt</th>\n",
       "      <th>YearRemodAdd</th>\n",
       "      <th>MasVnrArea</th>\n",
       "      <th>BsmtFinSF1</th>\n",
       "      <th>...</th>\n",
       "      <th>WoodDeckSF</th>\n",
       "      <th>OpenPorchSF</th>\n",
       "      <th>EnclosedPorch</th>\n",
       "      <th>3SsnPorch</th>\n",
       "      <th>ScreenPorch</th>\n",
       "      <th>PoolArea</th>\n",
       "      <th>MiscVal</th>\n",
       "      <th>MoSold</th>\n",
       "      <th>YrSold</th>\n",
       "      <th>SalePrice</th>\n",
       "    </tr>\n",
       "  </thead>\n",
       "  <tbody>\n",
       "    <tr>\n",
       "      <td>count</td>\n",
       "      <td>1460.000000</td>\n",
       "      <td>1460.000000</td>\n",
       "      <td>1201.000000</td>\n",
       "      <td>1460.000000</td>\n",
       "      <td>1460.000000</td>\n",
       "      <td>1460.000000</td>\n",
       "      <td>1460.000000</td>\n",
       "      <td>1460.000000</td>\n",
       "      <td>1452.000000</td>\n",
       "      <td>1460.000000</td>\n",
       "      <td>...</td>\n",
       "      <td>1460.000000</td>\n",
       "      <td>1460.000000</td>\n",
       "      <td>1460.000000</td>\n",
       "      <td>1460.000000</td>\n",
       "      <td>1460.000000</td>\n",
       "      <td>1460.000000</td>\n",
       "      <td>1460.000000</td>\n",
       "      <td>1460.000000</td>\n",
       "      <td>1460.000000</td>\n",
       "      <td>1460.000000</td>\n",
       "    </tr>\n",
       "    <tr>\n",
       "      <td>mean</td>\n",
       "      <td>730.500000</td>\n",
       "      <td>56.897260</td>\n",
       "      <td>70.049958</td>\n",
       "      <td>10516.828082</td>\n",
       "      <td>6.099315</td>\n",
       "      <td>5.575342</td>\n",
       "      <td>1971.267808</td>\n",
       "      <td>1984.865753</td>\n",
       "      <td>103.685262</td>\n",
       "      <td>443.639726</td>\n",
       "      <td>...</td>\n",
       "      <td>94.244521</td>\n",
       "      <td>46.660274</td>\n",
       "      <td>21.954110</td>\n",
       "      <td>3.409589</td>\n",
       "      <td>15.060959</td>\n",
       "      <td>2.758904</td>\n",
       "      <td>43.489041</td>\n",
       "      <td>6.321918</td>\n",
       "      <td>2007.815753</td>\n",
       "      <td>180921.195890</td>\n",
       "    </tr>\n",
       "    <tr>\n",
       "      <td>std</td>\n",
       "      <td>421.610009</td>\n",
       "      <td>42.300571</td>\n",
       "      <td>24.284752</td>\n",
       "      <td>9981.264932</td>\n",
       "      <td>1.382997</td>\n",
       "      <td>1.112799</td>\n",
       "      <td>30.202904</td>\n",
       "      <td>20.645407</td>\n",
       "      <td>181.066207</td>\n",
       "      <td>456.098091</td>\n",
       "      <td>...</td>\n",
       "      <td>125.338794</td>\n",
       "      <td>66.256028</td>\n",
       "      <td>61.119149</td>\n",
       "      <td>29.317331</td>\n",
       "      <td>55.757415</td>\n",
       "      <td>40.177307</td>\n",
       "      <td>496.123024</td>\n",
       "      <td>2.703626</td>\n",
       "      <td>1.328095</td>\n",
       "      <td>79442.502883</td>\n",
       "    </tr>\n",
       "    <tr>\n",
       "      <td>min</td>\n",
       "      <td>1.000000</td>\n",
       "      <td>20.000000</td>\n",
       "      <td>21.000000</td>\n",
       "      <td>1300.000000</td>\n",
       "      <td>1.000000</td>\n",
       "      <td>1.000000</td>\n",
       "      <td>1872.000000</td>\n",
       "      <td>1950.000000</td>\n",
       "      <td>0.000000</td>\n",
       "      <td>0.000000</td>\n",
       "      <td>...</td>\n",
       "      <td>0.000000</td>\n",
       "      <td>0.000000</td>\n",
       "      <td>0.000000</td>\n",
       "      <td>0.000000</td>\n",
       "      <td>0.000000</td>\n",
       "      <td>0.000000</td>\n",
       "      <td>0.000000</td>\n",
       "      <td>1.000000</td>\n",
       "      <td>2006.000000</td>\n",
       "      <td>34900.000000</td>\n",
       "    </tr>\n",
       "    <tr>\n",
       "      <td>25%</td>\n",
       "      <td>365.750000</td>\n",
       "      <td>20.000000</td>\n",
       "      <td>59.000000</td>\n",
       "      <td>7553.500000</td>\n",
       "      <td>5.000000</td>\n",
       "      <td>5.000000</td>\n",
       "      <td>1954.000000</td>\n",
       "      <td>1967.000000</td>\n",
       "      <td>0.000000</td>\n",
       "      <td>0.000000</td>\n",
       "      <td>...</td>\n",
       "      <td>0.000000</td>\n",
       "      <td>0.000000</td>\n",
       "      <td>0.000000</td>\n",
       "      <td>0.000000</td>\n",
       "      <td>0.000000</td>\n",
       "      <td>0.000000</td>\n",
       "      <td>0.000000</td>\n",
       "      <td>5.000000</td>\n",
       "      <td>2007.000000</td>\n",
       "      <td>129975.000000</td>\n",
       "    </tr>\n",
       "    <tr>\n",
       "      <td>50%</td>\n",
       "      <td>730.500000</td>\n",
       "      <td>50.000000</td>\n",
       "      <td>69.000000</td>\n",
       "      <td>9478.500000</td>\n",
       "      <td>6.000000</td>\n",
       "      <td>5.000000</td>\n",
       "      <td>1973.000000</td>\n",
       "      <td>1994.000000</td>\n",
       "      <td>0.000000</td>\n",
       "      <td>383.500000</td>\n",
       "      <td>...</td>\n",
       "      <td>0.000000</td>\n",
       "      <td>25.000000</td>\n",
       "      <td>0.000000</td>\n",
       "      <td>0.000000</td>\n",
       "      <td>0.000000</td>\n",
       "      <td>0.000000</td>\n",
       "      <td>0.000000</td>\n",
       "      <td>6.000000</td>\n",
       "      <td>2008.000000</td>\n",
       "      <td>163000.000000</td>\n",
       "    </tr>\n",
       "    <tr>\n",
       "      <td>75%</td>\n",
       "      <td>1095.250000</td>\n",
       "      <td>70.000000</td>\n",
       "      <td>80.000000</td>\n",
       "      <td>11601.500000</td>\n",
       "      <td>7.000000</td>\n",
       "      <td>6.000000</td>\n",
       "      <td>2000.000000</td>\n",
       "      <td>2004.000000</td>\n",
       "      <td>166.000000</td>\n",
       "      <td>712.250000</td>\n",
       "      <td>...</td>\n",
       "      <td>168.000000</td>\n",
       "      <td>68.000000</td>\n",
       "      <td>0.000000</td>\n",
       "      <td>0.000000</td>\n",
       "      <td>0.000000</td>\n",
       "      <td>0.000000</td>\n",
       "      <td>0.000000</td>\n",
       "      <td>8.000000</td>\n",
       "      <td>2009.000000</td>\n",
       "      <td>214000.000000</td>\n",
       "    </tr>\n",
       "    <tr>\n",
       "      <td>max</td>\n",
       "      <td>1460.000000</td>\n",
       "      <td>190.000000</td>\n",
       "      <td>313.000000</td>\n",
       "      <td>215245.000000</td>\n",
       "      <td>10.000000</td>\n",
       "      <td>9.000000</td>\n",
       "      <td>2010.000000</td>\n",
       "      <td>2010.000000</td>\n",
       "      <td>1600.000000</td>\n",
       "      <td>5644.000000</td>\n",
       "      <td>...</td>\n",
       "      <td>857.000000</td>\n",
       "      <td>547.000000</td>\n",
       "      <td>552.000000</td>\n",
       "      <td>508.000000</td>\n",
       "      <td>480.000000</td>\n",
       "      <td>738.000000</td>\n",
       "      <td>15500.000000</td>\n",
       "      <td>12.000000</td>\n",
       "      <td>2010.000000</td>\n",
       "      <td>755000.000000</td>\n",
       "    </tr>\n",
       "  </tbody>\n",
       "</table>\n",
       "<p>8 rows × 38 columns</p>\n",
       "</div>"
      ],
      "text/plain": [
       "                Id   MSSubClass  LotFrontage        LotArea  OverallQual  \\\n",
       "count  1460.000000  1460.000000  1201.000000    1460.000000  1460.000000   \n",
       "mean    730.500000    56.897260    70.049958   10516.828082     6.099315   \n",
       "std     421.610009    42.300571    24.284752    9981.264932     1.382997   \n",
       "min       1.000000    20.000000    21.000000    1300.000000     1.000000   \n",
       "25%     365.750000    20.000000    59.000000    7553.500000     5.000000   \n",
       "50%     730.500000    50.000000    69.000000    9478.500000     6.000000   \n",
       "75%    1095.250000    70.000000    80.000000   11601.500000     7.000000   \n",
       "max    1460.000000   190.000000   313.000000  215245.000000    10.000000   \n",
       "\n",
       "       OverallCond    YearBuilt  YearRemodAdd   MasVnrArea   BsmtFinSF1  ...  \\\n",
       "count  1460.000000  1460.000000   1460.000000  1452.000000  1460.000000  ...   \n",
       "mean      5.575342  1971.267808   1984.865753   103.685262   443.639726  ...   \n",
       "std       1.112799    30.202904     20.645407   181.066207   456.098091  ...   \n",
       "min       1.000000  1872.000000   1950.000000     0.000000     0.000000  ...   \n",
       "25%       5.000000  1954.000000   1967.000000     0.000000     0.000000  ...   \n",
       "50%       5.000000  1973.000000   1994.000000     0.000000   383.500000  ...   \n",
       "75%       6.000000  2000.000000   2004.000000   166.000000   712.250000  ...   \n",
       "max       9.000000  2010.000000   2010.000000  1600.000000  5644.000000  ...   \n",
       "\n",
       "        WoodDeckSF  OpenPorchSF  EnclosedPorch    3SsnPorch  ScreenPorch  \\\n",
       "count  1460.000000  1460.000000    1460.000000  1460.000000  1460.000000   \n",
       "mean     94.244521    46.660274      21.954110     3.409589    15.060959   \n",
       "std     125.338794    66.256028      61.119149    29.317331    55.757415   \n",
       "min       0.000000     0.000000       0.000000     0.000000     0.000000   \n",
       "25%       0.000000     0.000000       0.000000     0.000000     0.000000   \n",
       "50%       0.000000    25.000000       0.000000     0.000000     0.000000   \n",
       "75%     168.000000    68.000000       0.000000     0.000000     0.000000   \n",
       "max     857.000000   547.000000     552.000000   508.000000   480.000000   \n",
       "\n",
       "          PoolArea       MiscVal       MoSold       YrSold      SalePrice  \n",
       "count  1460.000000   1460.000000  1460.000000  1460.000000    1460.000000  \n",
       "mean      2.758904     43.489041     6.321918  2007.815753  180921.195890  \n",
       "std      40.177307    496.123024     2.703626     1.328095   79442.502883  \n",
       "min       0.000000      0.000000     1.000000  2006.000000   34900.000000  \n",
       "25%       0.000000      0.000000     5.000000  2007.000000  129975.000000  \n",
       "50%       0.000000      0.000000     6.000000  2008.000000  163000.000000  \n",
       "75%       0.000000      0.000000     8.000000  2009.000000  214000.000000  \n",
       "max     738.000000  15500.000000    12.000000  2010.000000  755000.000000  \n",
       "\n",
       "[8 rows x 38 columns]"
      ]
     },
     "execution_count": 3,
     "metadata": {},
     "output_type": "execute_result"
    }
   ],
   "source": [
    "overview = train_set.describe()\n",
    "test_overview = test_set.describe()\n",
    "overview"
   ]
  },
  {
   "cell_type": "code",
   "execution_count": 4,
   "metadata": {},
   "outputs": [
    {
     "name": "stdout",
     "output_type": "stream",
     "text": [
      "All features:\n",
      "Index(['Id', 'MSSubClass', 'MSZoning', 'LotFrontage', 'LotArea', 'Street',\n",
      "       'Alley', 'LotShape', 'LandContour', 'Utilities', 'LotConfig',\n",
      "       'LandSlope', 'Neighborhood', 'Condition1', 'Condition2', 'BldgType',\n",
      "       'HouseStyle', 'OverallQual', 'OverallCond', 'YearBuilt', 'YearRemodAdd',\n",
      "       'RoofStyle', 'RoofMatl', 'Exterior1st', 'Exterior2nd', 'MasVnrType',\n",
      "       'MasVnrArea', 'ExterQual', 'ExterCond', 'Foundation', 'BsmtQual',\n",
      "       'BsmtCond', 'BsmtExposure', 'BsmtFinType1', 'BsmtFinSF1',\n",
      "       'BsmtFinType2', 'BsmtFinSF2', 'BsmtUnfSF', 'TotalBsmtSF', 'Heating',\n",
      "       'HeatingQC', 'CentralAir', 'Electrical', '1stFlrSF', '2ndFlrSF',\n",
      "       'LowQualFinSF', 'GrLivArea', 'BsmtFullBath', 'BsmtHalfBath', 'FullBath',\n",
      "       'HalfBath', 'BedroomAbvGr', 'KitchenAbvGr', 'KitchenQual',\n",
      "       'TotRmsAbvGrd', 'Functional', 'Fireplaces', 'FireplaceQu', 'GarageType',\n",
      "       'GarageYrBlt', 'GarageFinish', 'GarageCars', 'GarageArea', 'GarageQual',\n",
      "       'GarageCond', 'PavedDrive', 'WoodDeckSF', 'OpenPorchSF',\n",
      "       'EnclosedPorch', '3SsnPorch', 'ScreenPorch', 'PoolArea', 'PoolQC',\n",
      "       'Fence', 'MiscFeature', 'MiscVal', 'MoSold', 'YrSold', 'SaleType',\n",
      "       'SaleCondition', 'SalePrice'],\n",
      "      dtype='object')\n",
      "\n",
      "Features in overview:\n",
      "Index(['Id', 'MSSubClass', 'LotFrontage', 'LotArea', 'OverallQual',\n",
      "       'OverallCond', 'YearBuilt', 'YearRemodAdd', 'MasVnrArea', 'BsmtFinSF1',\n",
      "       'BsmtFinSF2', 'BsmtUnfSF', 'TotalBsmtSF', '1stFlrSF', '2ndFlrSF',\n",
      "       'LowQualFinSF', 'GrLivArea', 'BsmtFullBath', 'BsmtHalfBath', 'FullBath',\n",
      "       'HalfBath', 'BedroomAbvGr', 'KitchenAbvGr', 'TotRmsAbvGrd',\n",
      "       'Fireplaces', 'GarageYrBlt', 'GarageCars', 'GarageArea', 'WoodDeckSF',\n",
      "       'OpenPorchSF', 'EnclosedPorch', '3SsnPorch', 'ScreenPorch', 'PoolArea',\n",
      "       'MiscVal', 'MoSold', 'YrSold', 'SalePrice'],\n",
      "      dtype='object')\n"
     ]
    }
   ],
   "source": [
    "print(\"All features:\\n{}\".format(train_set.columns))\n",
    "print(\"\\nFeatures in overview:\\n{}\".format(overview.columns))"
   ]
  },
  {
   "cell_type": "markdown",
   "metadata": {},
   "source": [
    "In the overview there are noticeably fewer features than in the whole set. The reason for that is mostly those excluded features being non-numerical. For the sake of simplicity we will only consider those features listed in the overview."
   ]
  },
  {
   "cell_type": "code",
   "execution_count": 5,
   "metadata": {},
   "outputs": [],
   "source": [
    "train_set = train_set[overview.columns.tolist()]\n",
    "test_set = test_set[overview.columns.tolist()[:-1]]"
   ]
  },
  {
   "cell_type": "code",
   "execution_count": 6,
   "metadata": {},
   "outputs": [
    {
     "data": {
      "text/plain": [
       "Id               1460.0\n",
       "MSSubClass       1460.0\n",
       "LotFrontage      1201.0\n",
       "LotArea          1460.0\n",
       "OverallQual      1460.0\n",
       "OverallCond      1460.0\n",
       "YearBuilt        1460.0\n",
       "YearRemodAdd     1460.0\n",
       "MasVnrArea       1452.0\n",
       "BsmtFinSF1       1460.0\n",
       "BsmtFinSF2       1460.0\n",
       "BsmtUnfSF        1460.0\n",
       "TotalBsmtSF      1460.0\n",
       "1stFlrSF         1460.0\n",
       "2ndFlrSF         1460.0\n",
       "LowQualFinSF     1460.0\n",
       "GrLivArea        1460.0\n",
       "BsmtFullBath     1460.0\n",
       "BsmtHalfBath     1460.0\n",
       "FullBath         1460.0\n",
       "HalfBath         1460.0\n",
       "BedroomAbvGr     1460.0\n",
       "KitchenAbvGr     1460.0\n",
       "TotRmsAbvGrd     1460.0\n",
       "Fireplaces       1460.0\n",
       "GarageYrBlt      1379.0\n",
       "GarageCars       1460.0\n",
       "GarageArea       1460.0\n",
       "WoodDeckSF       1460.0\n",
       "OpenPorchSF      1460.0\n",
       "EnclosedPorch    1460.0\n",
       "3SsnPorch        1460.0\n",
       "ScreenPorch      1460.0\n",
       "PoolArea         1460.0\n",
       "MiscVal          1460.0\n",
       "MoSold           1460.0\n",
       "YrSold           1460.0\n",
       "SalePrice        1460.0\n",
       "Name: count, dtype: float64"
      ]
     },
     "execution_count": 6,
     "metadata": {},
     "output_type": "execute_result"
    }
   ],
   "source": [
    "overview.loc['count']"
   ]
  },
  {
   "cell_type": "markdown",
   "metadata": {},
   "source": [
    "Apparently some values are missing. Nevertheless, the amount of missing data is not that frightening, so we can drop those rows."
   ]
  },
  {
   "cell_type": "code",
   "execution_count": 7,
   "metadata": {},
   "outputs": [
    {
     "data": {
      "text/plain": [
       "1121.0"
      ]
     },
     "execution_count": 7,
     "metadata": {},
     "output_type": "execute_result"
    }
   ],
   "source": [
    "train_set_nadropped = train_set.dropna(how='any')\n",
    "train_set_nadropped.describe().loc['count'][0]"
   ]
  },
  {
   "cell_type": "markdown",
   "metadata": {},
   "source": [
    "Indeed, we are left with 1121 rows (out of 1460), which is fine enough for parameter tuning purposes."
   ]
  },
  {
   "cell_type": "code",
   "execution_count": 8,
   "metadata": {},
   "outputs": [],
   "source": [
    "X = train_set_nadropped.drop('SalePrice', axis=1)\n",
    "y = train_set_nadropped['SalePrice']"
   ]
  },
  {
   "cell_type": "code",
   "execution_count": 9,
   "metadata": {},
   "outputs": [],
   "source": [
    "train_X, val_X, train_y, val_y = train_test_split(X, y, random_state=1)"
   ]
  },
  {
   "cell_type": "markdown",
   "metadata": {},
   "source": [
    "#### Model foundation\n",
    "\n",
    "In order to predict the house prices the random forest regressor will be used. Another advantage of such an approach is that it deals well with the missing values.\n",
    "\n",
    "Moreover, due to high number of features in a given set of data, we will extract 8 or 9 of those (giving the best results) for the final model.\n",
    "\n",
    "The accuracy will be measured using the Mean Absolut Error estimate (MAE)."
   ]
  },
  {
   "cell_type": "code",
   "execution_count": 10,
   "metadata": {},
   "outputs": [],
   "source": [
    "def get_mae_parameterwise(\n",
    "        train_X=train_X, val_X=val_X, train_y=train_y, val_y=val_y, **kwargs):\n",
    "    \n",
    "    model = RandomForestRegressor(**kwargs, random_state=0)\n",
    "    model.fit(train_X, train_y)\n",
    "    preds_val = model.predict(val_X)\n",
    "    mae = mean_absolute_error(val_y, preds_val)\n",
    "    return(mae)"
   ]
  },
  {
   "cell_type": "markdown",
   "metadata": {},
   "source": [
    "#### Extracting the most indicative features"
   ]
  },
  {
   "cell_type": "markdown",
   "metadata": {},
   "source": [
    "First off, we are going to choose the best subset of features to predict, that is yielding the lowest MAE. We will draw 100 times random subsets of features and test their score. The subset with the lowest MAE will be used in next step. "
   ]
  },
  {
   "cell_type": "code",
   "execution_count": 11,
   "metadata": {},
   "outputs": [],
   "source": [
    "# We exclude 'Id' and 'SalePrice' features (obviously)\n",
    "features = overview.columns[1:-1].tolist()"
   ]
  },
  {
   "cell_type": "code",
   "execution_count": 12,
   "metadata": {},
   "outputs": [
    {
     "name": "stdout",
     "output_type": "stream",
     "text": [
      "[10/250] done. Best MAE: 23035.8415599051.\n",
      "[20/250] done. Best MAE: 23035.8415599051.\n",
      "[30/250] done. Best MAE: 20682.804356888664.\n",
      "[40/250] done. Best MAE: 20682.804356888664.\n",
      "[50/250] done. Best MAE: 20682.804356888664.\n",
      "[60/250] done. Best MAE: 20682.804356888664.\n",
      "[70/250] done. Best MAE: 20682.804356888664.\n",
      "[80/250] done. Best MAE: 20682.804356888664.\n",
      "[90/250] done. Best MAE: 20682.804356888664.\n",
      "[100/250] done. Best MAE: 20682.804356888664.\n",
      "[110/250] done. Best MAE: 20682.804356888664.\n",
      "[120/250] done. Best MAE: 20682.804356888664.\n",
      "[130/250] done. Best MAE: 20682.804356888664.\n",
      "[140/250] done. Best MAE: 20682.804356888664.\n",
      "[150/250] done. Best MAE: 19626.377366548048.\n",
      "[160/250] done. Best MAE: 19626.377366548048.\n",
      "[170/250] done. Best MAE: 19626.377366548048.\n",
      "[180/250] done. Best MAE: 19626.377366548048.\n",
      "[190/250] done. Best MAE: 19626.377366548048.\n",
      "[200/250] done. Best MAE: 19626.377366548048.\n",
      "[210/250] done. Best MAE: 19626.377366548048.\n",
      "[220/250] done. Best MAE: 19626.377366548048.\n",
      "[230/250] done. Best MAE: 19626.377366548048.\n",
      "[240/250] done. Best MAE: 19626.377366548048.\n",
      "[250/250] done. Best MAE: 19626.377366548048.\n"
     ]
    }
   ],
   "source": [
    "n_prechoosing = 250\n",
    "lowest_mae = None\n",
    "best_subset = None\n",
    "best_idxs = None\n",
    "\n",
    "for i in range(n_prechoosing):\n",
    "    idxs = sorted(np.random.choice(len(features), 8, replace=False))\n",
    "    subset = np.take(features, idxs).tolist()\n",
    "    \n",
    "    X_sub = X[subset]\n",
    "    train_X_sub, val_X_sub, train_y_sub, val_y_sub = (\n",
    "        train_test_split(X_sub, y, random_state=1)\n",
    "    )\n",
    "    mae = get_mae_parameterwise(\n",
    "        train_X_sub, val_X_sub, train_y_sub, val_y_sub,\n",
    "        max_leaf_nodes=None, n_estimators=100\n",
    "    )\n",
    "    if (not best_subset) or mae < lowest_mae:\n",
    "        best_subset = subset\n",
    "        best_idxs = idxs\n",
    "        lowest_mae = mae\n",
    "    \n",
    "    if (i+1) % 10 == 0:\n",
    "        print(\"[{}/{}] done. Best MAE: {}.\".format((i+1), n_prechoosing, lowest_mae))"
   ]
  },
  {
   "cell_type": "code",
   "execution_count": 13,
   "metadata": {},
   "outputs": [
    {
     "name": "stdout",
     "output_type": "stream",
     "text": [
      "So far best subset's MAE: 19626.377366548048\n",
      "['MSSubClass', 'LotArea', 'YearBuilt', 'BsmtFinSF1', 'LowQualFinSF', 'GrLivArea', 'GarageArea', 'MiscVal']\n"
     ]
    }
   ],
   "source": [
    "print(\"So far best subset's MAE:\", lowest_mae)\n",
    "print(best_subset)"
   ]
  },
  {
   "cell_type": "markdown",
   "metadata": {},
   "source": [
    "Now, we will try replacing every feature in the set in order to find the best MAE."
   ]
  },
  {
   "cell_type": "code",
   "execution_count": 14,
   "metadata": {},
   "outputs": [],
   "source": [
    "currently_in_use = [(1 if i in best_idxs else 0) for i in range(len(features))]\n",
    "currently_in_use = np.array(currently_in_use, dtype=np.int32)"
   ]
  },
  {
   "cell_type": "code",
   "execution_count": 15,
   "metadata": {},
   "outputs": [
    {
     "name": "stdout",
     "output_type": "stream",
     "text": [
      "[1/8] done. Best MAE: 19626.377366548048.\n",
      "[2/8] done. Best MAE: 19240.92109430605.\n",
      "[3/8] done. Best MAE: 19240.92109430605.\n",
      "[4/8] done. Best MAE: 19240.92109430605.\n",
      "[5/8] done. Best MAE: 18609.26140569395.\n",
      "[6/8] done. Best MAE: 18609.26140569395.\n",
      "[7/8] done. Best MAE: 18609.26140569395.\n",
      "[8/8] done. Best MAE: 18225.80681494662.\n",
      "Iteration [1] done.\n",
      "[1/8] done. Best MAE: 18225.80681494662.\n",
      "[2/8] done. Best MAE: 18225.80681494662.\n",
      "[3/8] done. Best MAE: 18225.80681494662.\n",
      "[4/8] done. Best MAE: 18225.80681494662.\n",
      "[5/8] done. Best MAE: 18225.80681494662.\n",
      "[6/8] done. Best MAE: 18225.80681494662.\n",
      "[7/8] done. Best MAE: 18225.80681494662.\n",
      "[8/8] done. Best MAE: 18225.80681494662.\n",
      "Iteration [2] done.\n",
      "[1/8] done. Best MAE: 18225.80681494662.\n",
      "[2/8] done. Best MAE: 18225.80681494662.\n",
      "[3/8] done. Best MAE: 18225.80681494662.\n",
      "[4/8] done. Best MAE: 18225.80681494662.\n",
      "[5/8] done. Best MAE: 18225.80681494662.\n",
      "[6/8] done. Best MAE: 18225.80681494662.\n",
      "[7/8] done. Best MAE: 18225.80681494662.\n",
      "[8/8] done. Best MAE: 18225.80681494662.\n",
      "Iteration [3] done.\n"
     ]
    }
   ],
   "source": [
    "for u in range(3):\n",
    "    for i in range(len(best_idxs)):\n",
    "        current = best_idxs[i]\n",
    "\n",
    "        for j in range(len(currently_in_use)):\n",
    "            if not currently_in_use[j]:\n",
    "                idxs = list(best_idxs)\n",
    "                idxs[i] = j\n",
    "                subset = np.take(features, idxs).tolist()\n",
    "\n",
    "                X_sub = X[subset]\n",
    "                train_X_sub, val_X_sub, train_y_sub, val_y_sub = (\n",
    "                    train_test_split(X_sub, y, random_state=1)\n",
    "                )\n",
    "                mae = get_mae_parameterwise(\n",
    "                    train_X_sub, val_X_sub, train_y_sub, val_y_sub,\n",
    "                    max_leaf_nodes=None, n_estimators=100\n",
    "                )\n",
    "                if (not best_subset) or mae < lowest_mae:\n",
    "                    best_subset = subset\n",
    "                    best_idxs = idxs\n",
    "                    lowest_mae = mae\n",
    "                    currently_in_use[current] = 0\n",
    "                    currently_in_use[j] = 1\n",
    "                    current = j\n",
    "\n",
    "        print(\"[{}/{}] done. Best MAE: {}.\".format((i+1), len(best_idxs), lowest_mae))\n",
    "    print(\"Iteration [{}] done.\".format(u+1))"
   ]
  },
  {
   "cell_type": "code",
   "execution_count": 16,
   "metadata": {},
   "outputs": [
    {
     "name": "stdout",
     "output_type": "stream",
     "text": [
      "So far best subset's MAE: 18225.80681494662\n",
      "['MSSubClass', 'OverallCond', 'YearBuilt', 'BsmtFinSF1', 'Fireplaces', 'GrLivArea', 'GarageArea', 'BsmtFinSF2']\n"
     ]
    }
   ],
   "source": [
    "print(\"So far best subset's MAE:\", lowest_mae)\n",
    "print(best_subset)"
   ]
  },
  {
   "cell_type": "markdown",
   "metadata": {},
   "source": [
    "Examine if adding 9th feature to the model can possibly improve the error rate."
   ]
  },
  {
   "cell_type": "code",
   "execution_count": 17,
   "metadata": {},
   "outputs": [],
   "source": [
    "new_best_idxs = None\n",
    "\n",
    "for i in range(len(currently_in_use)):\n",
    "    if currently_in_use[i]: continue\n",
    "        \n",
    "    idxs = sorted(list(best_idxs) + [i, j])\n",
    "    subset = np.take(features, idxs).tolist()\n",
    "\n",
    "    X_sub = X[subset]\n",
    "    train_X_sub, val_X_sub, train_y_sub, val_y_sub = (\n",
    "    train_test_split(X_sub, y, random_state=1)\n",
    "    )\n",
    "    mae = get_mae_parameterwise(\n",
    "        train_X_sub, val_X_sub, train_y_sub, val_y_sub,\n",
    "        max_leaf_nodes=None, n_estimators=100\n",
    "    )\n",
    "    if (not best_subset) or mae < lowest_mae:\n",
    "        best_subset = subset\n",
    "        new_best_idxs = idxs\n",
    "        lowest_mae = mae\n",
    "        print(\"New best MAE: {}\".format(lowest_mae))\n",
    "\n",
    "if new_best_idxs:\n",
    "    best_idxs = new_best_idxs"
   ]
  },
  {
   "cell_type": "code",
   "execution_count": 18,
   "metadata": {},
   "outputs": [
    {
     "name": "stdout",
     "output_type": "stream",
     "text": [
      "Best found subset's MAE: 18225.80681494662\n",
      "['MSSubClass', 'OverallCond', 'YearBuilt', 'BsmtFinSF1', 'Fireplaces', 'GrLivArea', 'GarageArea', 'BsmtFinSF2']\n"
     ]
    }
   ],
   "source": [
    "print(\"Best found subset's MAE:\", lowest_mae)\n",
    "print(best_subset)"
   ]
  },
  {
   "cell_type": "markdown",
   "metadata": {},
   "source": [
    "#### Tuning Random Forest parameters"
   ]
  },
  {
   "cell_type": "markdown",
   "metadata": {},
   "source": [
    "We will tune following parameters:\n",
    "* criterion\n",
    "* max_leaf_nodes\n",
    "* n_estimators\n",
    "\n",
    "However, with constrained set of features, we can reassess the training data and reclaim some of the former NA rows."
   ]
  },
  {
   "cell_type": "code",
   "execution_count": 19,
   "metadata": {},
   "outputs": [
    {
     "data": {
      "text/html": [
       "<div>\n",
       "<style scoped>\n",
       "    .dataframe tbody tr th:only-of-type {\n",
       "        vertical-align: middle;\n",
       "    }\n",
       "\n",
       "    .dataframe tbody tr th {\n",
       "        vertical-align: top;\n",
       "    }\n",
       "\n",
       "    .dataframe thead th {\n",
       "        text-align: right;\n",
       "    }\n",
       "</style>\n",
       "<table border=\"1\" class=\"dataframe\">\n",
       "  <thead>\n",
       "    <tr style=\"text-align: right;\">\n",
       "      <th></th>\n",
       "      <th>MSSubClass</th>\n",
       "      <th>OverallCond</th>\n",
       "      <th>YearBuilt</th>\n",
       "      <th>BsmtFinSF1</th>\n",
       "      <th>Fireplaces</th>\n",
       "      <th>GrLivArea</th>\n",
       "      <th>GarageArea</th>\n",
       "      <th>BsmtFinSF2</th>\n",
       "      <th>SalePrice</th>\n",
       "    </tr>\n",
       "  </thead>\n",
       "  <tbody>\n",
       "    <tr>\n",
       "      <td>0</td>\n",
       "      <td>60</td>\n",
       "      <td>5</td>\n",
       "      <td>2003</td>\n",
       "      <td>706</td>\n",
       "      <td>0</td>\n",
       "      <td>1710</td>\n",
       "      <td>548</td>\n",
       "      <td>0</td>\n",
       "      <td>208500</td>\n",
       "    </tr>\n",
       "    <tr>\n",
       "      <td>1</td>\n",
       "      <td>20</td>\n",
       "      <td>8</td>\n",
       "      <td>1976</td>\n",
       "      <td>978</td>\n",
       "      <td>1</td>\n",
       "      <td>1262</td>\n",
       "      <td>460</td>\n",
       "      <td>0</td>\n",
       "      <td>181500</td>\n",
       "    </tr>\n",
       "    <tr>\n",
       "      <td>2</td>\n",
       "      <td>60</td>\n",
       "      <td>5</td>\n",
       "      <td>2001</td>\n",
       "      <td>486</td>\n",
       "      <td>1</td>\n",
       "      <td>1786</td>\n",
       "      <td>608</td>\n",
       "      <td>0</td>\n",
       "      <td>223500</td>\n",
       "    </tr>\n",
       "    <tr>\n",
       "      <td>3</td>\n",
       "      <td>70</td>\n",
       "      <td>5</td>\n",
       "      <td>1915</td>\n",
       "      <td>216</td>\n",
       "      <td>1</td>\n",
       "      <td>1717</td>\n",
       "      <td>642</td>\n",
       "      <td>0</td>\n",
       "      <td>140000</td>\n",
       "    </tr>\n",
       "    <tr>\n",
       "      <td>4</td>\n",
       "      <td>60</td>\n",
       "      <td>5</td>\n",
       "      <td>2000</td>\n",
       "      <td>655</td>\n",
       "      <td>1</td>\n",
       "      <td>2198</td>\n",
       "      <td>836</td>\n",
       "      <td>0</td>\n",
       "      <td>250000</td>\n",
       "    </tr>\n",
       "    <tr>\n",
       "      <td>...</td>\n",
       "      <td>...</td>\n",
       "      <td>...</td>\n",
       "      <td>...</td>\n",
       "      <td>...</td>\n",
       "      <td>...</td>\n",
       "      <td>...</td>\n",
       "      <td>...</td>\n",
       "      <td>...</td>\n",
       "      <td>...</td>\n",
       "    </tr>\n",
       "    <tr>\n",
       "      <td>1455</td>\n",
       "      <td>60</td>\n",
       "      <td>5</td>\n",
       "      <td>1999</td>\n",
       "      <td>0</td>\n",
       "      <td>1</td>\n",
       "      <td>1647</td>\n",
       "      <td>460</td>\n",
       "      <td>0</td>\n",
       "      <td>175000</td>\n",
       "    </tr>\n",
       "    <tr>\n",
       "      <td>1456</td>\n",
       "      <td>20</td>\n",
       "      <td>6</td>\n",
       "      <td>1978</td>\n",
       "      <td>790</td>\n",
       "      <td>2</td>\n",
       "      <td>2073</td>\n",
       "      <td>500</td>\n",
       "      <td>163</td>\n",
       "      <td>210000</td>\n",
       "    </tr>\n",
       "    <tr>\n",
       "      <td>1457</td>\n",
       "      <td>70</td>\n",
       "      <td>9</td>\n",
       "      <td>1941</td>\n",
       "      <td>275</td>\n",
       "      <td>2</td>\n",
       "      <td>2340</td>\n",
       "      <td>252</td>\n",
       "      <td>0</td>\n",
       "      <td>266500</td>\n",
       "    </tr>\n",
       "    <tr>\n",
       "      <td>1458</td>\n",
       "      <td>20</td>\n",
       "      <td>6</td>\n",
       "      <td>1950</td>\n",
       "      <td>49</td>\n",
       "      <td>0</td>\n",
       "      <td>1078</td>\n",
       "      <td>240</td>\n",
       "      <td>1029</td>\n",
       "      <td>142125</td>\n",
       "    </tr>\n",
       "    <tr>\n",
       "      <td>1459</td>\n",
       "      <td>20</td>\n",
       "      <td>6</td>\n",
       "      <td>1965</td>\n",
       "      <td>830</td>\n",
       "      <td>0</td>\n",
       "      <td>1256</td>\n",
       "      <td>276</td>\n",
       "      <td>290</td>\n",
       "      <td>147500</td>\n",
       "    </tr>\n",
       "  </tbody>\n",
       "</table>\n",
       "<p>1460 rows × 9 columns</p>\n",
       "</div>"
      ],
      "text/plain": [
       "      MSSubClass  OverallCond  YearBuilt  BsmtFinSF1  Fireplaces  GrLivArea  \\\n",
       "0             60            5       2003         706           0       1710   \n",
       "1             20            8       1976         978           1       1262   \n",
       "2             60            5       2001         486           1       1786   \n",
       "3             70            5       1915         216           1       1717   \n",
       "4             60            5       2000         655           1       2198   \n",
       "...          ...          ...        ...         ...         ...        ...   \n",
       "1455          60            5       1999           0           1       1647   \n",
       "1456          20            6       1978         790           2       2073   \n",
       "1457          70            9       1941         275           2       2340   \n",
       "1458          20            6       1950          49           0       1078   \n",
       "1459          20            6       1965         830           0       1256   \n",
       "\n",
       "      GarageArea  BsmtFinSF2  SalePrice  \n",
       "0            548           0     208500  \n",
       "1            460           0     181500  \n",
       "2            608           0     223500  \n",
       "3            642           0     140000  \n",
       "4            836           0     250000  \n",
       "...          ...         ...        ...  \n",
       "1455         460           0     175000  \n",
       "1456         500         163     210000  \n",
       "1457         252           0     266500  \n",
       "1458         240        1029     142125  \n",
       "1459         276         290     147500  \n",
       "\n",
       "[1460 rows x 9 columns]"
      ]
     },
     "execution_count": 19,
     "metadata": {},
     "output_type": "execute_result"
    }
   ],
   "source": [
    "train_set_nadropped = train_set[best_subset + ['SalePrice']].dropna(how='any')\n",
    "train_set_nadropped"
   ]
  },
  {
   "cell_type": "code",
   "execution_count": 20,
   "metadata": {},
   "outputs": [],
   "source": [
    "X = train_set_nadropped.drop('SalePrice', axis=1)\n",
    "y = train_set_nadropped['SalePrice']"
   ]
  },
  {
   "cell_type": "code",
   "execution_count": 21,
   "metadata": {},
   "outputs": [],
   "source": [
    "train_X, val_X, train_y, val_y = train_test_split(X, y, random_state=1)"
   ]
  },
  {
   "cell_type": "markdown",
   "metadata": {},
   "source": [
    "#### Parameter tuning: criterion"
   ]
  },
  {
   "cell_type": "code",
   "execution_count": 22,
   "metadata": {},
   "outputs": [],
   "source": [
    "# MAE criterion\n",
    "mae_a = get_mae_parameterwise(train_X, val_X, train_y, val_y, \n",
    "                              criterion='mae', max_leaf_nodes=None, n_estimators=100)\n",
    "\n",
    "# MSE criterion\n",
    "mae_s = get_mae_parameterwise(train_X, val_X, train_y, val_y,\n",
    "                              criterion='mse', max_leaf_nodes=None, n_estimators=100)"
   ]
  },
  {
   "cell_type": "code",
   "execution_count": 23,
   "metadata": {},
   "outputs": [
    {
     "name": "stdout",
     "output_type": "stream",
     "text": [
      "MAE criterion: 18417.309328767125\n",
      "MSE criterion: 18248.91902413568\n"
     ]
    }
   ],
   "source": [
    "print(\"MAE criterion:\", mae_a)\n",
    "print(\"MSE criterion:\", mae_s)"
   ]
  },
  {
   "cell_type": "markdown",
   "metadata": {},
   "source": [
    "We choose best of the above."
   ]
  },
  {
   "cell_type": "code",
   "execution_count": 24,
   "metadata": {},
   "outputs": [],
   "source": [
    "best_criterion = 'mae' if mae_a < mae_s else 'mse'"
   ]
  },
  {
   "cell_type": "markdown",
   "metadata": {},
   "source": [
    "#### Parameter tuning: max_leaf_nodes"
   ]
  },
  {
   "cell_type": "code",
   "execution_count": 25,
   "metadata": {},
   "outputs": [],
   "source": [
    "xs = np.arange(20, 151, 10, dtype=np.int32)"
   ]
  },
  {
   "cell_type": "code",
   "execution_count": 26,
   "metadata": {},
   "outputs": [],
   "source": [
    "maes = [get_mae_parameterwise(train_X, val_X, train_y, val_y,\n",
    "                              criterion=best_criterion, max_leaf_nodes=nodes, n_estimators=100)\n",
    "        for nodes in xs]"
   ]
  },
  {
   "cell_type": "code",
   "execution_count": 27,
   "metadata": {},
   "outputs": [
    {
     "data": {
      "image/png": "[encoded data removed]",
      "text/plain": [
       "<Figure size 720x432 with 1 Axes>"
      ]
     },
     "metadata": {
      "needs_background": "light"
     },
     "output_type": "display_data"
    }
   ],
   "source": [
    "fig = plt.figure(figsize=(10, 6))\n",
    "plt.plot(xs, maes)\n",
    "plt.show()"
   ]
  },
  {
   "cell_type": "code",
   "execution_count": 28,
   "metadata": {},
   "outputs": [
    {
     "name": "stdout",
     "output_type": "stream",
     "text": [
      "150\n"
     ]
    }
   ],
   "source": [
    "best_max_nodes = xs[np.argmin(maes)]\n",
    "print(best_max_nodes)\n",
    "\n",
    "if best_max_nodes >= 140:\n",
    "    best_max_nodes = None"
   ]
  },
  {
   "cell_type": "markdown",
   "metadata": {},
   "source": [
    "#### Parameter tuning: n_estimators"
   ]
  },
  {
   "cell_type": "code",
   "execution_count": 29,
   "metadata": {},
   "outputs": [],
   "source": [
    "xs = np.arange(50, 201, 10, dtype=np.int32)"
   ]
  },
  {
   "cell_type": "code",
   "execution_count": 30,
   "metadata": {},
   "outputs": [],
   "source": [
    "maes = [get_mae_parameterwise(train_X, val_X, train_y, val_y,\n",
    "                              criterion=best_criterion, max_leaf_nodes=best_max_nodes, n_estimators=ests)\n",
    "        for ests in xs]"
   ]
  },
  {
   "cell_type": "code",
   "execution_count": 31,
   "metadata": {},
   "outputs": [
    {
     "data": {
      "image/png": "[encoded data removed]",
      "text/plain": [
       "<Figure size 720x432 with 1 Axes>"
      ]
     },
     "metadata": {
      "needs_background": "light"
     },
     "output_type": "display_data"
    }
   ],
   "source": [
    "fig = plt.figure(figsize=(10, 6))\n",
    "plt.plot(xs, maes)\n",
    "plt.show()"
   ]
  },
  {
   "cell_type": "code",
   "execution_count": 32,
   "metadata": {},
   "outputs": [
    {
     "name": "stdout",
     "output_type": "stream",
     "text": [
      "160\n"
     ]
    }
   ],
   "source": [
    "best_n_ests = xs[np.argmin(maes)]\n",
    "print(best_n_ests)"
   ]
  },
  {
   "cell_type": "markdown",
   "metadata": {},
   "source": [
    "#### Model testing"
   ]
  },
  {
   "cell_type": "code",
   "execution_count": 33,
   "metadata": {},
   "outputs": [],
   "source": [
    "model_test = RandomForestRegressor(criterion=best_criterion, max_leaf_nodes=best_max_nodes,\n",
    "                                   n_estimators=best_n_ests, random_state=1)"
   ]
  },
  {
   "cell_type": "code",
   "execution_count": 34,
   "metadata": {},
   "outputs": [
    {
     "data": {
      "text/plain": [
       "RandomForestRegressor(bootstrap=True, criterion='mse', max_depth=None,\n",
       "                      max_features='auto', max_leaf_nodes=None,\n",
       "                      min_impurity_decrease=0.0, min_impurity_split=None,\n",
       "                      min_samples_leaf=1, min_samples_split=2,\n",
       "                      min_weight_fraction_leaf=0.0, n_estimators=160,\n",
       "                      n_jobs=None, oob_score=False, random_state=1, verbose=0,\n",
       "                      warm_start=False)"
      ]
     },
     "execution_count": 34,
     "metadata": {},
     "output_type": "execute_result"
    }
   ],
   "source": [
    "model_test.fit(train_X, train_y)"
   ]
  },
  {
   "cell_type": "code",
   "execution_count": 35,
   "metadata": {},
   "outputs": [
    {
     "name": "stdout",
     "output_type": "stream",
     "text": [
      "MAE: 18414.681505422377\n"
     ]
    }
   ],
   "source": [
    "preds_val = model_test.predict(val_X)\n",
    "mae = mean_absolute_error(val_y, preds_val)\n",
    "print(\"MAE:\", mae)"
   ]
  },
  {
   "cell_type": "markdown",
   "metadata": {},
   "source": [
    "#### Final model fitting"
   ]
  },
  {
   "cell_type": "code",
   "execution_count": 36,
   "metadata": {},
   "outputs": [],
   "source": [
    "model = RandomForestRegressor(criterion=best_criterion, max_leaf_nodes=best_max_nodes,\n",
    "                              n_estimators=best_n_ests, random_state=1)"
   ]
  },
  {
   "cell_type": "code",
   "execution_count": 37,
   "metadata": {},
   "outputs": [
    {
     "data": {
      "text/plain": [
       "RandomForestRegressor(bootstrap=True, criterion='mse', max_depth=None,\n",
       "                      max_features='auto', max_leaf_nodes=None,\n",
       "                      min_impurity_decrease=0.0, min_impurity_split=None,\n",
       "                      min_samples_leaf=1, min_samples_split=2,\n",
       "                      min_weight_fraction_leaf=0.0, n_estimators=160,\n",
       "                      n_jobs=None, oob_score=False, random_state=1, verbose=0,\n",
       "                      warm_start=False)"
      ]
     },
     "execution_count": 37,
     "metadata": {},
     "output_type": "execute_result"
    }
   ],
   "source": [
    "model.fit(X, y)"
   ]
  },
  {
   "cell_type": "markdown",
   "metadata": {},
   "source": [
    "## Prediction"
   ]
  },
  {
   "cell_type": "code",
   "execution_count": 38,
   "metadata": {},
   "outputs": [
    {
     "name": "stdout",
     "output_type": "stream",
     "text": [
      "Number of rows containing non-NA data in test dataset\n",
      "Feature 'MSSubClass':\t1459\n",
      "Feature 'OverallCond':\t1459\n",
      "Feature 'YearBuilt':\t1459\n",
      "Feature 'BsmtFinSF1':\t1458\n",
      "Feature 'Fireplaces':\t1459\n",
      "Feature 'GrLivArea':\t1459\n",
      "Feature 'GarageArea':\t1458\n",
      "Feature 'BsmtFinSF2':\t1458\n"
     ]
    }
   ],
   "source": [
    "print(\"Number of rows containing non-NA data in test dataset\")\n",
    "for feature in best_subset:\n",
    "    print(\"Feature '{}':\\t{}\".format(\n",
    "        feature, int(test_overview.loc['count'][feature]))\n",
    "    )"
   ]
  },
  {
   "cell_type": "markdown",
   "metadata": {},
   "source": [
    "In the test set, there are still some missing data - albeit not many. Therefore, we will replace them with median values."
   ]
  },
  {
   "cell_type": "code",
   "execution_count": 39,
   "metadata": {},
   "outputs": [],
   "source": [
    "test_set_nadropped = test_set[best_subset].fillna(test_set.median())"
   ]
  },
  {
   "cell_type": "code",
   "execution_count": 40,
   "metadata": {},
   "outputs": [
    {
     "data": {
      "text/html": [
       "<div>\n",
       "<style scoped>\n",
       "    .dataframe tbody tr th:only-of-type {\n",
       "        vertical-align: middle;\n",
       "    }\n",
       "\n",
       "    .dataframe tbody tr th {\n",
       "        vertical-align: top;\n",
       "    }\n",
       "\n",
       "    .dataframe thead th {\n",
       "        text-align: right;\n",
       "    }\n",
       "</style>\n",
       "<table border=\"1\" class=\"dataframe\">\n",
       "  <thead>\n",
       "    <tr style=\"text-align: right;\">\n",
       "      <th></th>\n",
       "      <th>MSSubClass</th>\n",
       "      <th>OverallCond</th>\n",
       "      <th>YearBuilt</th>\n",
       "      <th>BsmtFinSF1</th>\n",
       "      <th>Fireplaces</th>\n",
       "      <th>GrLivArea</th>\n",
       "      <th>GarageArea</th>\n",
       "      <th>BsmtFinSF2</th>\n",
       "    </tr>\n",
       "  </thead>\n",
       "  <tbody>\n",
       "    <tr>\n",
       "      <td>count</td>\n",
       "      <td>1459.000000</td>\n",
       "      <td>1459.000000</td>\n",
       "      <td>1459.000000</td>\n",
       "      <td>1459.000000</td>\n",
       "      <td>1459.00000</td>\n",
       "      <td>1459.000000</td>\n",
       "      <td>1459.000000</td>\n",
       "      <td>1459.000000</td>\n",
       "    </tr>\n",
       "    <tr>\n",
       "      <td>mean</td>\n",
       "      <td>57.378341</td>\n",
       "      <td>5.553804</td>\n",
       "      <td>1971.357779</td>\n",
       "      <td>439.142906</td>\n",
       "      <td>0.58122</td>\n",
       "      <td>1486.045922</td>\n",
       "      <td>472.773818</td>\n",
       "      <td>52.583276</td>\n",
       "    </tr>\n",
       "    <tr>\n",
       "      <td>std</td>\n",
       "      <td>42.746880</td>\n",
       "      <td>1.113740</td>\n",
       "      <td>30.390071</td>\n",
       "      <td>455.117812</td>\n",
       "      <td>0.64742</td>\n",
       "      <td>485.566099</td>\n",
       "      <td>216.974247</td>\n",
       "      <td>176.698671</td>\n",
       "    </tr>\n",
       "    <tr>\n",
       "      <td>min</td>\n",
       "      <td>20.000000</td>\n",
       "      <td>1.000000</td>\n",
       "      <td>1879.000000</td>\n",
       "      <td>0.000000</td>\n",
       "      <td>0.00000</td>\n",
       "      <td>407.000000</td>\n",
       "      <td>0.000000</td>\n",
       "      <td>0.000000</td>\n",
       "    </tr>\n",
       "    <tr>\n",
       "      <td>25%</td>\n",
       "      <td>20.000000</td>\n",
       "      <td>5.000000</td>\n",
       "      <td>1953.000000</td>\n",
       "      <td>0.000000</td>\n",
       "      <td>0.00000</td>\n",
       "      <td>1117.500000</td>\n",
       "      <td>318.000000</td>\n",
       "      <td>0.000000</td>\n",
       "    </tr>\n",
       "    <tr>\n",
       "      <td>50%</td>\n",
       "      <td>50.000000</td>\n",
       "      <td>5.000000</td>\n",
       "      <td>1973.000000</td>\n",
       "      <td>350.500000</td>\n",
       "      <td>0.00000</td>\n",
       "      <td>1432.000000</td>\n",
       "      <td>480.000000</td>\n",
       "      <td>0.000000</td>\n",
       "    </tr>\n",
       "    <tr>\n",
       "      <td>75%</td>\n",
       "      <td>70.000000</td>\n",
       "      <td>6.000000</td>\n",
       "      <td>2001.000000</td>\n",
       "      <td>752.000000</td>\n",
       "      <td>1.00000</td>\n",
       "      <td>1721.000000</td>\n",
       "      <td>576.000000</td>\n",
       "      <td>0.000000</td>\n",
       "    </tr>\n",
       "    <tr>\n",
       "      <td>max</td>\n",
       "      <td>190.000000</td>\n",
       "      <td>9.000000</td>\n",
       "      <td>2010.000000</td>\n",
       "      <td>4010.000000</td>\n",
       "      <td>4.00000</td>\n",
       "      <td>5095.000000</td>\n",
       "      <td>1488.000000</td>\n",
       "      <td>1526.000000</td>\n",
       "    </tr>\n",
       "  </tbody>\n",
       "</table>\n",
       "</div>"
      ],
      "text/plain": [
       "        MSSubClass  OverallCond    YearBuilt   BsmtFinSF1  Fireplaces  \\\n",
       "count  1459.000000  1459.000000  1459.000000  1459.000000  1459.00000   \n",
       "mean     57.378341     5.553804  1971.357779   439.142906     0.58122   \n",
       "std      42.746880     1.113740    30.390071   455.117812     0.64742   \n",
       "min      20.000000     1.000000  1879.000000     0.000000     0.00000   \n",
       "25%      20.000000     5.000000  1953.000000     0.000000     0.00000   \n",
       "50%      50.000000     5.000000  1973.000000   350.500000     0.00000   \n",
       "75%      70.000000     6.000000  2001.000000   752.000000     1.00000   \n",
       "max     190.000000     9.000000  2010.000000  4010.000000     4.00000   \n",
       "\n",
       "         GrLivArea   GarageArea   BsmtFinSF2  \n",
       "count  1459.000000  1459.000000  1459.000000  \n",
       "mean   1486.045922   472.773818    52.583276  \n",
       "std     485.566099   216.974247   176.698671  \n",
       "min     407.000000     0.000000     0.000000  \n",
       "25%    1117.500000   318.000000     0.000000  \n",
       "50%    1432.000000   480.000000     0.000000  \n",
       "75%    1721.000000   576.000000     0.000000  \n",
       "max    5095.000000  1488.000000  1526.000000  "
      ]
     },
     "execution_count": 40,
     "metadata": {},
     "output_type": "execute_result"
    }
   ],
   "source": [
    "test_set_nadropped.describe()"
   ]
  },
  {
   "cell_type": "code",
   "execution_count": 41,
   "metadata": {},
   "outputs": [],
   "source": [
    "test_X = test_set_nadropped"
   ]
  },
  {
   "cell_type": "code",
   "execution_count": 42,
   "metadata": {},
   "outputs": [],
   "source": [
    "predictions = model.predict(test_X)"
   ]
  },
  {
   "cell_type": "code",
   "execution_count": 43,
   "metadata": {},
   "outputs": [],
   "source": [
    "output = pd.DataFrame({'Id': test_set.Id, 'SalePrice': predictions})\n",
    "output.to_csv('submission.csv', index=False)"
   ]
  }
 ],
 "metadata": {
  "kernelspec": {
   "display_name": "Python 3",
   "language": "python",
   "name": "python3"
  },
  "language_info": {
   "codemirror_mode": {
    "name": "ipython",
    "version": 3
   },
   "file_extension": ".py",
   "mimetype": "text/x-python",
   "name": "python",
   "nbconvert_exporter": "python",
   "pygments_lexer": "ipython3",
   "version": "3.7.4"
  }
 },
 "nbformat": 4,
 "nbformat_minor": 2
}
