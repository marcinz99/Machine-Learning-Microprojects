{
 "cells": [
  {
   "cell_type": "markdown",
   "metadata": {},
   "source": [
    "## Iris flowers recognition using naive bayesian inference"
   ]
  },
  {
   "cell_type": "markdown",
   "metadata": {},
   "source": [
    "As mentioned above, we will use naive bayesian inference to determine the variety of presented flower, given its petal and sepal dimentions.\n",
    "\n",
    "Although this method might not be the best choice for this problem (data is highly correlated* and thus bayesian inference provides quite poor aproximation of posterior probabilities), it would be a great chance to dive into this topic.\n",
    "\n",
    "\\* vide `Statistical analysis of data.ipynb` for in-depth analysis"
   ]
  },
  {
   "cell_type": "code",
   "execution_count": 1,
   "metadata": {},
   "outputs": [],
   "source": [
    "import numpy as np\n",
    "import pandas as pd\n",
    "from scipy import stats\n",
    "from matplotlib import pyplot as plt"
   ]
  },
  {
   "cell_type": "code",
   "execution_count": 2,
   "metadata": {},
   "outputs": [],
   "source": [
    "features = ['sepal_length', 'sepal_width', 'petal_length', 'petal_width']\n",
    "columns = features + ['classname']\n",
    "dataset = pd.read_csv(\"iris-data/iris.data\", names=columns)\n",
    "classes = dataset[\"classname\"].unique()"
   ]
  },
  {
   "cell_type": "markdown",
   "metadata": {},
   "source": [
    "#### Preparing learning set and testing set"
   ]
  },
  {
   "cell_type": "code",
   "execution_count": 3,
   "metadata": {},
   "outputs": [],
   "source": [
    "# Choose training set\n",
    "train_set = pd.concat([dataset.loc[0:39], dataset.loc[50:89], dataset.loc[100:139]])\n",
    "train_set.reset_index(drop=True, inplace=True)\n",
    "\n",
    "# Choose testing set\n",
    "test_set = pd.concat([dataset.loc[40:49], dataset.loc[90:99], dataset.loc[140:149]])\n",
    "test_set.reset_index(drop=True, inplace=True)\n",
    "\n",
    "# Shuffle testing set\n",
    "test_set = test_set.reindex(np.random.permutation(test_set.index))\n",
    "test_set.reset_index(drop=True, inplace=True)"
   ]
  },
  {
   "cell_type": "markdown",
   "metadata": {},
   "source": [
    "#### Extracting KDE's"
   ]
  },
  {
   "cell_type": "code",
   "execution_count": 4,
   "metadata": {},
   "outputs": [],
   "source": [
    "kdes = {}\n",
    "\n",
    "for c in classes:\n",
    "    filtr = (dataset['classname'] == c)\n",
    "    subset = dataset.loc[filtr]\n",
    "    kdes[c] = {}\n",
    "    \n",
    "    for feature in features:\n",
    "        kdes[c][feature] = stats.gaussian_kde(np.asarray(subset[feature]))"
   ]
  },
  {
   "cell_type": "markdown",
   "metadata": {},
   "source": [
    "#### Naive bayesian infering function"
   ]
  },
  {
   "cell_type": "code",
   "execution_count": 5,
   "metadata": {},
   "outputs": [],
   "source": [
    "def recognize(series, verbose=False):\n",
    "    hypos = {'Iris-setosa': 0., 'Iris-virginica': 0., 'Iris-versicolor': 0.}\n",
    "    \n",
    "    for feature in features:\n",
    "        for c in classes:\n",
    "            hypos[c] += np.log(kdes[c][feature].pdf(series[feature]) + 0.003)\n",
    "    \n",
    "    mle = max(hypos, key=hypos.get)\n",
    "    \n",
    "    if verbose:\n",
    "        norm_const = 0\n",
    "        logmle = float(hypos[mle])\n",
    "\n",
    "        for species in hypos:\n",
    "            hypos[species] -= logmle\n",
    "            hypos[species] = np.e ** hypos[species]\n",
    "            norm_const += hypos[species]\n",
    "\n",
    "        for species in hypos:\n",
    "            hypos[species] /= norm_const\n",
    "            print(\"Posterior probability of '{}': \\t{}\".format(species, *hypos[species]))\n",
    "    \n",
    "    return mle"
   ]
  },
  {
   "cell_type": "markdown",
   "metadata": {},
   "source": [
    "## Recognition"
   ]
  },
  {
   "cell_type": "markdown",
   "metadata": {},
   "source": [
    "#### Testing set (verbose)"
   ]
  },
  {
   "cell_type": "code",
   "execution_count": 6,
   "metadata": {
    "scrolled": true
   },
   "outputs": [
    {
     "name": "stdout",
     "output_type": "stream",
     "text": [
      "Posterior probability of 'Iris-setosa': \t3.177495167077363e-08\n",
      "Posterior probability of 'Iris-virginica': \t0.9989810271809818\n",
      "Posterior probability of 'Iris-versicolor': \t0.001018941044066571\n",
      "[OK] True:      Iris-virginica\n",
      "     Predicted: Iris-virginica\n",
      "\n",
      "Posterior probability of 'Iris-setosa': \t5.453431122904182e-07\n",
      "Posterior probability of 'Iris-virginica': \t0.00034006716521284167\n",
      "Posterior probability of 'Iris-versicolor': \t0.9996593874916748\n",
      "[OK] True:      Iris-versicolor\n",
      "     Predicted: Iris-versicolor\n",
      "\n",
      "Posterior probability of 'Iris-setosa': \t4.414917618741479e-08\n",
      "Posterior probability of 'Iris-virginica': \t0.9996910977357467\n",
      "Posterior probability of 'Iris-versicolor': \t0.0003088581150769452\n",
      "[OK] True:      Iris-virginica\n",
      "     Predicted: Iris-virginica\n",
      "\n",
      "Posterior probability of 'Iris-setosa': \t7.440282765213478e-08\n",
      "Posterior probability of 'Iris-virginica': \t0.9999812560224951\n",
      "Posterior probability of 'Iris-versicolor': \t1.8669574677310635e-05\n",
      "[OK] True:      Iris-virginica\n",
      "     Predicted: Iris-virginica\n",
      "\n",
      "Posterior probability of 'Iris-setosa': \t0.9999999365136065\n",
      "Posterior probability of 'Iris-virginica': \t2.730710639786629e-08\n",
      "Posterior probability of 'Iris-versicolor': \t3.6179287010615544e-08\n",
      "[OK] True:      Iris-setosa\n",
      "     Predicted: Iris-setosa\n",
      "\n",
      "Posterior probability of 'Iris-setosa': \t0.9999992292134406\n",
      "Posterior probability of 'Iris-virginica': \t2.621443955390541e-07\n",
      "Posterior probability of 'Iris-versicolor': \t5.086421637590568e-07\n",
      "[OK] True:      Iris-setosa\n",
      "     Predicted: Iris-setosa\n",
      "\n",
      "Posterior probability of 'Iris-setosa': \t0.9999999871254267\n",
      "Posterior probability of 'Iris-virginica': \t1.086374125351931e-08\n",
      "Posterior probability of 'Iris-versicolor': \t2.0108320220770915e-09\n",
      "[OK] True:      Iris-setosa\n",
      "     Predicted: Iris-setosa\n",
      "\n",
      "Posterior probability of 'Iris-setosa': \t3.7926977485989907e-07\n",
      "Posterior probability of 'Iris-virginica': \t0.00043775310521192655\n",
      "Posterior probability of 'Iris-versicolor': \t0.9995618676250132\n",
      "[OK] True:      Iris-versicolor\n",
      "     Predicted: Iris-versicolor\n",
      "\n",
      "Posterior probability of 'Iris-setosa': \t3.835857547456846e-05\n",
      "Posterior probability of 'Iris-virginica': \t4.408344221153162e-06\n",
      "Posterior probability of 'Iris-versicolor': \t0.9999572330803043\n",
      "[OK] True:      Iris-versicolor\n",
      "     Predicted: Iris-versicolor\n",
      "\n",
      "Posterior probability of 'Iris-setosa': \t0.9999999757836987\n",
      "Posterior probability of 'Iris-virginica': \t1.732335973407035e-08\n",
      "Posterior probability of 'Iris-versicolor': \t6.892941662903037e-09\n",
      "[OK] True:      Iris-setosa\n",
      "     Predicted: Iris-setosa\n",
      "\n",
      "Posterior probability of 'Iris-setosa': \t2.8610710578984815e-05\n",
      "Posterior probability of 'Iris-virginica': \t3.510346752951367e-05\n",
      "Posterior probability of 'Iris-versicolor': \t0.9999362858218916\n",
      "[OK] True:      Iris-versicolor\n",
      "     Predicted: Iris-versicolor\n",
      "\n",
      "Posterior probability of 'Iris-setosa': \t2.7331095474774496e-08\n",
      "Posterior probability of 'Iris-virginica': \t0.002948182822197907\n",
      "Posterior probability of 'Iris-versicolor': \t0.9970517898467065\n",
      "[OK] True:      Iris-versicolor\n",
      "     Predicted: Iris-versicolor\n",
      "\n",
      "Posterior probability of 'Iris-setosa': \t3.6755696719500493e-07\n",
      "Posterior probability of 'Iris-virginica': \t0.9999330513067376\n",
      "Posterior probability of 'Iris-versicolor': \t6.658113629535974e-05\n",
      "[OK] True:      Iris-virginica\n",
      "     Predicted: Iris-virginica\n",
      "\n",
      "Posterior probability of 'Iris-setosa': \t0.9999994103768818\n",
      "Posterior probability of 'Iris-virginica': \t1.3903767932212113e-07\n",
      "Posterior probability of 'Iris-versicolor': \t4.505854388438326e-07\n",
      "[OK] True:      Iris-setosa\n",
      "     Predicted: Iris-setosa\n",
      "\n",
      "Posterior probability of 'Iris-setosa': \t0.9999996615345368\n",
      "Posterior probability of 'Iris-virginica': \t2.856006627295118e-07\n",
      "Posterior probability of 'Iris-versicolor': \t5.286480051404061e-08\n",
      "[OK] True:      Iris-setosa\n",
      "     Predicted: Iris-setosa\n",
      "\n",
      "Posterior probability of 'Iris-setosa': \t2.5573392355756147e-07\n",
      "Posterior probability of 'Iris-virginica': \t0.9999863974836544\n",
      "Posterior probability of 'Iris-versicolor': \t1.3346782422096485e-05\n",
      "[OK] True:      Iris-virginica\n",
      "     Predicted: Iris-virginica\n",
      "\n",
      "Posterior probability of 'Iris-setosa': \t0.9999999138622709\n",
      "Posterior probability of 'Iris-virginica': \t2.9519603366369743e-08\n",
      "Posterior probability of 'Iris-versicolor': \t5.661812573348687e-08\n",
      "[OK] True:      Iris-setosa\n",
      "     Predicted: Iris-setosa\n",
      "\n",
      "Posterior probability of 'Iris-setosa': \t0.999998151262285\n",
      "Posterior probability of 'Iris-virginica': \t3.176317755559904e-07\n",
      "Posterior probability of 'Iris-versicolor': \t1.5311059394397347e-06\n",
      "[OK] True:      Iris-setosa\n",
      "     Predicted: Iris-setosa\n",
      "\n",
      "Posterior probability of 'Iris-setosa': \t1.0811084751789837e-07\n",
      "Posterior probability of 'Iris-virginica': \t0.024325104763885875\n",
      "Posterior probability of 'Iris-versicolor': \t0.9756747871252665\n",
      "[OK] True:      Iris-versicolor\n",
      "     Predicted: Iris-versicolor\n",
      "\n",
      "Posterior probability of 'Iris-setosa': \t0.9999999441929246\n",
      "Posterior probability of 'Iris-virginica': \t3.312765539236972e-08\n",
      "Posterior probability of 'Iris-versicolor': \t2.2679419878438175e-08\n",
      "[OK] True:      Iris-setosa\n",
      "     Predicted: Iris-setosa\n",
      "\n",
      "Posterior probability of 'Iris-setosa': \t7.77604021194361e-08\n",
      "Posterior probability of 'Iris-virginica': \t0.9996171986685265\n",
      "Posterior probability of 'Iris-versicolor': \t0.0003827235710713512\n",
      "[OK] True:      Iris-virginica\n",
      "     Predicted: Iris-virginica\n",
      "\n",
      "Posterior probability of 'Iris-setosa': \t7.60473265347803e-07\n",
      "Posterior probability of 'Iris-virginica': \t0.9627971361768877\n",
      "Posterior probability of 'Iris-versicolor': \t0.037202103349847006\n",
      "[OK] True:      Iris-virginica\n",
      "     Predicted: Iris-virginica\n",
      "\n",
      "Posterior probability of 'Iris-setosa': \t1.4947707802388064e-07\n",
      "Posterior probability of 'Iris-virginica': \t0.00010256951561640309\n",
      "Posterior probability of 'Iris-versicolor': \t0.9998972810073056\n",
      "[OK] True:      Iris-versicolor\n",
      "     Predicted: Iris-versicolor\n",
      "\n",
      "Posterior probability of 'Iris-setosa': \t5.341628800677301e-09\n",
      "Posterior probability of 'Iris-virginica': \t0.9691296376556154\n",
      "Posterior probability of 'Iris-versicolor': \t0.030870357002755696\n",
      "[OK] True:      Iris-virginica\n",
      "     Predicted: Iris-virginica\n",
      "\n",
      "Posterior probability of 'Iris-setosa': \t8.747952391453196e-07\n",
      "Posterior probability of 'Iris-virginica': \t0.0006065550796676749\n",
      "Posterior probability of 'Iris-versicolor': \t0.9993925701250932\n",
      "[OK] True:      Iris-versicolor\n",
      "     Predicted: Iris-versicolor\n",
      "\n",
      "Posterior probability of 'Iris-setosa': \t1.9338620708591346e-06\n",
      "Posterior probability of 'Iris-virginica': \t0.0003034855470329265\n",
      "Posterior probability of 'Iris-versicolor': \t0.9996945805908962\n",
      "[OK] True:      Iris-versicolor\n",
      "     Predicted: Iris-versicolor\n",
      "\n",
      "Posterior probability of 'Iris-setosa': \t1.174181883703864e-07\n",
      "Posterior probability of 'Iris-virginica': \t0.9999930228451546\n",
      "Posterior probability of 'Iris-versicolor': \t6.859736656984229e-06\n",
      "[OK] True:      Iris-virginica\n",
      "     Predicted: Iris-virginica\n",
      "\n",
      "Posterior probability of 'Iris-setosa': \t3.6499435163379155e-07\n",
      "Posterior probability of 'Iris-virginica': \t0.0003867624385686175\n",
      "Posterior probability of 'Iris-versicolor': \t0.9996128725670796\n",
      "[OK] True:      Iris-versicolor\n",
      "     Predicted: Iris-versicolor\n",
      "\n",
      "Posterior probability of 'Iris-setosa': \t0.9999999310418647\n",
      "Posterior probability of 'Iris-virginica': \t1.757960687042031e-08\n",
      "Posterior probability of 'Iris-versicolor': \t5.1378528480710244e-08\n",
      "[OK] True:      Iris-setosa\n",
      "     Predicted: Iris-setosa\n",
      "\n",
      "Posterior probability of 'Iris-setosa': \t1.6571444976498716e-06\n",
      "Posterior probability of 'Iris-virginica': \t0.9308479353871915\n",
      "Posterior probability of 'Iris-versicolor': \t0.0691504074683107\n",
      "[OK] True:      Iris-virginica\n",
      "     Predicted: Iris-virginica\n",
      "\n"
     ]
    }
   ],
   "source": [
    "for i, test_record in test_set.iterrows():\n",
    "    true = test_record['classname']\n",
    "    predicted = recognize(test_record, verbose=True)\n",
    "    print(\"[{}] True:      {}\\n     Predicted: {}\\n\".format(\n",
    "        \"OK\" if true == predicted else \"NO\", true, predicted))"
   ]
  },
  {
   "cell_type": "markdown",
   "metadata": {},
   "source": [
    "#### Testing set (accuracy)"
   ]
  },
  {
   "cell_type": "code",
   "execution_count": 15,
   "metadata": {},
   "outputs": [
    {
     "name": "stdout",
     "output_type": "stream",
     "text": [
      "Bad answers: 0 / 30\n",
      "Accuracy:    100.00%\n"
     ]
    }
   ],
   "source": [
    "incorrect = 0\n",
    "size = test_set.shape[0]\n",
    "\n",
    "for i, test_record in test_set.iterrows():\n",
    "    true = test_record['classname']\n",
    "    predicted = recognize(test_record, verbose=False)\n",
    "    if true != predicted: incorrect += 1\n",
    "\n",
    "print(\"Bad answers: {} / {}\".format(incorrect, test_set.shape[0]))\n",
    "print(\"Accuracy:    {:.2f}%\".format(100 * (size - incorrect) / size))"
   ]
  },
  {
   "cell_type": "markdown",
   "metadata": {},
   "source": [
    "#### All data (accuracy)"
   ]
  },
  {
   "cell_type": "code",
   "execution_count": 16,
   "metadata": {},
   "outputs": [
    {
     "name": "stdout",
     "output_type": "stream",
     "text": [
      "Bad answers: 5 / 150\n",
      "Accuracy:    96.67%\n"
     ]
    }
   ],
   "source": [
    "incorrect = 0\n",
    "size = dataset.shape[0]\n",
    "\n",
    "for i, test_record in dataset.iterrows():\n",
    "    true = test_record['classname']\n",
    "    predicted = recognize(test_record, verbose=False)\n",
    "    if true != predicted: incorrect += 1\n",
    "\n",
    "print(\"Bad answers: {} / {}\".format(incorrect, size))\n",
    "print(\"Accuracy:    {:.2f}%\".format(100 * (size - incorrect) / size))"
   ]
  }
 ],
 "metadata": {
  "kernelspec": {
   "display_name": "Python 3",
   "language": "python",
   "name": "python3"
  },
  "language_info": {
   "codemirror_mode": {
    "name": "ipython",
    "version": 3
   },
   "file_extension": ".py",
   "mimetype": "text/x-python",
   "name": "python",
   "nbconvert_exporter": "python",
   "pygments_lexer": "ipython3",
   "version": "3.7.1"
  }
 },
 "nbformat": 4,
 "nbformat_minor": 2
}
