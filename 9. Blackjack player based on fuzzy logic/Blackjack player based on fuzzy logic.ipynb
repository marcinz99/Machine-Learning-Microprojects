{
 "cells": [
  {
   "cell_type": "markdown",
   "metadata": {},
   "source": [
    "# Blackjack player based on fuzzy logic"
   ]
  },
  {
   "cell_type": "markdown",
   "metadata": {},
   "source": [
    "Adapted from kaggle microchallenges, therefore their rules will be implemented."
   ]
  },
  {
   "cell_type": "markdown",
   "metadata": {},
   "source": [
    "#### Rules\n",
    "\n",
    "\"We'll use a slightly simplified version of blackjack (aka twenty-one). In this version, there is one player (who you'll control) and a dealer. Play proceeds as follows:\n",
    "\n",
    "- The player is dealt two face-up cards. The dealer is dealt one face-up card.\n",
    "- The player may ask to be dealt another card ('hit') as many times as they wish. If the sum of their cards exceeds 21, they lose the round immediately.\n",
    "- The dealer then deals additional cards to himself until either:\n",
    "    - The sum of the dealer's cards exceeds 21, in which case the player wins the round, or\n",
    "    - The sum of the dealer's cards is greater than or equal to 17. If the player's total is greater than the dealer's, the player wins. Otherwise, the dealer wins (even in case of a tie).\n",
    "\n",
    "When calculating the sum of cards, Jack, Queen, and King count for 10. Aces can count as 1 or 11. (When referring to a player's \"total\" above, we mean the largest total that can be made without exceeding 21. So A+8 = 19, A+8+8 = 17.)\""
   ]
  },
  {
   "cell_type": "markdown",
   "metadata": {},
   "source": [
    "The task is to write the `should_hit` function, so that the player's winning rate is as high as possible."
   ]
  },
  {
   "cell_type": "code",
   "execution_count": 1,
   "metadata": {},
   "outputs": [],
   "source": [
    "import numpy as np\n",
    "import matplotlib.pyplot as plt\n",
    "import skfuzzy as fuzz\n",
    "import pickle\n",
    "import copy\n",
    "\n",
    "np.random.seed(1234)\n",
    "\n",
    "def save_data(filename, data):\n",
    "    with open(\"saved_data/{}.pickle\".format(filename), mode='wb') as file:\n",
    "        pickle.dump(data, file)\n",
    "\n",
    "def load_data(filename):\n",
    "    with open(\"saved_data/{}.pickle\".format(filename), mode='rb') as file:\n",
    "        data = pickle.load(file)\n",
    "    return data"
   ]
  },
  {
   "cell_type": "markdown",
   "metadata": {},
   "source": [
    "Gameplay details"
   ]
  },
  {
   "cell_type": "code",
   "execution_count": 2,
   "metadata": {},
   "outputs": [],
   "source": [
    "class Deck:\n",
    "    def __init__(self):\n",
    "        self.cards_left = None\n",
    "        self.pointer = -1\n",
    "        self.reset_deck()\n",
    "        \n",
    "    def reset_deck(self):\n",
    "        # Coding (card to number)\n",
    "        #  2-9 coded directly\n",
    "        #  10,J,Q,K coded as 10\n",
    "        #  A coded as -1 as a special card\n",
    "        self.cards_left = np.random.permutation([2,3,4,5,6,7,8,9,10,10,10,10,-1]*4)\n",
    "        self.pointer = -1\n",
    "    \n",
    "    def draw_card(self):\n",
    "        self.pointer += 1\n",
    "        return self.cards_left[self.pointer]\n",
    "\n",
    "def evaluate(base_points, num_of_aces):\n",
    "    if num_of_aces == 0:\n",
    "        return base_points\n",
    "    else:\n",
    "        points = base_points + num_of_aces\n",
    "        if points + 10 <= 21:\n",
    "            points += 10\n",
    "        return points\n",
    "\n",
    "def play_game(deck, should_hit, verbose=False):\n",
    "    deck.reset_deck()\n",
    "    \n",
    "    player_base = 0\n",
    "    player_aces = 0\n",
    "\n",
    "    dealer_base = 0\n",
    "    dealer_aces = 0\n",
    "    \n",
    "    # Player get two cards\n",
    "    for card in [deck.draw_card(), deck.draw_card()]:\n",
    "        if card == -1: player_aces += 1\n",
    "        else:          player_base += card\n",
    "    \n",
    "    # Dealer gets one card\n",
    "    for card in [deck.draw_card()]:\n",
    "        if card == -1: dealer_aces += 1\n",
    "        else:          dealer_base += card\n",
    "    \n",
    "    player_score = evaluate(player_base, player_aces)\n",
    "    dealer_score = evaluate(dealer_base, dealer_aces)\n",
    "    \n",
    "    while should_hit(player_base, player_aces, dealer_score):\n",
    "        # Player hits next card\n",
    "        for card in [deck.draw_card()]:\n",
    "            if card == -1: player_aces += 1\n",
    "            else:          player_base += card\n",
    "        \n",
    "        player_score = evaluate(player_base, player_aces)\n",
    "        if player_score > 21:\n",
    "            if verbose: print(\"You lose\")\n",
    "            return False\n",
    "        \n",
    "    while True:\n",
    "        # Dealer hits next card\n",
    "        for card in [deck.draw_card()]:\n",
    "            if card == -1: dealer_aces += 1\n",
    "            else:          dealer_base += card\n",
    "        \n",
    "        dealer_score = evaluate(dealer_base, dealer_aces)\n",
    "        if dealer_score > 21:\n",
    "            if verbose: print(\"You win\")\n",
    "            return True\n",
    "        elif dealer_score >= 17:\n",
    "            break\n",
    "        \n",
    "    if player_score > dealer_score:\n",
    "        if verbose: print(\"You win\")\n",
    "        return True\n",
    "    else:\n",
    "        if verbose: print(\"You lose\")\n",
    "        return False"
   ]
  },
  {
   "cell_type": "markdown",
   "metadata": {},
   "source": [
    "#### Fuzzy classifier"
   ]
  },
  {
   "cell_type": "code",
   "execution_count": 3,
   "metadata": {},
   "outputs": [],
   "source": [
    "class FuzzyClasifier:\n",
    "    def __init__(self, md_locs=[], risk_md_loc=5, rules=[]):\n",
    "        # universe\n",
    "        self.x_player_base = np.arange(0, 22)\n",
    "        self.x_player_aces = np.arange(0, 5)\n",
    "        self.x_dealer_init = np.arange(0, 12)\n",
    "        self.x_risk = np.arange(0, 11)\n",
    "        self.rules = rules\n",
    "\n",
    "        # fuzzy membership functions\n",
    "        player_base_md_loc, player_aces_md_loc, dealer_init_md_loc = md_locs\n",
    "\n",
    "        self.player_base_lo = fuzz.trimf(self.x_player_base, [0,  0,  player_base_md_loc])\n",
    "        self.player_base_md = fuzz.trimf(self.x_player_base, [0,  player_base_md_loc, 21])\n",
    "        self.player_base_hi = fuzz.trimf(self.x_player_base, [player_base_md_loc, 21, 21])\n",
    "        self.player_aces_lo = fuzz.trimf(self.x_player_aces, [0,  0,  player_aces_md_loc])\n",
    "        self.player_aces_md = fuzz.trimf(self.x_player_aces, [0,  player_aces_md_loc,  4])\n",
    "        self.player_aces_hi = fuzz.trimf(self.x_player_aces, [player_aces_md_loc,  4,  4])\n",
    "        self.dealer_init_lo = fuzz.trimf(self.x_dealer_init, [0,  0,  dealer_init_md_loc])\n",
    "        self.dealer_init_md = fuzz.trimf(self.x_dealer_init, [0,  dealer_init_md_loc, 11])\n",
    "        self.dealer_init_hi = fuzz.trimf(self.x_dealer_init, [dealer_init_md_loc, 11, 11])\n",
    "        \n",
    "        self.risk_lo = fuzz.trimf(self.x_risk, [0,  0,  risk_md_loc])\n",
    "        self.risk_md = fuzz.trimf(self.x_risk, [0,  risk_md_loc, 10])\n",
    "        self.risk_hi = fuzz.trimf(self.x_risk, [risk_md_loc, 10, 10])\n",
    "    \n",
    "    \n",
    "    def assess_risk(self, player_base, player_aces, dealer_init):\n",
    "        membership_level = {\n",
    "            'BL': fuzz.interp_membership(self.x_player_base, self.player_base_lo, player_base),\n",
    "            'BM': fuzz.interp_membership(self.x_player_base, self.player_base_md, player_base),\n",
    "            'BH': fuzz.interp_membership(self.x_player_base, self.player_base_hi, player_base),\n",
    "            'AL': fuzz.interp_membership(self.x_player_aces, self.player_aces_lo, player_aces),\n",
    "            'AM': fuzz.interp_membership(self.x_player_aces, self.player_aces_md, player_aces),\n",
    "            'AH': fuzz.interp_membership(self.x_player_aces, self.player_aces_hi, player_aces),\n",
    "            'IL': fuzz.interp_membership(self.x_dealer_init, self.dealer_init_lo, dealer_init),\n",
    "            'IM': fuzz.interp_membership(self.x_dealer_init, self.dealer_init_md, dealer_init),\n",
    "            'IH': fuzz.interp_membership(self.x_dealer_init, self.dealer_init_hi, dealer_init)\n",
    "        }\n",
    "        aggregate = np.zeros(11)\n",
    "        \n",
    "        for rule in self.rules:\n",
    "            premise_1 = rule['prem_1']\n",
    "            premise_2 = rule['prem_2']\n",
    "            \n",
    "            if rule['op'] == 'AND':\n",
    "                activate_rule = np.fmin(membership_level[premise_1], membership_level[premise_2])\n",
    "            elif rule['op'] == 'OR':\n",
    "                activate_rule = np.fmax(membership_level[premise_1], membership_level[premise_2])\n",
    "            \n",
    "            target_risk = self.__get_target(rule['target'])\n",
    "            risk_activation = np.fmin(activate_rule, target_risk)\n",
    "            aggregate = np.fmax(risk_activation, aggregate)\n",
    "        \n",
    "        try:\n",
    "            risk_score = fuzz.defuzz(self.x_risk, aggregate, 'centroid')\n",
    "        except AssertionError:\n",
    "            risk_score = 0.\n",
    "        return risk_score / 10\n",
    "    \n",
    "    def __get_premise(self, rule):\n",
    "        return \\\n",
    "            self.player_base_lo if rule == 'BL' else\\\n",
    "            self.player_base_md if rule == 'BM' else\\\n",
    "            self.player_base_hi if rule == 'BH' else\\\n",
    "            self.player_aces_lo if rule == 'AL' else\\\n",
    "            self.player_aces_md if rule == 'AM' else\\\n",
    "            self.player_aces_hi if rule == 'AH' else\\\n",
    "            self.dealer_init_lo if rule == 'IL' else\\\n",
    "            self.dealer_init_md if rule == 'IM' else\\\n",
    "            self.dealer_init_hi if rule == 'IH' else None\n",
    "\n",
    "    def __get_target(self, rule):\n",
    "        return \\\n",
    "            self.risk_lo if rule == 'RL' else\\\n",
    "            self.risk_md if rule == 'RM' else\\\n",
    "            self.risk_hi if rule == 'RH' else None"
   ]
  },
  {
   "cell_type": "markdown",
   "metadata": {},
   "source": [
    "Basic decision functions and performance testing utility"
   ]
  },
  {
   "cell_type": "code",
   "execution_count": 4,
   "metadata": {},
   "outputs": [],
   "source": [
    "def should_hit_always_False(player_base, player_aces, dealer_points):\n",
    "    return False\n",
    "\n",
    "def should_hit_random_50_50(player_base, player_aces, dealer_points):\n",
    "    return np.random.random() > 0.5\n",
    "\n",
    "def should_hit_generate_fuzzy(md_locs=[], risk_md_loc=5, rules=[]):\n",
    "    f_clf = FuzzyClasifier(md_locs, risk_md_loc, rules)\n",
    "\n",
    "    def should_hit(player_base, player_aces, dealer_init):\n",
    "        return f_clf.assess_risk(player_base, player_aces, dealer_init) < 0.5\n",
    "    \n",
    "    return should_hit\n",
    "\n",
    "def performance_testing(decision_function, n=10000):\n",
    "    deck = Deck()\n",
    "    win_count = 0\n",
    "    \n",
    "    for _ in range(n):\n",
    "        if play_game(deck, decision_function): win_count += 1\n",
    "    \n",
    "    fraction = win_count / n\n",
    "    score = ((fraction - 0.28) / (0.44 - 0.28))**2\n",
    "    if fraction < 0.28: score = 0.\n",
    "    \n",
    "    return {'fraction': fraction, 'score': score}"
   ]
  },
  {
   "cell_type": "markdown",
   "metadata": {},
   "source": [
    "#### Rule creation:\n",
    "\n",
    "Feature 1: premise1 (player_base_lo (as `BL`\\*), etc.)<br>\n",
    "Feature 2: premise2 (as above; duplicates allowed)<br>\n",
    "Feature 3: operation (OR/AND)<br>\n",
    "Feature 4: target - risk level\\**\n",
    "\n",
    "\\* first letter is B (standing for player's base), A (player's aces) or I (dealer's init) and and second letter is L (low), M (medium) or H (high);<br>\n",
    "\\** almost the same as the above, but here the first letter is R, standing for the risk.\n",
    "\n",
    "#### Performance testing note\n",
    "\n",
    "Random (50/50) decision function yields the chance of winning at about 28%. Best mathematically possible result is roughly below 44% (I happened to see an approximation at ~43,15%, but cannot find it now). The risk-averse approach of never hitting (and therefore never busting) yields the 38% win-rate.\n",
    "\n",
    "Thus, the score is calculated in the following way:\n",
    "* the range 28%-44% is turned into 0-1 range*,\n",
    "* the result above is squared so that the bad results do not make up a singificant part of the avaiblable score range.\n",
    "\n",
    "\\* score over 1.0 is not mathematically possible assuming iteration number is large enough, but may easily occur when n is rather small."
   ]
  },
  {
   "cell_type": "code",
   "execution_count": 5,
   "metadata": {},
   "outputs": [
    {
     "data": {
      "text/plain": [
       "{'fraction': 0.3958, 'score': 0.5238140624999998}"
      ]
     },
     "execution_count": 5,
     "metadata": {},
     "output_type": "execute_result"
    }
   ],
   "source": [
    "rules = [\n",
    "    {'prem_1': 'BL', 'prem_2': 'IH', 'op': 'AND', 'target': 'RL'},\n",
    "    {'prem_1': 'BH', 'prem_2': 'IL', 'op': 'OR', 'target': 'RH'}\n",
    "]\n",
    "should_hit_fuzzy = should_hit_generate_fuzzy([15, 1, 6], 5, rules)\n",
    "\n",
    "performance_testing(should_hit_fuzzy, n=5000)"
   ]
  },
  {
   "cell_type": "code",
   "execution_count": 6,
   "metadata": {},
   "outputs": [],
   "source": [
    "#random_choice = performance_testing(should_hit_random_50_50, n=100000)\n",
    "#print(random_choice)\n",
    "#always_stand = performance_testing(should_hit_always_False, n=100000)\n",
    "#print(always_stand)"
   ]
  },
  {
   "cell_type": "markdown",
   "metadata": {},
   "source": [
    "#### Monte Carlo parameter searching"
   ]
  },
  {
   "cell_type": "code",
   "execution_count": 7,
   "metadata": {},
   "outputs": [],
   "source": [
    "def random_rule_generator():\n",
    "    prem_1 = ['BL', 'BM', 'BH', 'AL', 'AM', 'AH', 'IL', 'IM', 'IH'][np.random.randint(9)]\n",
    "    prem_2 = ['BL', 'BM', 'BH', 'AL', 'AM', 'AH', 'IL', 'IM', 'IH'][np.random.randint(9)]\n",
    "    op     = ['AND', 'OR'][np.random.randint(2)]\n",
    "    target = ['RL', 'RM', 'RH'][np.random.randint(3)]\n",
    "    return {'prem_1': prem_1, 'prem_2': prem_2, 'op': op, 'target': target}\n",
    "\n",
    "def md_locs_generator():\n",
    "    return (\n",
    "        [np.random.randint(22), np.random.randint(5), np.random.randint(12)],\n",
    "        np.random.randint(11)\n",
    "    )\n",
    "\n",
    "def fuzzy_logic_kwargs_generator(n_rules=5):\n",
    "    md_locs, risk_md_loc = md_locs_generator()\n",
    "    rules = [random_rule_generator() for _ in range(n_rules)]\n",
    "    \n",
    "    return {\n",
    "        'md_locs': md_locs,\n",
    "        'risk_md_loc': risk_md_loc,\n",
    "        'rules': rules\n",
    "    }"
   ]
  },
  {
   "cell_type": "code",
   "execution_count": 8,
   "metadata": {},
   "outputs": [
    {
     "data": {
      "text/plain": [
       "{'fraction': 0.0, 'score': 0.0}"
      ]
     },
     "execution_count": 8,
     "metadata": {},
     "output_type": "execute_result"
    }
   ],
   "source": [
    "kwargs = fuzzy_logic_kwargs_generator()\n",
    "should_hit_random_fuzzy = should_hit_generate_fuzzy(**kwargs)\n",
    "performance_testing(should_hit_random_fuzzy, n=5000)"
   ]
  },
  {
   "cell_type": "code",
   "execution_count": 9,
   "metadata": {},
   "outputs": [],
   "source": [
    "def monte_carlo_rule_finding(n=1):\n",
    "    shortlist = []\n",
    "    \n",
    "    for _ in range(n):\n",
    "        non_zero = []\n",
    "\n",
    "        while len(non_zero) < 500:\n",
    "            kwargs = fuzzy_logic_kwargs_generator()\n",
    "            should_hit_random_fuzzy = should_hit_generate_fuzzy(**kwargs)\n",
    "\n",
    "            if performance_testing(should_hit_random_fuzzy, n=15)['score'] > 0.:\n",
    "                non_zero += [kwargs]\n",
    "\n",
    "        funnel = []\n",
    "\n",
    "        for kwargs in non_zero:\n",
    "            should_hit_random_fuzzy = should_hit_generate_fuzzy(**kwargs)\n",
    "            score = performance_testing(should_hit_random_fuzzy, n=100)['score']\n",
    "            funnel += [(kwargs, score)]\n",
    "\n",
    "        funnel.sort(key=lambda x: x[1], reverse=True)\n",
    "        funnel = funnel[:50]\n",
    "\n",
    "        for (kwargs, _) in funnel:\n",
    "            should_hit_random_fuzzy = should_hit_generate_fuzzy(**kwargs)\n",
    "            score = performance_testing(should_hit_random_fuzzy, n=500)['score']\n",
    "            shortlist += [(kwargs, score)]\n",
    "\n",
    "    shortlist.sort(key=lambda x: x[1], reverse=True)\n",
    "    shortlist = shortlist[:10]\n",
    "    \n",
    "    best = []\n",
    "\n",
    "    for (kwargs, _) in shortlist:\n",
    "        should_hit_random_fuzzy = should_hit_generate_fuzzy(**kwargs)\n",
    "        score = performance_testing(should_hit_random_fuzzy, n=2500)['score']\n",
    "        best += [(kwargs, score)]\n",
    "\n",
    "    best.sort(key=lambda x: x[1], reverse=True)\n",
    "    return best[:10]\n",
    "\n",
    "def model_tournament(winners=[], epochs=1, n_winners=10, winners_per_epoch=4):\n",
    "    epochs = max(epochs, int(np.ceil(n_winners / winners_per_epoch)))\n",
    "    \n",
    "    for i in range(epochs):\n",
    "        top = monte_carlo_rule_finding(1)[:winners_per_epoch]\n",
    "        for (kwargs, _) in top:\n",
    "            should_hit_random_fuzzy = should_hit_generate_fuzzy(**kwargs)\n",
    "            score = performance_testing(should_hit_random_fuzzy, n=10000)['score']\n",
    "            winners += [(kwargs, score)]\n",
    "        winners.sort(key=lambda x: x[1], reverse=True)\n",
    "        if len(winners) > n_winners: winners = winners[:n_winners]\n",
    "        print(\"Epoch {}:\".format(i))\n",
    "        print(\"> Scores: \", end='')\n",
    "        for _, score in winners:\n",
    "            print(\"{:.4f}, \".format(score), end='')\n",
    "        print()\n",
    "    return winners"
   ]
  },
  {
   "cell_type": "code",
   "execution_count": 10,
   "metadata": {},
   "outputs": [
    {
     "name": "stdout",
     "output_type": "stream",
     "text": [
      "> Scores: 0.8384, 0.7733, 0.7689, 0.7645, 0.7482, 0.7482, 0.7418, 0.7418, 0.7375, 0.7130, \n"
     ]
    },
    {
     "data": {
      "text/plain": [
       "({'md_locs': [4, 0, 1],\n",
       "  'risk_md_loc': 1,\n",
       "  'rules': [{'prem_1': 'IH', 'prem_2': 'AM', 'op': 'OR', 'target': 'RH'},\n",
       "   {'prem_1': 'AL', 'prem_2': 'AM', 'op': 'AND', 'target': 'RM'},\n",
       "   {'prem_1': 'AL', 'prem_2': 'IL', 'op': 'AND', 'target': 'RL'},\n",
       "   {'prem_1': 'BM', 'prem_2': 'AM', 'op': 'AND', 'target': 'RL'},\n",
       "   {'prem_1': 'AM', 'prem_2': 'AH', 'op': 'OR', 'target': 'RH'}]},\n",
       " 0.8383691406249998)"
      ]
     },
     "metadata": {},
     "output_type": "display_data"
    }
   ],
   "source": [
    "best_models = load_data(\"models\")\n",
    "\n",
    "print(\"> Scores: \", end='')\n",
    "for _, score in best_models:\n",
    "    print(\"{:.4f}, \".format(score), end='')\n",
    "print()\n",
    "display(best_models[0])"
   ]
  },
  {
   "cell_type": "code",
   "execution_count": 11,
   "metadata": {},
   "outputs": [],
   "source": [
    "#best_models = model_tournament(best_models, epochs=5)\n",
    "#save_data(\"models\", best_models)"
   ]
  },
  {
   "cell_type": "markdown",
   "metadata": {},
   "source": [
    "#### Ensemble classifier"
   ]
  },
  {
   "cell_type": "code",
   "execution_count": 12,
   "metadata": {},
   "outputs": [],
   "source": [
    "def ensemble_classifier(top_classifiers):\n",
    "    unit_should_hits = [\n",
    "        [should_hit_generate_fuzzy(**clf[0]), clf[1]]\n",
    "        for clf in top_classifiers\n",
    "    ]\n",
    "    def should_hit_ensemble(player_base, player_aces, dealer_points):\n",
    "        hit = 0.\n",
    "        stand = 0.\n",
    "        for should_hit, weight in unit_should_hits:\n",
    "            if should_hit(player_base, player_aces, dealer_points):\n",
    "                hit += weight\n",
    "            else:\n",
    "                stand += weight\n",
    "        return hit > stand\n",
    "    return should_hit_ensemble"
   ]
  },
  {
   "cell_type": "code",
   "execution_count": 13,
   "metadata": {},
   "outputs": [
    {
     "data": {
      "text/plain": [
       "{'fraction': 0.41696, 'score': 0.7327359999999999}"
      ]
     },
     "execution_count": 13,
     "metadata": {},
     "output_type": "execute_result"
    }
   ],
   "source": [
    "# Classifiers are mostly uncorrelated, so we can create an enseble model\n",
    "# by averaging their scores, which should reduce variability.\n",
    "\n",
    "should_hit_ensemble = ensemble_classifier(best_models[:10])\n",
    "performance_testing(should_hit_ensemble, n=25000)"
   ]
  },
  {
   "cell_type": "markdown",
   "metadata": {},
   "source": [
    "#### Evolutionary algorithm"
   ]
  },
  {
   "cell_type": "code",
   "execution_count": 14,
   "metadata": {},
   "outputs": [],
   "source": [
    "def between(x, low, high):\n",
    "    if x < low:  return low\n",
    "    if x > high: return high\n",
    "    else:        return x\n",
    "\n",
    "def shift():\n",
    "    a = np.random.normal()\n",
    "    return int(np.ceil(np.abs(a)) * np.sign(a))\n",
    "    \n",
    "def mutate(kwargs):\n",
    "    new_kwargs = copy.deepcopy(kwargs)\n",
    "    r = np.random.random()\n",
    "    if r < 0.75:\n",
    "        new_md_locs = kwargs['md_locs']\n",
    "        i = np.random.randint(0,3)\n",
    "        if i == 0:   new_md_locs[0] = between(new_md_locs[0] + shift(), 0, 21)\n",
    "        elif i == 1: new_md_locs[1] = between(new_md_locs[1] + shift(), 0, 4)\n",
    "        elif i == 2: new_md_locs[2] = between(new_md_locs[2] + shift(), 0, 11)\n",
    "    else:\n",
    "        new_risk_md_loc = between(kwargs['risk_md_loc'] + shift(), 0, 10)\n",
    "        new_kwargs['risk_md_loc'] = new_risk_md_loc\n",
    "    return new_kwargs\n",
    "\n",
    "def cross(kwargs_1, kwargs_2):\n",
    "    new_kwargs = copy.deepcopy(kwargs_1)\n",
    "    assert len(kwargs_1['rules']) == len(kwargs_2['rules'])\n",
    "    assert len(kwargs_1['rules']) == 5\n",
    "    new_kwargs['rules'] = np.random.permutation(np.where(\n",
    "        np.random.randint(2, size=5), kwargs_1['rules'], kwargs_2['rules']\n",
    "    ))\n",
    "    return new_kwargs\n",
    "\n",
    "def evolution_one_epoch(winners, epoch):\n",
    "    for _ in range(15):\n",
    "        new_kwargs = None\n",
    "        r = np.random.random()\n",
    "        if r < 0.5:\n",
    "            k = np.random.randint(10)\n",
    "            new_kwargs = mutate(winners[k][0])\n",
    "        else:\n",
    "            k_1, k_2 = np.random.choice([0,1,2,3,4,5,6,7,8,9], 2)\n",
    "            new_kwargs = cross(winners[k_1][0], winners[k_2][0])\n",
    "        \n",
    "        should_hit_random_fuzzy = should_hit_generate_fuzzy(**new_kwargs)\n",
    "        score = performance_testing(should_hit_random_fuzzy, n=40000)['score']\n",
    "        winners += [(new_kwargs, score)]\n",
    "    \n",
    "    winners.sort(key=lambda x: x[1], reverse=True)\n",
    "    if len(winners) > 10: winners = winners[:10]\n",
    "    print(\"Epoch {}:\".format(epoch))\n",
    "    print(\"> Scores: \", end='')\n",
    "    for _, score in winners:\n",
    "        print(\"{:.4f}, \".format(score), end='')\n",
    "    print()\n",
    "    return winners\n",
    "\n",
    "def model_evolution(winners, epochs=5):\n",
    "    winners = copy.deepcopy(winners)\n",
    "    for i in range(epochs):\n",
    "        winners = evolution_one_epoch(winners, i)\n",
    "    return winners"
   ]
  },
  {
   "cell_type": "code",
   "execution_count": 15,
   "metadata": {},
   "outputs": [
    {
     "name": "stdout",
     "output_type": "stream",
     "text": [
      "> Scores: 0.8777, 0.8684, 0.8585, 0.8571, 0.8530, 0.8513, 0.8441, 0.8435, 0.8427, 0.8424, \n"
     ]
    },
    {
     "data": {
      "text/plain": [
       "({'md_locs': [11, 3, 10],\n",
       "  'risk_md_loc': 6,\n",
       "  'rules': array([{'prem_1': 'BL', 'prem_2': 'IM', 'op': 'AND', 'target': 'RH'},\n",
       "         {'prem_1': 'AH', 'prem_2': 'BL', 'op': 'OR', 'target': 'RL'},\n",
       "         {'prem_1': 'AH', 'prem_2': 'BL', 'op': 'OR', 'target': 'RL'},\n",
       "         {'prem_1': 'AH', 'prem_2': 'AM', 'op': 'OR', 'target': 'RH'},\n",
       "         {'prem_1': 'AM', 'prem_2': 'BH', 'op': 'OR', 'target': 'RM'}],\n",
       "        dtype=object)},\n",
       " 0.8777347656250001)"
      ]
     },
     "metadata": {},
     "output_type": "display_data"
    }
   ],
   "source": [
    "evolved_models = load_data(\"evolved\")\n",
    "\n",
    "print(\"> Scores: \", end='')\n",
    "for _, score in evolved_models:\n",
    "    print(\"{:.4f}, \".format(score), end='')\n",
    "print()\n",
    "display(evolved_models[0])"
   ]
  },
  {
   "cell_type": "code",
   "execution_count": 16,
   "metadata": {},
   "outputs": [],
   "source": [
    "#evolved_models = model_evolution(best_models, epochs=5)\n",
    "#evolved_models = model_evolution(evolved_models, epochs=10)\n",
    "#save_data(\"evolved\", evolved_models)"
   ]
  },
  {
   "cell_type": "code",
   "execution_count": 17,
   "metadata": {},
   "outputs": [
    {
     "data": {
      "text/plain": [
       "{'fraction': 0.42256, 'score': 0.7938809999999998}"
      ]
     },
     "execution_count": 17,
     "metadata": {},
     "output_type": "execute_result"
    }
   ],
   "source": [
    "should_hit_ensemble = ensemble_classifier(evolved_models[:1])\n",
    "performance_testing(should_hit_ensemble, n=50000)"
   ]
  }
 ],
 "metadata": {
  "kernelspec": {
   "display_name": "Python 3",
   "language": "python",
   "name": "python3"
  },
  "language_info": {
   "codemirror_mode": {
    "name": "ipython",
    "version": 3
   },
   "file_extension": ".py",
   "mimetype": "text/x-python",
   "name": "python",
   "nbconvert_exporter": "python",
   "pygments_lexer": "ipython3",
   "version": "3.7.4"
  }
 },
 "nbformat": 4,
 "nbformat_minor": 2
}
