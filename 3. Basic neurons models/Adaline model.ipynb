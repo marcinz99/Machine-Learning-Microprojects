{
 "cells": [
  {
   "cell_type": "markdown",
   "metadata": {},
   "source": [
    "# Adaline model (Adaptive Linear Neuron)"
   ]
  },
  {
   "cell_type": "code",
   "execution_count": 1,
   "metadata": {},
   "outputs": [],
   "source": [
    "import numpy as np\n",
    "import matplotlib.pyplot as plt\n",
    "np.random.seed(12355)"
   ]
  },
  {
   "cell_type": "markdown",
   "metadata": {},
   "source": [
    "#### Dataset"
   ]
  },
  {
   "cell_type": "code",
   "execution_count": 2,
   "metadata": {},
   "outputs": [],
   "source": [
    "dataset = np.array([\n",
    "    [0.5, 3.4, 0], [-1.3, 2.7, 0], [1.1, 0.5, 0], [-1.0, 6.1, 0], [3.9, 0.8, 0],\n",
    "    [-0.7, 5.2, 0], [0.2, 2.1, 0], [1.9, 1.7, 0], [0.5, 4.9, 0], [2.1, 3.8, 0],\n",
    "    [5.2, 6.8, 1], [6.2, 4.5, 1], [7.6, 5.7, 1], [4.8, 4.2, 1], [3.6, 7.1, 1],\n",
    "    [4.4, 6.1, 1], [7.2, 3.4, 1], [7.3, 2.1, 1], [5.9, 2.9, 1], [7.2, 6.9, 1]\n",
    "])\n",
    "\n",
    "points = np.array(dataset[:, :2], dtype=float)\n",
    "labels = np.array(dataset[:, 2], dtype=int)"
   ]
  },
  {
   "cell_type": "code",
   "execution_count": 3,
   "metadata": {},
   "outputs": [
    {
     "data": {
      "image/png": "[encoded data removed]",
      "text/plain": [
       "<Figure size 432x288 with 1 Axes>"
      ]
     },
     "metadata": {
      "needs_background": "light"
     },
     "output_type": "display_data"
    }
   ],
   "source": [
    "fig = plt.figure()\n",
    "colors = ['g', 'b']\n",
    "zeros = np.where(labels == 0)\n",
    "ones  = np.where(labels == 1)\n",
    "plt.scatter(points[zeros][:, 0], points[zeros][:, 1], c=colors[0])\n",
    "plt.scatter(points[ones][:, 0], points[ones][:, 1], c=colors[1])\n",
    "\n",
    "plt.show()"
   ]
  },
  {
   "cell_type": "markdown",
   "metadata": {},
   "source": [
    "## Classic Adaline"
   ]
  },
  {
   "cell_type": "markdown",
   "metadata": {},
   "source": [
    "#### Model"
   ]
  },
  {
   "cell_type": "code",
   "execution_count": 4,
   "metadata": {},
   "outputs": [],
   "source": [
    "class AdalineClassic:\n",
    "    def __init__(self, classes, learning_factor=0.015, tolerance=0):\n",
    "        self.classes = classes\n",
    "        self.learning_factor = learning_factor\n",
    "        self.tolerance = tolerance\n",
    "        self.weights = np.random.rand(3) - np.array([0.5, 0.5, 0.5])\n",
    "    \n",
    "    def train(self, data, labels, verbose=False):\n",
    "        incorrect = self.tolerance + 1\n",
    "        iters_fuse = 250\n",
    "        incorrect_hist = []\n",
    "        \n",
    "        while incorrect > self.tolerance:\n",
    "            incorrect = 0\n",
    "            \n",
    "            if iters_fuse < 0:\n",
    "                print(\"Failed to train the neuron\")\n",
    "                break\n",
    "            \n",
    "            for i in range(len(data)):\n",
    "                X_vec = np.hstack((data[i], [1]))\n",
    "                true_class = self._discrimination(labels[i])\n",
    "                \n",
    "                self.weights += self.learning_factor *\\\n",
    "                                (true_class - self._compute(X_vec)) *\\\n",
    "                                X_vec\n",
    "            \n",
    "            for i in range(len(data)):\n",
    "                X_vec = np.hstack((data[i], [1]))\n",
    "                prediction = self._activation(self._compute(X_vec))\n",
    "                true_class = self._discrimination(labels[i])\n",
    "                \n",
    "                if prediction != true_class:\n",
    "                    incorrect += 1\n",
    "            \n",
    "            incorrect_hist += [incorrect]\n",
    "            iters_fuse -= 1\n",
    "        \n",
    "        if verbose:\n",
    "            print(\"Incorrect answers in consecutive iterations:\")\n",
    "            print(incorrect_hist)\n",
    "    \n",
    "    def predict_class(self, point):\n",
    "        X_vec = np.hstack((point, [1]))\n",
    "        prediction = self._activation(self._compute(X_vec))\n",
    "        \n",
    "        if prediction < 0: return self.classes[0]\n",
    "        else:              return self.classes[1]\n",
    "    \n",
    "    def decisive_boundary_val(self, x):\n",
    "        y = - self.weights[0] / self.weights[1] * x - self.weights[2] / self.weights[1]\n",
    "        return y\n",
    "    \n",
    "    def _compute(self, X_vec):\n",
    "        y = np.dot(self.weights, X_vec)\n",
    "        return y\n",
    "    \n",
    "    def _discrimination(self, label):\n",
    "        if   label == self.classes[0]: return -1.\n",
    "        elif label == self.classes[1]: return 1.\n",
    "    \n",
    "    def _activation(self, x):\n",
    "        if x > 0.: return 1.\n",
    "        else:      return -1."
   ]
  },
  {
   "cell_type": "markdown",
   "metadata": {},
   "source": [
    "#### Training"
   ]
  },
  {
   "cell_type": "code",
   "execution_count": 5,
   "metadata": {},
   "outputs": [
    {
     "name": "stdout",
     "output_type": "stream",
     "text": [
      "Incorrect answers in consecutive iterations:\n",
      "[10, 10, 10, 10, 8, 7, 7, 6, 3, 3, 3, 2, 2, 1, 1, 1, 1, 0]\n"
     ]
    }
   ],
   "source": [
    "adaline_cl = AdalineClassic(classes=(0, 1))\n",
    "adaline_cl.train(points, labels, verbose=True)"
   ]
  },
  {
   "cell_type": "markdown",
   "metadata": {},
   "source": [
    "#### Visualization"
   ]
  },
  {
   "cell_type": "code",
   "execution_count": 6,
   "metadata": {},
   "outputs": [
    {
     "data": {
      "image/png": "[encoded data removed]",
      "text/plain": [
       "<Figure size 432x288 with 1 Axes>"
      ]
     },
     "metadata": {
      "needs_background": "light"
     },
     "output_type": "display_data"
    }
   ],
   "source": [
    "xs = np.linspace(-2., 8., 11)\n",
    "\n",
    "fig = plt.figure()\n",
    "colors = ['g', 'b']\n",
    "zeros = np.where(labels == 0)\n",
    "ones  = np.where(labels == 1)\n",
    "plt.scatter(points[zeros][:, 0], points[zeros][:, 1], c=colors[0])\n",
    "plt.scatter(points[ones][:, 0], points[ones][:, 1], c=colors[1])\n",
    "plt.plot(xs, [adaline_cl.decisive_boundary_val(x) for x in xs])\n",
    "\n",
    "plt.show()"
   ]
  },
  {
   "cell_type": "markdown",
   "metadata": {},
   "source": [
    "## RLS-based Adaline (Recursive Least Squares)"
   ]
  },
  {
   "cell_type": "markdown",
   "metadata": {},
   "source": [
    "#### Model"
   ]
  },
  {
   "cell_type": "code",
   "execution_count": 7,
   "metadata": {},
   "outputs": [],
   "source": [
    "class AdalineRLS:\n",
    "    def __init__(self, classes, forgeting_factor=0.5, tolerance=0):\n",
    "        self.classes = classes\n",
    "        self.forgeting_factor = forgeting_factor\n",
    "        self.tolerance = tolerance\n",
    "        self.weights = np.random.rand(3) - np.array([0.5, 0.5, 0.5])\n",
    "    \n",
    "    def train(self, data, labels, gamma_factor=1., verbose=False):\n",
    "        incorrect = self.tolerance + 1\n",
    "        iters_fuse = 250\n",
    "        incorrect_hist = []\n",
    "        \n",
    "        data = np.hstack((data, np.ones(data.shape[0]).reshape(-1, 1)))\n",
    "        P = gamma_factor * np.identity(data.shape[1])\n",
    "        \n",
    "        while incorrect > self.tolerance:\n",
    "            incorrect = 0\n",
    "            \n",
    "            if iters_fuse < 0:\n",
    "                print(\"Failed to train the neuron\")\n",
    "                break\n",
    "            \n",
    "            for i in range(len(data)):\n",
    "                X_vec = data[i].reshape(-1, 1)\n",
    "                prediction = self._activation(self._compute(X_vec))\n",
    "                true_class = self._discrimination(labels[i])\n",
    "                \n",
    "                error_factor = true_class - prediction\n",
    "                g = (P @ X_vec) / (self.forgeting_factor + X_vec.T @ P @ X_vec)\n",
    "                P = (1. / self.forgeting_factor) *\\\n",
    "                    (np.identity(data.shape[1]) - g @ X_vec.T) * P\n",
    "                \n",
    "                self.weights += error_factor * g.reshape(1, -1).flatten()\n",
    "            \n",
    "            for i in range(len(data)):\n",
    "                X_vec = data[i]\n",
    "                prediction = self._activation(self._compute(X_vec))\n",
    "                true_class = self._discrimination(labels[i])\n",
    "                \n",
    "                if prediction != true_class:\n",
    "                    incorrect += 1\n",
    "            \n",
    "            incorrect_hist += [incorrect]\n",
    "            iters_fuse -= 1\n",
    "        \n",
    "        if verbose:\n",
    "            print(\"Incorrect answers in consecutive iterations:\")\n",
    "            print(incorrect_hist)\n",
    "    \n",
    "    def predict_class(self, point):\n",
    "        X_vec = np.hstack((point, [1]))\n",
    "        prediction = self._activation(self._compute(X_vec))\n",
    "        \n",
    "        if prediction < 0: return self.classes[0]\n",
    "        else:              return self.classes[1]\n",
    "    \n",
    "    def decisive_boundary_val(self, x):\n",
    "        y = - self.weights[0] / self.weights[1] * x - self.weights[2] / self.weights[1]\n",
    "        return y\n",
    "    \n",
    "    def _compute(self, X_vec):\n",
    "        y = np.dot(self.weights, X_vec)\n",
    "        return y\n",
    "    \n",
    "    def _discrimination(self, label):\n",
    "        if   label == self.classes[0]: return -1.\n",
    "        elif label == self.classes[1]: return 1.\n",
    "    \n",
    "    def _activation(self, x):\n",
    "        if x > 0.: return 1.\n",
    "        else:      return -1."
   ]
  },
  {
   "cell_type": "markdown",
   "metadata": {},
   "source": [
    "#### Training"
   ]
  },
  {
   "cell_type": "code",
   "execution_count": 8,
   "metadata": {},
   "outputs": [
    {
     "name": "stdout",
     "output_type": "stream",
     "text": [
      "Incorrect answers in consecutive iterations:\n",
      "[10, 2, 1, 8, 1, 0]\n"
     ]
    }
   ],
   "source": [
    "adaline_rls = AdalineRLS(classes=(0, 1))\n",
    "adaline_rls.train(points, labels, verbose=True)"
   ]
  },
  {
   "cell_type": "markdown",
   "metadata": {},
   "source": [
    "#### Visualization"
   ]
  },
  {
   "cell_type": "code",
   "execution_count": 9,
   "metadata": {},
   "outputs": [
    {
     "data": {
      "image/png": "[encoded data removed]",
      "text/plain": [
       "<Figure size 432x288 with 1 Axes>"
      ]
     },
     "metadata": {
      "needs_background": "light"
     },
     "output_type": "display_data"
    }
   ],
   "source": [
    "xs = np.linspace(-2., 8., 11)\n",
    "\n",
    "fig = plt.figure()\n",
    "colors = ['g', 'b']\n",
    "zeros = np.where(labels == 0)\n",
    "ones  = np.where(labels == 1)\n",
    "plt.scatter(points[zeros][:, 0], points[zeros][:, 1], c=colors[0])\n",
    "plt.scatter(points[ones][:, 0], points[ones][:, 1], c=colors[1])\n",
    "plt.plot(xs, [adaline_rls.decisive_boundary_val(x) for x in xs])\n",
    "\n",
    "plt.show()"
   ]
  }
 ],
 "metadata": {
  "kernelspec": {
   "display_name": "Python 3",
   "language": "python",
   "name": "python3"
  },
  "language_info": {
   "codemirror_mode": {
    "name": "ipython",
    "version": 3
   },
   "file_extension": ".py",
   "mimetype": "text/x-python",
   "name": "python",
   "nbconvert_exporter": "python",
   "pygments_lexer": "ipython3",
   "version": "3.7.1"
  }
 },
 "nbformat": 4,
 "nbformat_minor": 2
}
