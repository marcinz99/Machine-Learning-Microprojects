{
 "cells": [
  {
   "cell_type": "markdown",
   "metadata": {},
   "source": [
    "# Sigmoid neuron model"
   ]
  },
  {
   "cell_type": "code",
   "execution_count": 1,
   "metadata": {},
   "outputs": [],
   "source": [
    "import numpy as np\n",
    "import matplotlib.pyplot as plt\n",
    "np.random.seed(12345)"
   ]
  },
  {
   "cell_type": "markdown",
   "metadata": {},
   "source": [
    "#### Dataset"
   ]
  },
  {
   "cell_type": "code",
   "execution_count": 2,
   "metadata": {},
   "outputs": [],
   "source": [
    "dataset = np.array([\n",
    "    [0.5, 3.4, 0], [-1.3, 2.7, 0], [1.1, 0.5, 0], [-1.0, 6.1, 0], [3.9, 0.8, 0],\n",
    "    [-0.7, 5.2, 0], [0.2, 2.1, 0], [1.9, 1.7, 0], [0.5, 4.9, 0], [2.1, 3.8, 0],\n",
    "    [5.2, 6.8, 1], [6.2, 4.5, 1], [7.6, 5.7, 1], [4.8, 4.2, 1], [3.6, 7.1, 1],\n",
    "    [4.4, 6.1, 1], [7.2, 3.4, 1], [7.3, 2.1, 1], [5.9, 2.9, 1], [7.2, 6.9, 1]\n",
    "])\n",
    "\n",
    "points = np.array(dataset[:, :2], dtype=float)\n",
    "labels = np.array(dataset[:, 2], dtype=int)"
   ]
  },
  {
   "cell_type": "code",
   "execution_count": 3,
   "metadata": {},
   "outputs": [
    {
     "data": {
      "image/png": "[encoded data removed]",
      "text/plain": [
       "<Figure size 432x288 with 1 Axes>"
      ]
     },
     "metadata": {
      "needs_background": "light"
     },
     "output_type": "display_data"
    }
   ],
   "source": [
    "fig = plt.figure()\n",
    "colors = ['g', 'b']\n",
    "zeros = np.where(labels == 0)\n",
    "ones  = np.where(labels == 1)\n",
    "plt.scatter(points[zeros][:, 0], points[zeros][:, 1], c=colors[0])\n",
    "plt.scatter(points[ones][:, 0], points[ones][:, 1], c=colors[1])\n",
    "\n",
    "plt.show()"
   ]
  },
  {
   "cell_type": "markdown",
   "metadata": {},
   "source": [
    "## Classic Sigmoid"
   ]
  },
  {
   "cell_type": "markdown",
   "metadata": {},
   "source": [
    "#### Model"
   ]
  },
  {
   "cell_type": "code",
   "execution_count": 4,
   "metadata": {},
   "outputs": [],
   "source": [
    "class SigmoidClassic:\n",
    "    def __init__(self, classes, learning_factor=0.015, tolerance=0):\n",
    "        self.classes = classes\n",
    "        self.learning_factor = learning_factor\n",
    "        self.tolerance = tolerance\n",
    "        self.weights = np.random.rand(3) - np.array([0.5, 0.5, 0.5])\n",
    "    \n",
    "    def train(self, data, labels, beta_factor=3.5, verbose=False):\n",
    "        incorrect = self.tolerance + 1\n",
    "        iters_fuse = 250\n",
    "        incorrect_hist = []\n",
    "        \n",
    "        while incorrect > self.tolerance:\n",
    "            incorrect = 0\n",
    "            \n",
    "            if iters_fuse < 0:\n",
    "                print(\"Failed to train the neuron\")\n",
    "                break\n",
    "            \n",
    "            for i in range(len(data)):\n",
    "                X_vec = np.hstack((data[i], [1.]))\n",
    "                true_class = self._discrimination(label=labels[i])\n",
    "                \n",
    "                self.weights += (\n",
    "                    self.learning_factor *\n",
    "                    (true_class - self._activation(beta_factor * np.dot(self.weights, X_vec))) *\n",
    "                    beta_factor * (1. - self._activation(np.dot(self.weights, X_vec)) ** 2) *\n",
    "                    X_vec\n",
    "                )\n",
    "            \n",
    "            for i in range(len(data)):\n",
    "                X_vec = np.hstack((data[i], [1.]))\n",
    "                prediction = self._discrimination(value=np.dot(self.weights, X_vec))\n",
    "                true_class = self._discrimination(label=labels[i])\n",
    "                \n",
    "                if prediction != true_class:\n",
    "                    incorrect += 1\n",
    "            \n",
    "            incorrect_hist += [incorrect]\n",
    "            iters_fuse -= 1\n",
    "        \n",
    "        if verbose:\n",
    "            print(\"Incorrect answers in consecutive iterations:\")\n",
    "            print(incorrect_hist)\n",
    "    \n",
    "    def predict_class(self, point):\n",
    "        X_vec = np.hstack((point, [1.]))\n",
    "        prediction = self._activation(np.dot(self.weights, X_vec))\n",
    "        \n",
    "        if prediction < 0: return self.classes[0]\n",
    "        else:              return self.classes[1]\n",
    "    \n",
    "    def decisive_boundary_val(self, x):\n",
    "        y = - self.weights[0] / self.weights[1] * x - self.weights[2] / self.weights[1]\n",
    "        return y\n",
    "    \n",
    "    def _discrimination(self, label=None, value=None):\n",
    "        if not (label is None):\n",
    "            if   label == self.classes[0]: return -1.\n",
    "            elif label == self.classes[1]: return 1.\n",
    "        if not (value is None):\n",
    "            if value > 0.: return 1.\n",
    "            else:          return -1.\n",
    "         \n",
    "    def _activation(self, x):\n",
    "        return np.tanh(x)"
   ]
  },
  {
   "cell_type": "markdown",
   "metadata": {},
   "source": [
    "#### Test of training (20 different runs)"
   ]
  },
  {
   "cell_type": "code",
   "execution_count": 5,
   "metadata": {},
   "outputs": [
    {
     "name": "stdout",
     "output_type": "stream",
     "text": [
      "Incorrect answers in consecutive iterations:\n",
      "[9, 3, 9, 9, 5, 9, 3, 5, 4, 1, 7, 7, 4, 7, 7, 2, 2, 0]\n",
      "Incorrect answers in consecutive iterations:\n",
      "[10, 10, 9, 10, 10, 9, 4, 9, 8, 6, 8, 3, 7, 2, 2, 7, 1, 7, 6, 4, 2, 2, 0]\n",
      "Incorrect answers in consecutive iterations:\n",
      "[10, 4, 7, 4, 4, 9, 9, 4, 5, 4, 4, 2, 0]\n",
      "Incorrect answers in consecutive iterations:\n",
      "[10, 7, 4, 9, 9, 6, 6, 6, 8, 6, 4, 5, 5, 5, 5, 3, 1, 1, 7, 2, 0]\n",
      "Incorrect answers in consecutive iterations:\n",
      "[10, 10, 10, 10, 10, 10, 10, 10, 10, 10, 10, 10, 10, 10, 10, 10, 10, 10, 10, 10, 10, 10, 10, 10, 10, 10, 10, 10, 10, 10, 10, 10, 10, 10, 10, 10, 10, 9, 9, 10, 9, 9, 6, 9, 5, 3, 3, 7, 6, 2, 0]\n",
      "Incorrect answers in consecutive iterations:\n",
      "[4, 8, 9, 7, 6, 6, 6, 6, 6, 8, 3, 3, 3, 1, 7, 0]\n",
      "Incorrect answers in consecutive iterations:\n",
      "[4, 9, 9, 6, 9, 3, 3, 1, 7, 4, 1, 7, 8, 1, 7, 8, 0]\n",
      "Incorrect answers in consecutive iterations:\n",
      "[10, 3, 9, 9, 3, 3, 2, 8, 7, 5, 3, 1, 8, 2, 7, 1, 7, 7, 3, 6, 1, 1, 7, 0]\n",
      "Incorrect answers in consecutive iterations:\n",
      "[4, 10, 9, 6, 6, 6, 6, 6, 6, 6, 6, 4, 1, 3, 5, 1, 1, 7, 2, 1, 1, 1, 0]\n",
      "Incorrect answers in consecutive iterations:\n",
      "[7, 3, 5, 9, 9, 9, 3, 7, 5, 4, 1, 7, 4, 0]\n",
      "Incorrect answers in consecutive iterations:\n",
      "[10, 10, 10, 10, 10, 10, 10, 10, 7, 7, 7, 7, 4, 4, 4, 9, 3, 3, 7, 4, 2, 8, 2, 3, 0]\n",
      "Incorrect answers in consecutive iterations:\n",
      "[10, 10, 10, 10, 9, 9, 6, 6, 6, 8, 3, 5, 7, 3, 2, 1, 7, 0]\n",
      "Incorrect answers in consecutive iterations:\n",
      "[5, 10, 4, 7, 4, 7, 6, 6, 7, 6, 6, 5, 4, 5, 1, 1, 4, 7, 4, 4, 3, 2, 0]\n",
      "Incorrect answers in consecutive iterations:\n",
      "[7, 9, 9, 9, 8, 3, 7, 7, 7, 1, 8, 5, 4, 2, 0]\n",
      "Incorrect answers in consecutive iterations:\n",
      "[9, 9, 9, 3, 6, 2, 9, 3, 4, 1, 7, 7, 0]\n",
      "Incorrect answers in consecutive iterations:\n",
      "[10, 7, 9, 9, 6, 6, 8, 6, 3, 4, 3, 5, 4, 5, 5, 2, 1, 3, 0]\n",
      "Incorrect answers in consecutive iterations:\n",
      "[10, 4, 6, 6, 9, 10, 9, 8, 9, 3, 5, 4, 1, 8, 2, 0]\n",
      "Incorrect answers in consecutive iterations:\n",
      "[10, 10, 7, 4, 9, 8, 9, 6, 8, 3, 4, 4, 2, 0]\n",
      "Incorrect answers in consecutive iterations:\n",
      "[4, 9, 9, 7, 4, 5, 8, 6, 6, 3, 1, 3, 2, 1, 6, 3, 2, 0]\n",
      "Incorrect answers in consecutive iterations:\n",
      "[10, 10, 6, 4, 7, 9, 6, 9, 6, 4, 5, 2, 2, 6, 7, 4, 3, 0]\n"
     ]
    }
   ],
   "source": [
    "for _ in range(20):\n",
    "    sigmoid_cl = SigmoidClassic(classes=(0, 1))\n",
    "    sigmoid_cl.train(points, labels, verbose=True)"
   ]
  },
  {
   "cell_type": "markdown",
   "metadata": {},
   "source": [
    "#### Visualization"
   ]
  },
  {
   "cell_type": "code",
   "execution_count": 6,
   "metadata": {},
   "outputs": [
    {
     "data": {
      "image/png": "[encoded data removed]",
      "text/plain": [
       "<Figure size 432x288 with 1 Axes>"
      ]
     },
     "metadata": {
      "needs_background": "light"
     },
     "output_type": "display_data"
    }
   ],
   "source": [
    "xs = np.linspace(-2., 8., 11)\n",
    "\n",
    "fig = plt.figure()\n",
    "colors = ['g', 'b']\n",
    "zeros = np.where(labels == 0)\n",
    "ones  = np.where(labels == 1)\n",
    "plt.scatter(points[zeros][:, 0], points[zeros][:, 1], c=colors[0])\n",
    "plt.scatter(points[ones][:, 0], points[ones][:, 1], c=colors[1])\n",
    "plt.plot(xs, [sigmoid_cl.decisive_boundary_val(x) for x in xs])\n",
    "\n",
    "plt.show()"
   ]
  },
  {
   "cell_type": "markdown",
   "metadata": {},
   "source": [
    "## RLS-based Sigmoid (Recursive Least Squares)"
   ]
  },
  {
   "cell_type": "markdown",
   "metadata": {},
   "source": [
    "#### Model"
   ]
  },
  {
   "cell_type": "code",
   "execution_count": 7,
   "metadata": {},
   "outputs": [],
   "source": [
    "class SigmoidRLS:\n",
    "    def __init__(self, classes, sigmoid_factor=1.2, forgeting_factor=0.84, tolerance=0):\n",
    "        self.classes = classes\n",
    "        self.sigmoid_factor = sigmoid_factor\n",
    "        self.forgeting_factor = forgeting_factor\n",
    "        self.tolerance = tolerance\n",
    "        self.weights = np.random.rand(3) - np.array([0.5, 0.5, 0.5])\n",
    "    \n",
    "    def train(self, data, labels, gamma_factor=1., verbose=False):\n",
    "        incorrect = self.tolerance + 1\n",
    "        iters_fuse = 250\n",
    "        incorrect_hist = []\n",
    "        \n",
    "        data = np.hstack((data, np.ones(data.shape[0]).reshape(-1, 1)))\n",
    "        P = gamma_factor * np.identity(data.shape[1])\n",
    "        \n",
    "        while incorrect > self.tolerance:\n",
    "            incorrect = 0\n",
    "            \n",
    "            if iters_fuse < 0:\n",
    "                print(\"Failed to train the neuron\")\n",
    "                break\n",
    "            \n",
    "            for i in range(len(data)):\n",
    "                X_vec = data[i].reshape(-1, 1)\n",
    "                prediction = self._activation(np.dot(self.weights, X_vec))\n",
    "                true_class = self._discrimination(label=labels[i])\n",
    "                \n",
    "                error_factor = true_class - prediction\n",
    "                \n",
    "                activation_deriv = (\n",
    "                    self.sigmoid_factor *\n",
    "                    (1. - self._activation(np.dot(self.weights, X_vec)) ** 2)\n",
    "                )\n",
    "                g = (\n",
    "                    activation_deriv * (P @ X_vec) /\n",
    "                    (self.forgeting_factor + (activation_deriv ** 2) * X_vec.T @ P @ X_vec)\n",
    "                )\n",
    "                P = (\n",
    "                    (1. / self.forgeting_factor) *\n",
    "                    (np.identity(data.shape[1]) - activation_deriv * g @ X_vec.T) * P\n",
    "                )\n",
    "                if P.trace() > 1e5:\n",
    "                    # Handle the case of divergency - start again but with more gentle parameters\n",
    "                    P = gamma_factor * np.identity(data.shape[1])\n",
    "                    self.sigmoid_factor += 0.3\n",
    "                    self.forgeting_factor = (self.forgeting_factor + 1.)/2.\n",
    "                    self.weights = np.random.rand(3) - np.array([0.5, 0.5, 0.5])\n",
    "                else:\n",
    "                    self.weights += error_factor * g.reshape(1, -1).flatten()\n",
    "            \n",
    "            for i in range(len(data)):\n",
    "                X_vec = data[i]\n",
    "                prediction = self._discrimination(value=np.dot(self.weights, X_vec))\n",
    "                true_class = self._discrimination(label=labels[i])\n",
    "                \n",
    "                if prediction != true_class:\n",
    "                    incorrect += 1\n",
    "            \n",
    "            incorrect_hist += [incorrect]\n",
    "            iters_fuse -= 1\n",
    "        \n",
    "        if verbose:\n",
    "            print(\"Incorrect answers in consecutive iterations:\")\n",
    "            print(incorrect_hist)\n",
    "    \n",
    "    def predict_class(self, point):\n",
    "        X_vec = np.hstack((point, [1.]))\n",
    "        prediction = np.dot(self.weights, X_vec)\n",
    "        \n",
    "        if prediction < 0: return self.classes[0]\n",
    "        else:              return self.classes[1]\n",
    "    \n",
    "    def decisive_boundary_val(self, x):\n",
    "        y = - self.weights[0] / self.weights[1] * x - self.weights[2] / self.weights[1]\n",
    "        return y\n",
    "    \n",
    "    def _discrimination(self, label=None, value=None):\n",
    "        if not (label is None):\n",
    "            if   label == self.classes[0]: return -1.\n",
    "            elif label == self.classes[1]: return 1.\n",
    "        if not (value is None):\n",
    "            if value > 0.: return 1.\n",
    "            else:          return -1.\n",
    "         \n",
    "    def _activation(self, x):\n",
    "        return np.tanh(x)"
   ]
  },
  {
   "cell_type": "markdown",
   "metadata": {},
   "source": [
    "#### Test of training (20 different runs)"
   ]
  },
  {
   "cell_type": "code",
   "execution_count": 8,
   "metadata": {},
   "outputs": [
    {
     "name": "stdout",
     "output_type": "stream",
     "text": [
      "Incorrect answers in consecutive iterations:\n",
      "[9, 10, 10, 10, 10, 5, 2, 2, 1, 1, 1, 0]\n",
      "Incorrect answers in consecutive iterations:\n",
      "[7, 10, 10, 10, 10, 7, 4, 2, 1, 0]\n",
      "Incorrect answers in consecutive iterations:\n",
      "[9, 7, 7, 2, 1, 0]\n",
      "Incorrect answers in consecutive iterations:\n",
      "[4, 9, 10, 5, 2, 10, 5, 6, 3, 2, 1, 1, 1, 0]\n",
      "Incorrect answers in consecutive iterations:\n",
      "[7, 9, 4, 9, 10, 6, 3, 2, 1, 1, 1, 0]\n",
      "Incorrect answers in consecutive iterations:\n",
      "[4, 7, 10, 0]\n",
      "Incorrect answers in consecutive iterations:\n",
      "[7, 6, 9, 10, 4, 4, 3, 2, 1, 1, 1, 0]\n",
      "Incorrect answers in consecutive iterations:\n",
      "[10, 10, 9, 8, 10, 10, 10, 10, 4, 2, 1, 0]\n",
      "Incorrect answers in consecutive iterations:\n",
      "[10, 10, 10, 7, 4, 3, 2, 1, 1, 1, 0]\n",
      "Incorrect answers in consecutive iterations:\n",
      "[9, 7, 5, 2, 1, 1, 0]\n",
      "Incorrect answers in consecutive iterations:\n",
      "[4, 10, 10, 10, 10, 10, 10, 10, 10, 10, 10, 10, 10, 10, 10, 5, 2, 1, 1, 1, 1, 1, 1, 1, 1, 1, 0]\n",
      "Incorrect answers in consecutive iterations:\n",
      "[9, 9, 2, 10, 10, 6, 4, 3, 2, 1, 1, 1, 1, 0]\n",
      "Incorrect answers in consecutive iterations:\n",
      "[9, 7, 7, 1, 0]\n",
      "Incorrect answers in consecutive iterations:\n",
      "[5, 8, 7, 0]\n",
      "Incorrect answers in consecutive iterations:\n",
      "[4, 8, 7, 2, 1, 1, 0]\n",
      "Incorrect answers in consecutive iterations:\n",
      "[7, 10, 10, 4, 3, 2, 1, 1, 1, 1, 0]\n",
      "Incorrect answers in consecutive iterations:\n",
      "[6, 8, 10, 10, 10, 10, 7, 2, 1, 0]\n",
      "Incorrect answers in consecutive iterations:\n",
      "[6, 7, 8, 1, 0]\n",
      "Incorrect answers in consecutive iterations:\n",
      "[9, 7, 3, 2, 1, 0]\n",
      "Incorrect answers in consecutive iterations:\n",
      "[10, 6, 10, 10, 10, 9, 5, 2, 1, 0]\n"
     ]
    }
   ],
   "source": [
    "for _ in range(20):\n",
    "    sigmoid_rls = SigmoidRLS(classes=(0, 1))\n",
    "    sigmoid_rls.train(points, labels, verbose=True)"
   ]
  },
  {
   "cell_type": "markdown",
   "metadata": {},
   "source": [
    "#### Visualization"
   ]
  },
  {
   "cell_type": "code",
   "execution_count": 9,
   "metadata": {},
   "outputs": [
    {
     "data": {
      "image/png": "[encoded data removed]",
      "text/plain": [
       "<Figure size 432x288 with 1 Axes>"
      ]
     },
     "metadata": {
      "needs_background": "light"
     },
     "output_type": "display_data"
    }
   ],
   "source": [
    "xs = np.linspace(-2., 8., 11)\n",
    "\n",
    "fig = plt.figure()\n",
    "colors = ['g', 'b']\n",
    "zeros = np.where(labels == 0)\n",
    "ones  = np.where(labels == 1)\n",
    "plt.scatter(points[zeros][:, 0], points[zeros][:, 1], c=colors[0])\n",
    "plt.scatter(points[ones][:, 0], points[ones][:, 1], c=colors[1])\n",
    "plt.plot(xs, [sigmoid_rls.decisive_boundary_val(x) for x in xs])\n",
    "\n",
    "plt.show()"
   ]
  }
 ],
 "metadata": {
  "kernelspec": {
   "display_name": "Python 3",
   "language": "python",
   "name": "python3"
  },
  "language_info": {
   "codemirror_mode": {
    "name": "ipython",
    "version": 3
   },
   "file_extension": ".py",
   "mimetype": "text/x-python",
   "name": "python",
   "nbconvert_exporter": "python",
   "pygments_lexer": "ipython3",
   "version": "3.7.1"
  }
 },
 "nbformat": 4,
 "nbformat_minor": 2
}
