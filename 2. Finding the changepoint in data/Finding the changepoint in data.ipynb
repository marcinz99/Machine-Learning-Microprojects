{
 "cells": [
  {
   "cell_type": "markdown",
   "metadata": {},
   "source": [
    "## Finding the changepoint in data"
   ]
  },
  {
   "cell_type": "markdown",
   "metadata": {},
   "source": [
    "Given some organized set of 1D data, the aim is to find out at which point occured a change in its distribution."
   ]
  },
  {
   "cell_type": "code",
   "execution_count": 1,
   "metadata": {},
   "outputs": [],
   "source": [
    "import numpy as np\n",
    "import matplotlib.pyplot as plt\n",
    "import tensorflow as tf\n",
    "import tensorflow_probability as tfp\n",
    "tfd = tfp.distributions\n",
    "tfb = tfp.bijectors"
   ]
  },
  {
   "cell_type": "code",
   "execution_count": 2,
   "metadata": {},
   "outputs": [],
   "source": [
    "# Getting repeatable results\n",
    "REPEATABLE = True # Change to False if needed\n",
    "\n",
    "seed = None\n",
    "if REPEATABLE:\n",
    "    seed = 12345\n",
    "    tf.random.set_seed(seed)\n",
    "    np.random.seed(seed)"
   ]
  },
  {
   "cell_type": "markdown",
   "metadata": {},
   "source": [
    "#### Preparing the data\n",
    "\n",
    "Let us assume that there are 100 samples and we draw them from two Poisson distributions of different lambdas. Moreover there is a specific switchpoint separating those samples, yet most likely not quite apparrent when looking at the drawn data."
   ]
  },
  {
   "cell_type": "code",
   "execution_count": 3,
   "metadata": {},
   "outputs": [],
   "source": [
    "# User defined parameters\n",
    "switchpoint = 64 # important: switchpoint index! (x in [0, 99])\n",
    "lambda1_real = 5.3\n",
    "lambda2_real = 4.1\n",
    "\n",
    "# Distribution before the switchpoint\n",
    "draw_distribution_1 = tfd.Poisson(\n",
    "    rate = tf.constant(lambda1_real, dtype=float)\n",
    ")\n",
    "# Distribution after the switchpoint (inclusive)\n",
    "draw_distribution_2 = tfd.Poisson(\n",
    "    rate = tf.constant(lambda2_real, dtype=float)\n",
    ")"
   ]
  },
  {
   "cell_type": "code",
   "execution_count": 4,
   "metadata": {},
   "outputs": [],
   "source": [
    "before_switchpoint = draw_distribution_1.sample(\n",
    "    sample_shape = tf.constant(switchpoint, dtype=tf.int32),\n",
    "    seed = seed\n",
    ")\n",
    "\n",
    "after_switchpoint = draw_distribution_2.sample(\n",
    "    sample_shape = tf.constant(100 - switchpoint, dtype=tf.int32),\n",
    "    seed = seed\n",
    ")\n",
    "\n",
    "data = tf.concat([before_switchpoint, after_switchpoint], axis = 0)"
   ]
  },
  {
   "cell_type": "code",
   "execution_count": 5,
   "metadata": {},
   "outputs": [
    {
     "data": {
      "text/plain": [
       "<tf.Tensor: shape=(100,), dtype=float32, numpy=\n",
       "array([ 8.,  3.,  8.,  3.,  4.,  9.,  5., 11.,  8.,  4.,  7.,  8.,  6.,\n",
       "        4.,  8.,  2.,  3.,  5.,  5., 13.,  9.,  6.,  2.,  7.,  7.,  4.,\n",
       "        9.,  5.,  2.,  4.,  8.,  4.,  8.,  3.,  5.,  5.,  0.,  3.,  9.,\n",
       "        8.,  1.,  4.,  5.,  4.,  4.,  3.,  5.,  5.,  5.,  4., 16.,  6.,\n",
       "        9.,  3.,  8.,  6.,  5.,  4.,  7.,  5.,  4.,  5.,  3.,  4.,  6.,\n",
       "        1.,  3.,  3.,  3.,  5.,  1.,  4.,  2.,  5.,  2.,  2.,  5.,  6.,\n",
       "        5.,  5.,  3.,  3.,  5.,  6.,  3.,  6.,  6.,  3.,  2.,  2.,  9.,\n",
       "        6.,  3.,  6.,  5.,  4.,  2.,  0.,  5.,  4.], dtype=float32)>"
      ]
     },
     "execution_count": 5,
     "metadata": {},
     "output_type": "execute_result"
    }
   ],
   "source": [
    "data"
   ]
  },
  {
   "cell_type": "code",
   "execution_count": 6,
   "metadata": {},
   "outputs": [
    {
     "data": {
      "text/plain": [
       "<BarContainer object of 100 artists>"
      ]
     },
     "execution_count": 6,
     "metadata": {},
     "output_type": "execute_result"
    },
    {
     "data": {
      "image/png": "[encoded data removed]",
      "text/plain": [
       "<Figure size 1080x360 with 1 Axes>"
      ]
     },
     "metadata": {
      "needs_background": "light"
     },
     "output_type": "display_data"
    }
   ],
   "source": [
    "fig = plt.figure(figsize=(15,5))\n",
    "plt.bar(np.arange(0,100), data)"
   ]
  },
  {
   "cell_type": "markdown",
   "metadata": {},
   "source": [
    "#### Assumptions\n",
    "\n",
    "* Let us denote the changepoint as **tau**.\n",
    "* Every sample lefts to the tau (exclusively) is drawn from distribution `Poisson(rate=lambda1)`.\n",
    "* Accordingly the remaining ones are drawn from distribution `Poisson(rate=lambda2)`.\n",
    "\n",
    "Thus:\n",
    "\n",
    "* We will use MCMC to find lambda1, lambda2 and tau.\n",
    "* Lambdas are expected to be best suggested by the exponential distibution with rate (alpha).\n",
    "* Tau is equally likely to be located in every part of the range, so it is wise to draw potential values of it from uniform distribution."
   ]
  },
  {
   "cell_type": "code",
   "execution_count": 7,
   "metadata": {},
   "outputs": [],
   "source": [
    "alpha = 1. / tf.reduce_mean(data)\n",
    "lambda1_rv = tfd.Exponential(rate=alpha)\n",
    "lambda2_rv = tfd.Exponential(rate=alpha)\n",
    "tau_rv = tfd.Uniform()\n",
    "\n",
    "\n",
    "def joint_log_prob(data, lambda_1, lambda_2, tau):\n",
    "    lambdas = tf.gather(\n",
    "         [lambda_1, lambda_2],\n",
    "         indices=tf.cast(tau * tf.cast(tf.size(data), dtype=tf.float32) <= tf.cast(tf.range(tf.size(data)),\n",
    "                         dtype=tf.float32), dtype=tf.int32)\n",
    "    )\n",
    "    rv_observation = tfd.Poisson(rate=lambdas)\n",
    "    \n",
    "    # Unnormalized Bayesian inference (log-scaled) posterior\n",
    "    return (\n",
    "         lambda1_rv.log_prob(lambda_1)\n",
    "         + lambda2_rv.log_prob(lambda_2)\n",
    "         + tau_rv.log_prob(tau)\n",
    "         + tf.reduce_sum(rv_observation.log_prob(data))\n",
    "    )\n",
    "\n",
    "def unnormalized_log_posterior(lambda1, lambda2, tau):\n",
    "    return joint_log_prob(data, lambda1, lambda2, tau)"
   ]
  },
  {
   "cell_type": "code",
   "execution_count": 8,
   "metadata": {},
   "outputs": [],
   "source": [
    "def trace_everything(states, previous_kernel_results):\n",
    "    return previous_kernel_results.inner_results\n",
    "\n",
    "# Wrap the mcmc sampling call in a @tf.function to speed it up\n",
    "@tf.function(autograph=False)\n",
    "def graph_sample_chain(num_results, num_burnin_steps, current_state, kernel):\n",
    "    return tfp.mcmc.sample_chain(\n",
    "        num_results = num_results,\n",
    "        num_burnin_steps = num_burnin_steps,\n",
    "        current_state = current_state,\n",
    "        kernel = kernel,\n",
    "        trace_fn = trace_everything\n",
    "    )\n",
    "\n",
    "n_burnin_steps = 5000\n",
    "n_results = 20000\n",
    "\n",
    "# Setting the chain's initial state.\n",
    "initial_chain_state = [\n",
    "    tf.cast(tf.reduce_mean(data), tf.float32) * tf.ones([], dtype=tf.float32, name=\"init_lambda1\"),\n",
    "    tf.cast(tf.reduce_mean(data), tf.float32) * tf.ones([], dtype=tf.float32, name=\"init_lambda2\"),\n",
    "    0.5 * tf.ones([], dtype=tf.float32, name=\"init_tau\"),\n",
    "]\n",
    "\n",
    "# Since HMC operates over unconstrained space, we need to transform the samples\n",
    "unconstraining_bijectors = [\n",
    "    tfp.bijectors.Exp(),       # Mapping: R+ => R.\n",
    "    tfp.bijectors.Exp(),       # Mapping: R+ => R.\n",
    "    tfp.bijectors.Sigmoid(),   # Mapping: [0,1] => R.  \n",
    "]\n",
    "\n",
    "step_size = 0.2\n",
    "\n",
    "kernel = tfp.mcmc.TransformedTransitionKernel(\n",
    "    inner_kernel = tfp.mcmc.HamiltonianMonteCarlo(\n",
    "        target_log_prob_fn = unnormalized_log_posterior,\n",
    "        num_leapfrog_steps = 2,\n",
    "        step_size = step_size,\n",
    "        state_gradients_are_stopped = True),\n",
    "    bijector = unconstraining_bijectors\n",
    ")\n",
    "\n",
    "kernel = tfp.mcmc.SimpleStepSizeAdaptation(\n",
    "    inner_kernel=kernel,\n",
    "    num_adaptation_steps=int(n_burnin_steps * 0.8)\n",
    ")"
   ]
  },
  {
   "cell_type": "code",
   "execution_count": 9,
   "metadata": {},
   "outputs": [],
   "source": [
    "# Sample from the chain\n",
    "[lambda_1_samples, lambda_2_samples, posterior_tau], kernel_results =\\\n",
    "    graph_sample_chain(\n",
    "        num_results = n_results,\n",
    "        num_burnin_steps = n_burnin_steps,\n",
    "        current_state = initial_chain_state,\n",
    "        kernel = kernel)\n",
    "    \n",
    "tau_samples = tf.floor(posterior_tau * tf.cast(tf.size(data), dtype=tf.float32))"
   ]
  },
  {
   "cell_type": "code",
   "execution_count": 10,
   "metadata": {},
   "outputs": [
    {
     "name": "stdout",
     "output_type": "stream",
     "text": [
      "Acceptance rate: 0.6674500107765198\n"
     ]
    }
   ],
   "source": [
    "print(\"Acceptance rate: {}\".format(\n",
    "    tf.reduce_mean(tf.cast(kernel_results.inner_results.is_accepted,dtype=tf.float32))))"
   ]
  },
  {
   "cell_type": "code",
   "execution_count": 11,
   "metadata": {},
   "outputs": [
    {
     "data": {
      "image/png": "[encoded data removed]",
      "text/plain": [
       "<Figure size 1008x432 with 2 Axes>"
      ]
     },
     "metadata": {
      "needs_background": "light"
     },
     "output_type": "display_data"
    }
   ],
   "source": [
    "fig = plt.figure(figsize=(14,6))\n",
    "ax1 = plt.subplot(211)\n",
    "ax1.hist(lambda_1_samples, bins=np.arange(0., 10., 0.1), density=True)\n",
    "ax1.set_title(\"Lambda 1 posterior probability\")\n",
    "\n",
    "ax2 = plt.subplot(212)\n",
    "ax2.hist(lambda_2_samples, bins=np.arange(0., 10., 0.1), density=True)\n",
    "ax2.set_title(\"Lambda 2 posterior probability\")\n",
    "\n",
    "plt.tight_layout()\n",
    "plt.show()"
   ]
  },
  {
   "cell_type": "code",
   "execution_count": 12,
   "metadata": {},
   "outputs": [
    {
     "data": {
      "image/png": "[encoded data removed]",
      "text/plain": [
       "<Figure size 1008x216 with 1 Axes>"
      ]
     },
     "metadata": {
      "needs_background": "light"
     },
     "output_type": "display_data"
    }
   ],
   "source": [
    "fig = plt.figure(figsize=(14,3))\n",
    "ax = plt.subplot()\n",
    "\n",
    "ax.set_title(\"Changepoint posterior probability\")\n",
    "ax.hist(tau_samples, bins=np.arange(0, 100, 1), density=True)\n",
    "plt.tight_layout()\n",
    "plt.show()"
   ]
  },
  {
   "cell_type": "markdown",
   "metadata": {},
   "source": [
    "The results mostly comply with the real parameters from which the distribution has been drawn."
   ]
  }
 ],
 "metadata": {
  "kernelspec": {
   "display_name": "Python 3",
   "language": "python",
   "name": "python3"
  },
  "language_info": {
   "codemirror_mode": {
    "name": "ipython",
    "version": 3
   },
   "file_extension": ".py",
   "mimetype": "text/x-python",
   "name": "python",
   "nbconvert_exporter": "python",
   "pygments_lexer": "ipython3",
   "version": "3.7.4"
  }
 },
 "nbformat": 4,
 "nbformat_minor": 2
}
