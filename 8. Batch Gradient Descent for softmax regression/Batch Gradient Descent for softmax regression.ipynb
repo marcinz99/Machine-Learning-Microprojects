{
 "cells": [
  {
   "cell_type": "markdown",
   "metadata": {},
   "source": [
    "# Batch Gradient Descent for softmax regression"
   ]
  },
  {
   "cell_type": "markdown",
   "metadata": {},
   "source": [
    "Implement Batch Gradient Descent with early stopping for softmax regression."
   ]
  },
  {
   "cell_type": "code",
   "execution_count": 1,
   "metadata": {},
   "outputs": [],
   "source": [
    "import numpy as np\n",
    "import pandas as pd\n",
    "import matplotlib.pyplot as plt\n",
    "from matplotlib.colors import ListedColormap\n",
    "from copy import deepcopy\n",
    "\n",
    "from sklearn import datasets\n",
    "from sklearn.model_selection import train_test_split\n",
    "from sklearn.model_selection import StratifiedShuffleSplit\n",
    "from sklearn.metrics import accuracy_score\n",
    "from sklearn.base import BaseEstimator, TransformerMixin\n",
    "from sklearn.pipeline import Pipeline\n",
    "from sklearn.preprocessing import StandardScaler\n",
    "from sklearn.model_selection import cross_val_score\n",
    "from sklearn.model_selection import StratifiedKFold\n",
    "\n",
    "np.random.seed(12345)"
   ]
  },
  {
   "cell_type": "code",
   "execution_count": 2,
   "metadata": {},
   "outputs": [
    {
     "data": {
      "text/plain": [
       "['data', 'target', 'target_names', 'DESCR', 'feature_names', 'filename']"
      ]
     },
     "execution_count": 2,
     "metadata": {},
     "output_type": "execute_result"
    }
   ],
   "source": [
    "iris = datasets.load_iris()\n",
    "list(iris.keys())"
   ]
  },
  {
   "cell_type": "markdown",
   "metadata": {},
   "source": [
    "#### General approach"
   ]
  },
  {
   "cell_type": "code",
   "execution_count": 3,
   "metadata": {},
   "outputs": [],
   "source": [
    "def one_hot(data, classes):\n",
    "    return np.eye(classes)[data]\n",
    "\n",
    "def softmax(logits):\n",
    "    exps = np.exp(logits)\n",
    "    exp_sums = np.sum(exps, axis=1, keepdims=True)\n",
    "    return exps / exp_sums"
   ]
  },
  {
   "cell_type": "code",
   "execution_count": 4,
   "metadata": {},
   "outputs": [],
   "source": [
    "def get_probabilities(X, Thetas):\n",
    "    logits = X @ Thetas\n",
    "    y_proba = softmax(logits)\n",
    "    return y_proba\n",
    "\n",
    "def get_parameter_matrix(X, y_oh, n_iters=5000, eta=0.1, l2_reg_lambda=0., n_early_stop=-1,\n",
    "                         EPS=1e-7, verbose=False, log_freq=1000):\n",
    "    m = X.shape[0]\n",
    "    \n",
    "    regularize     = (l2_reg_lambda > 0.)\n",
    "    early_stopping = (n_early_stop >= 0)\n",
    "    calculate_loss = (verbose or early_stopping)\n",
    "    \n",
    "    # Parameter matrix (Thetas) is effectively a linear transformation,\n",
    "    # hence we define its dimensions below.\n",
    "    transform_inputs  = X.shape[1]     # number of features plus the bias term\n",
    "    transform_outputs = y_oh.shape[1]  # number of classes\n",
    "    \n",
    "    # Random initialization\n",
    "    Thetas = np.random.randn(transform_inputs, transform_outputs)\n",
    "    \n",
    "    # Early stopping\n",
    "    lowest_loss = np.infty\n",
    "    best_Thetas = deepcopy(Thetas)\n",
    "    faults_left = n_early_stop  # Counter of the failures left before stopping early\n",
    "\n",
    "    for i in range(n_iters):\n",
    "        y_proba = get_probabilities(X, Thetas)\n",
    "        error = y_proba - y_oh\n",
    "        \n",
    "        # Batch Gradient Descent\n",
    "        gradients = 1/m * X.T @ error\n",
    "        if regularize:\n",
    "            gradients += np.r_[np.zeros([1, transform_outputs]), l2_reg_lambda * Thetas[1:]]\n",
    "        \n",
    "        Thetas = Thetas - eta * gradients\n",
    "        \n",
    "        if calculate_loss:\n",
    "            # Cross entropy loss\n",
    "            # (!) np.log(0) is an ill-formed expression, returning possibly -inf or even nan.\n",
    "            #     To prevent such situation tiny epsilon is added to the logarithms argument.\n",
    "            cross_entropy_loss = -np.mean(np.sum(y_oh * np.log(y_proba + 1e-7), axis=1))\n",
    "\n",
    "            # Regularization loss (if needed anywhere)\n",
    "            # l2_regularization_loss = 0.5 * np.sum(np.square(Thetas[1:])) if regularize else 0.\n",
    "\n",
    "            # Total loss (cross entropy loss + regularization loss)\n",
    "            # loss = cross_entropy_loss + l2_reg_lambda * l2_regularization_loss\n",
    "            loss = cross_entropy_loss\n",
    "            \n",
    "            # Logging\n",
    "            if verbose and (i+1) % log_freq == 0:\n",
    "                print(\"{:>5} iterations done. Current loss: {}\".format(i+1, loss))\n",
    "            \n",
    "            # Early stopping\n",
    "            if early_stopping:\n",
    "                if loss + EPS < lowest_loss:\n",
    "                    lowest_loss = loss\n",
    "                    best_Thetas = deepcopy(Thetas)\n",
    "                    faults_left = n_early_stop\n",
    "                else:\n",
    "                    if faults_left <= 0:\n",
    "                        if verbose: print(\"Early stopping after {} iterations.\".format(i+1))\n",
    "                        break\n",
    "                    else:\n",
    "                        faults_left -= 1\n",
    "    \n",
    "    if verbose:\n",
    "        print(\"Done. Achieved loss: {}\".format(loss))\n",
    "    \n",
    "    return best_Thetas"
   ]
  },
  {
   "cell_type": "code",
   "execution_count": 5,
   "metadata": {},
   "outputs": [],
   "source": [
    "def get_predictions(X, Thetas):\n",
    "    y_proba = get_probabilities(X, Thetas)\n",
    "    return np.argmax(y_proba, axis=1)"
   ]
  },
  {
   "cell_type": "code",
   "execution_count": 6,
   "metadata": {},
   "outputs": [],
   "source": [
    "X = iris[\"data\"][:, (2, 3)]\n",
    "X_bias = np.c_[np.ones([X.shape[0], 1]), X]\n",
    "\n",
    "y = iris[\"target\"]\n",
    "X_train, X_valid, y_train, y_valid = train_test_split(X_bias, y, train_size=0.8, random_state=1)\n",
    "\n",
    "classes = len(np.unique(y))\n",
    "y_train_oh = one_hot(y_train, classes)\n",
    "y_valid_oh = one_hot(y_valid, classes)"
   ]
  },
  {
   "cell_type": "code",
   "execution_count": 7,
   "metadata": {},
   "outputs": [
    {
     "name": "stdout",
     "output_type": "stream",
     "text": [
      " 1000 iterations done. Current loss: 0.43969093460384845\n",
      " 2000 iterations done. Current loss: 0.4181194627083617\n",
      " 3000 iterations done. Current loss: 0.41267391617833965\n",
      " 4000 iterations done. Current loss: 0.4110834218685937\n",
      " 5000 iterations done. Current loss: 0.41060293781126905\n",
      "Early stopping after 5775 iterations.\n",
      "Done. Achieved loss: 0.4104760931993877\n"
     ]
    }
   ],
   "source": [
    "Thetas = get_parameter_matrix(X_train, y_train_oh, 10000,\n",
    "                              eta=0.1, n_early_stop=0, l2_reg_lambda=0.15, verbose=True)"
   ]
  },
  {
   "cell_type": "code",
   "execution_count": 8,
   "metadata": {},
   "outputs": [
    {
     "data": {
      "text/plain": [
       "array([[ 3.46687784,  0.16604672, -3.87812759],\n",
       "       [-0.91613869,  0.11463819,  0.8015005 ],\n",
       "       [-0.36941755, -0.10239965,  0.47181721]])"
      ]
     },
     "execution_count": 8,
     "metadata": {},
     "output_type": "execute_result"
    }
   ],
   "source": [
    "Thetas"
   ]
  },
  {
   "cell_type": "code",
   "execution_count": 9,
   "metadata": {},
   "outputs": [
    {
     "data": {
      "text/plain": [
       "array([[0.87725088, 0.11748348, 0.00526563],\n",
       "       [0.42181504, 0.45933792, 0.11884704],\n",
       "       [0.0998894 , 0.49893499, 0.40117562],\n",
       "       [0.85833928, 0.13442218, 0.00723854],\n",
       "       [0.0039435 , 0.18167965, 0.81437685],\n",
       "       [0.06198172, 0.4449173 , 0.49310098],\n",
       "       [0.02349279, 0.30703619, 0.66947103],\n",
       "       [0.76085483, 0.22116183, 0.01798334],\n",
       "       [0.82359071, 0.16658225, 0.00982704],\n",
       "       [0.00951239, 0.23074975, 0.75973786]])"
      ]
     },
     "execution_count": 9,
     "metadata": {},
     "output_type": "execute_result"
    }
   ],
   "source": [
    "get_probabilities(X_valid[:10], Thetas)"
   ]
  },
  {
   "cell_type": "code",
   "execution_count": 10,
   "metadata": {},
   "outputs": [
    {
     "data": {
      "text/plain": [
       "array([0, 1, 1, 0, 2, 2, 2, 0, 0, 2, 1, 0, 2, 1, 1, 0, 1, 1, 0, 0, 1, 1,\n",
       "       2, 0, 2, 1, 0, 0, 1, 2], dtype=int64)"
      ]
     },
     "execution_count": 10,
     "metadata": {},
     "output_type": "execute_result"
    }
   ],
   "source": [
    "predictions = get_predictions(X_valid, Thetas)\n",
    "predictions"
   ]
  },
  {
   "cell_type": "code",
   "execution_count": 11,
   "metadata": {},
   "outputs": [
    {
     "name": "stdout",
     "output_type": "stream",
     "text": [
      "Accuracy: 93.33%\n"
     ]
    }
   ],
   "source": [
    "accuracy = accuracy_score(y_valid, predictions)\n",
    "print(\"Accuracy: {:.2f}%\".format(100 * accuracy))"
   ]
  },
  {
   "cell_type": "markdown",
   "metadata": {},
   "source": [
    "Not bad. Let's turn it into sklearn transformer to integrate this with scikit-learn framework."
   ]
  },
  {
   "cell_type": "markdown",
   "metadata": {},
   "source": [
    "#### Scikit-learn transformer "
   ]
  },
  {
   "cell_type": "code",
   "execution_count": 12,
   "metadata": {},
   "outputs": [],
   "source": [
    "class BatchGradientDescent(BaseEstimator, TransformerMixin):\n",
    "    def __init__(self, n_iters=5000, eta=0.1, l2_lambda=0., n_early_stop=-1,\n",
    "                 EPS=1e-7, verbose=False, log_freq=1000, add_bias=True):\n",
    "        self.n_iters = n_iters\n",
    "        self.eta = eta\n",
    "        self.l2_lambda = l2_lambda\n",
    "        self.n_early_stop = n_early_stop\n",
    "        self.EPS = EPS\n",
    "        self.verbose = verbose\n",
    "        self.log_freq = log_freq\n",
    "        self.add_bias = add_bias\n",
    "        self.Thetas = None\n",
    "    \n",
    "    @staticmethod\n",
    "    def __one_hot(data, classes):\n",
    "        return np.eye(classes)[data]\n",
    "    \n",
    "    @staticmethod\n",
    "    def __softmax(logits):\n",
    "        exps = np.exp(logits)\n",
    "        exp_sums = np.sum(exps, axis=1, keepdims=True)\n",
    "        return exps / exp_sums\n",
    "    \n",
    "    @staticmethod\n",
    "    def get_probabilities(X, Thetas):\n",
    "        logits = X @ Thetas\n",
    "        y_proba = BatchGradientDescent.__softmax(logits)\n",
    "        return y_proba\n",
    "    \n",
    "    def __bgd(self, X, y):\n",
    "        m = X.shape[0]\n",
    "        y_oh = BatchGradientDescent.__one_hot(y, len(np.unique(y)))\n",
    "        \n",
    "        regularize     = (self.l2_lambda > 0.)\n",
    "        early_stopping = (self.n_early_stop >= 0)\n",
    "        calculate_loss = (self.verbose or early_stopping)\n",
    "        \n",
    "        transform_inputs  = X.shape[1]     # number of features plus the bias term\n",
    "        transform_outputs = y_oh.shape[1]  # number of classes\n",
    "        \n",
    "        Thetas = np.random.randn(transform_inputs, transform_outputs)\n",
    "        \n",
    "        lowest_loss = np.infty\n",
    "        best_Thetas = deepcopy(Thetas)\n",
    "        faults_left = self.n_early_stop\n",
    "\n",
    "        for i in range(self.n_iters):\n",
    "            y_proba = self.get_probabilities(X, Thetas)\n",
    "            error = y_proba - y_oh\n",
    "\n",
    "            gradients = 1/m * X.T @ error\n",
    "            if regularize:\n",
    "                gradients += np.r_[np.zeros([1, transform_outputs]), self.l2_lambda * Thetas[1:]]\n",
    "\n",
    "            Thetas = Thetas - self.eta * gradients\n",
    "            \n",
    "            if not early_stopping:\n",
    "                best_Thetas = deepcopy(Thetas)\n",
    "            \n",
    "            if calculate_loss:\n",
    "                cross_entropy_loss = -np.mean(np.sum(y_oh * np.log(y_proba + 1e-7), axis=1))\n",
    "                loss = cross_entropy_loss\n",
    "                \n",
    "                if self.verbose and (i+1) % self.log_freq == 0:\n",
    "                    print(\"{:>5} iterations done. Current loss: {}\".format(i+1, loss))\n",
    "                \n",
    "                if early_stopping:\n",
    "                    if loss + self.EPS < lowest_loss:\n",
    "                        lowest_loss = loss\n",
    "                        best_Thetas = deepcopy(Thetas)\n",
    "                        faults_left = self.n_early_stop\n",
    "                    else:\n",
    "                        if faults_left <= 0:\n",
    "                            if self.verbose: print(\"Early stopping after {} iterations.\".format(i+1))\n",
    "                            break\n",
    "                        else:\n",
    "                            faults_left -= 1\n",
    "\n",
    "        if self.verbose:\n",
    "            print(\"Done. Achieved loss: {}\".format(loss))\n",
    "\n",
    "        self.Thetas = deepcopy(best_Thetas)\n",
    "    \n",
    "    def fit(self, X, y=None):\n",
    "        if self.add_bias:\n",
    "            self.__bgd(np.c_[np.ones([X.shape[0], 1]), np.array(X)], y)\n",
    "        else:\n",
    "            self.__bgd(np.array(X), y)\n",
    "    \n",
    "    def transform(self, X):\n",
    "        if self.Thetas is None:\n",
    "            print(\"Model hasn't been fitted yet.\")\n",
    "            return None\n",
    "            \n",
    "        if self.add_bias:\n",
    "            y_proba = BatchGradientDescent.get_probabilities(\n",
    "                np.c_[np.ones([X.shape[0], 1]), np.array(X)], self.Thetas\n",
    "            )\n",
    "        else:\n",
    "            y_proba = BatchGradientDescent.get_probabilities(\n",
    "                np.array(X), self.Thetas\n",
    "            )\n",
    "        \n",
    "        if type(X) == pd.core.frame.DataFrame:\n",
    "            return pd.Series(data=np.argmax(y_proba, axis=1), index=X.index)\n",
    "        else:\n",
    "            return np.argmax(y_proba, axis=1)\n",
    "    \n",
    "    def predict(self, X):\n",
    "        return self.transform(X)"
   ]
  },
  {
   "cell_type": "code",
   "execution_count": 13,
   "metadata": {},
   "outputs": [],
   "source": [
    "bgd = BatchGradientDescent(verbose=True, add_bias=False)"
   ]
  },
  {
   "cell_type": "code",
   "execution_count": 14,
   "metadata": {},
   "outputs": [
    {
     "name": "stdout",
     "output_type": "stream",
     "text": [
      " 1000 iterations done. Current loss: 0.2851058341198672\n",
      " 2000 iterations done. Current loss: 0.2229733952805762\n",
      " 3000 iterations done. Current loss: 0.19110901885282125\n",
      " 4000 iterations done. Current loss: 0.17102071897945345\n",
      " 5000 iterations done. Current loss: 0.15700385002058848\n",
      "Done. Achieved loss: 0.15700385002058848\n"
     ]
    }
   ],
   "source": [
    "bgd.fit(X_train, y_train)"
   ]
  },
  {
   "cell_type": "code",
   "execution_count": 15,
   "metadata": {},
   "outputs": [
    {
     "data": {
      "text/plain": [
       "array([0, 1, 1, 0, 2, 1, 2, 0, 0, 2, 1, 0, 2, 1, 1, 0, 1, 1, 0, 0, 1, 1,\n",
       "       2, 0, 2, 1, 0, 0, 1, 2], dtype=int64)"
      ]
     },
     "execution_count": 15,
     "metadata": {},
     "output_type": "execute_result"
    }
   ],
   "source": [
    "predictions = bgd.transform(X_valid)\n",
    "predictions"
   ]
  },
  {
   "cell_type": "code",
   "execution_count": 16,
   "metadata": {},
   "outputs": [
    {
     "data": {
      "text/plain": [
       "array([0, 1, 1, 0, 2, 1, 2, 0, 0, 2, 1, 0, 2, 1, 1, 0, 1, 1, 0, 0, 1, 1,\n",
       "       1, 0, 2, 1, 0, 0, 1, 2])"
      ]
     },
     "execution_count": 16,
     "metadata": {},
     "output_type": "execute_result"
    }
   ],
   "source": [
    "y_valid"
   ]
  },
  {
   "cell_type": "code",
   "execution_count": 17,
   "metadata": {},
   "outputs": [
    {
     "name": "stdout",
     "output_type": "stream",
     "text": [
      "Accuracy: 96.67%\n"
     ]
    }
   ],
   "source": [
    "accuracy = accuracy_score(y_valid, predictions)\n",
    "print(\"Accuracy: {:.2f}%\".format(100 * accuracy))"
   ]
  },
  {
   "cell_type": "markdown",
   "metadata": {},
   "source": [
    "#### Proper data preparation"
   ]
  },
  {
   "cell_type": "code",
   "execution_count": 18,
   "metadata": {},
   "outputs": [
    {
     "data": {
      "text/plain": [
       "['data', 'target', 'target_names', 'DESCR', 'feature_names', 'filename']"
      ]
     },
     "execution_count": 18,
     "metadata": {},
     "output_type": "execute_result"
    }
   ],
   "source": [
    "iris = datasets.load_iris()\n",
    "list(iris.keys())"
   ]
  },
  {
   "cell_type": "code",
   "execution_count": 19,
   "metadata": {},
   "outputs": [
    {
     "data": {
      "text/html": [
       "<div>\n",
       "<style scoped>\n",
       "    .dataframe tbody tr th:only-of-type {\n",
       "        vertical-align: middle;\n",
       "    }\n",
       "\n",
       "    .dataframe tbody tr th {\n",
       "        vertical-align: top;\n",
       "    }\n",
       "\n",
       "    .dataframe thead th {\n",
       "        text-align: right;\n",
       "    }\n",
       "</style>\n",
       "<table border=\"1\" class=\"dataframe\">\n",
       "  <thead>\n",
       "    <tr style=\"text-align: right;\">\n",
       "      <th></th>\n",
       "      <th>sepal length (cm)</th>\n",
       "      <th>sepal width (cm)</th>\n",
       "      <th>petal length (cm)</th>\n",
       "      <th>petal width (cm)</th>\n",
       "      <th>species</th>\n",
       "      <th>species_name</th>\n",
       "    </tr>\n",
       "  </thead>\n",
       "  <tbody>\n",
       "    <tr>\n",
       "      <td>0</td>\n",
       "      <td>5.1</td>\n",
       "      <td>3.5</td>\n",
       "      <td>1.4</td>\n",
       "      <td>0.2</td>\n",
       "      <td>0</td>\n",
       "      <td>setosa</td>\n",
       "    </tr>\n",
       "    <tr>\n",
       "      <td>1</td>\n",
       "      <td>4.9</td>\n",
       "      <td>3.0</td>\n",
       "      <td>1.4</td>\n",
       "      <td>0.2</td>\n",
       "      <td>0</td>\n",
       "      <td>setosa</td>\n",
       "    </tr>\n",
       "    <tr>\n",
       "      <td>2</td>\n",
       "      <td>4.7</td>\n",
       "      <td>3.2</td>\n",
       "      <td>1.3</td>\n",
       "      <td>0.2</td>\n",
       "      <td>0</td>\n",
       "      <td>setosa</td>\n",
       "    </tr>\n",
       "    <tr>\n",
       "      <td>3</td>\n",
       "      <td>4.6</td>\n",
       "      <td>3.1</td>\n",
       "      <td>1.5</td>\n",
       "      <td>0.2</td>\n",
       "      <td>0</td>\n",
       "      <td>setosa</td>\n",
       "    </tr>\n",
       "    <tr>\n",
       "      <td>4</td>\n",
       "      <td>5.0</td>\n",
       "      <td>3.6</td>\n",
       "      <td>1.4</td>\n",
       "      <td>0.2</td>\n",
       "      <td>0</td>\n",
       "      <td>setosa</td>\n",
       "    </tr>\n",
       "    <tr>\n",
       "      <td>...</td>\n",
       "      <td>...</td>\n",
       "      <td>...</td>\n",
       "      <td>...</td>\n",
       "      <td>...</td>\n",
       "      <td>...</td>\n",
       "      <td>...</td>\n",
       "    </tr>\n",
       "    <tr>\n",
       "      <td>145</td>\n",
       "      <td>6.7</td>\n",
       "      <td>3.0</td>\n",
       "      <td>5.2</td>\n",
       "      <td>2.3</td>\n",
       "      <td>2</td>\n",
       "      <td>virginica</td>\n",
       "    </tr>\n",
       "    <tr>\n",
       "      <td>146</td>\n",
       "      <td>6.3</td>\n",
       "      <td>2.5</td>\n",
       "      <td>5.0</td>\n",
       "      <td>1.9</td>\n",
       "      <td>2</td>\n",
       "      <td>virginica</td>\n",
       "    </tr>\n",
       "    <tr>\n",
       "      <td>147</td>\n",
       "      <td>6.5</td>\n",
       "      <td>3.0</td>\n",
       "      <td>5.2</td>\n",
       "      <td>2.0</td>\n",
       "      <td>2</td>\n",
       "      <td>virginica</td>\n",
       "    </tr>\n",
       "    <tr>\n",
       "      <td>148</td>\n",
       "      <td>6.2</td>\n",
       "      <td>3.4</td>\n",
       "      <td>5.4</td>\n",
       "      <td>2.3</td>\n",
       "      <td>2</td>\n",
       "      <td>virginica</td>\n",
       "    </tr>\n",
       "    <tr>\n",
       "      <td>149</td>\n",
       "      <td>5.9</td>\n",
       "      <td>3.0</td>\n",
       "      <td>5.1</td>\n",
       "      <td>1.8</td>\n",
       "      <td>2</td>\n",
       "      <td>virginica</td>\n",
       "    </tr>\n",
       "  </tbody>\n",
       "</table>\n",
       "<p>150 rows × 6 columns</p>\n",
       "</div>"
      ],
      "text/plain": [
       "     sepal length (cm)  sepal width (cm)  petal length (cm)  petal width (cm)  \\\n",
       "0                  5.1               3.5                1.4               0.2   \n",
       "1                  4.9               3.0                1.4               0.2   \n",
       "2                  4.7               3.2                1.3               0.2   \n",
       "3                  4.6               3.1                1.5               0.2   \n",
       "4                  5.0               3.6                1.4               0.2   \n",
       "..                 ...               ...                ...               ...   \n",
       "145                6.7               3.0                5.2               2.3   \n",
       "146                6.3               2.5                5.0               1.9   \n",
       "147                6.5               3.0                5.2               2.0   \n",
       "148                6.2               3.4                5.4               2.3   \n",
       "149                5.9               3.0                5.1               1.8   \n",
       "\n",
       "     species species_name  \n",
       "0          0       setosa  \n",
       "1          0       setosa  \n",
       "2          0       setosa  \n",
       "3          0       setosa  \n",
       "4          0       setosa  \n",
       "..       ...          ...  \n",
       "145        2    virginica  \n",
       "146        2    virginica  \n",
       "147        2    virginica  \n",
       "148        2    virginica  \n",
       "149        2    virginica  \n",
       "\n",
       "[150 rows x 6 columns]"
      ]
     },
     "execution_count": 19,
     "metadata": {},
     "output_type": "execute_result"
    }
   ],
   "source": [
    "data = pd.DataFrame(data=iris['data'], columns=iris['feature_names'])\n",
    "target = pd.DataFrame(data=iris['target'], columns=['species'])\n",
    "\n",
    "target_names = target['species'].map(lambda x: iris['target_names'][x])\n",
    "target_names.name = 'species_name'\n",
    "\n",
    "full = pd.concat([data, target, target_names], axis=1)\n",
    "\n",
    "full"
   ]
  },
  {
   "cell_type": "code",
   "execution_count": 20,
   "metadata": {},
   "outputs": [
    {
     "data": {
      "text/html": [
       "<div>\n",
       "<style scoped>\n",
       "    .dataframe tbody tr th:only-of-type {\n",
       "        vertical-align: middle;\n",
       "    }\n",
       "\n",
       "    .dataframe tbody tr th {\n",
       "        vertical-align: top;\n",
       "    }\n",
       "\n",
       "    .dataframe thead th {\n",
       "        text-align: right;\n",
       "    }\n",
       "</style>\n",
       "<table border=\"1\" class=\"dataframe\">\n",
       "  <thead>\n",
       "    <tr style=\"text-align: right;\">\n",
       "      <th></th>\n",
       "      <th>sepal length (cm)</th>\n",
       "      <th>sepal width (cm)</th>\n",
       "      <th>petal length (cm)</th>\n",
       "      <th>petal width (cm)</th>\n",
       "      <th>species</th>\n",
       "    </tr>\n",
       "  </thead>\n",
       "  <tbody>\n",
       "    <tr>\n",
       "      <td>count</td>\n",
       "      <td>150.000000</td>\n",
       "      <td>150.000000</td>\n",
       "      <td>150.000000</td>\n",
       "      <td>150.000000</td>\n",
       "      <td>150.000000</td>\n",
       "    </tr>\n",
       "    <tr>\n",
       "      <td>mean</td>\n",
       "      <td>5.843333</td>\n",
       "      <td>3.057333</td>\n",
       "      <td>3.758000</td>\n",
       "      <td>1.199333</td>\n",
       "      <td>1.000000</td>\n",
       "    </tr>\n",
       "    <tr>\n",
       "      <td>std</td>\n",
       "      <td>0.828066</td>\n",
       "      <td>0.435866</td>\n",
       "      <td>1.765298</td>\n",
       "      <td>0.762238</td>\n",
       "      <td>0.819232</td>\n",
       "    </tr>\n",
       "    <tr>\n",
       "      <td>min</td>\n",
       "      <td>4.300000</td>\n",
       "      <td>2.000000</td>\n",
       "      <td>1.000000</td>\n",
       "      <td>0.100000</td>\n",
       "      <td>0.000000</td>\n",
       "    </tr>\n",
       "    <tr>\n",
       "      <td>25%</td>\n",
       "      <td>5.100000</td>\n",
       "      <td>2.800000</td>\n",
       "      <td>1.600000</td>\n",
       "      <td>0.300000</td>\n",
       "      <td>0.000000</td>\n",
       "    </tr>\n",
       "    <tr>\n",
       "      <td>50%</td>\n",
       "      <td>5.800000</td>\n",
       "      <td>3.000000</td>\n",
       "      <td>4.350000</td>\n",
       "      <td>1.300000</td>\n",
       "      <td>1.000000</td>\n",
       "    </tr>\n",
       "    <tr>\n",
       "      <td>75%</td>\n",
       "      <td>6.400000</td>\n",
       "      <td>3.300000</td>\n",
       "      <td>5.100000</td>\n",
       "      <td>1.800000</td>\n",
       "      <td>2.000000</td>\n",
       "    </tr>\n",
       "    <tr>\n",
       "      <td>max</td>\n",
       "      <td>7.900000</td>\n",
       "      <td>4.400000</td>\n",
       "      <td>6.900000</td>\n",
       "      <td>2.500000</td>\n",
       "      <td>2.000000</td>\n",
       "    </tr>\n",
       "  </tbody>\n",
       "</table>\n",
       "</div>"
      ],
      "text/plain": [
       "       sepal length (cm)  sepal width (cm)  petal length (cm)  \\\n",
       "count         150.000000        150.000000         150.000000   \n",
       "mean            5.843333          3.057333           3.758000   \n",
       "std             0.828066          0.435866           1.765298   \n",
       "min             4.300000          2.000000           1.000000   \n",
       "25%             5.100000          2.800000           1.600000   \n",
       "50%             5.800000          3.000000           4.350000   \n",
       "75%             6.400000          3.300000           5.100000   \n",
       "max             7.900000          4.400000           6.900000   \n",
       "\n",
       "       petal width (cm)     species  \n",
       "count        150.000000  150.000000  \n",
       "mean           1.199333    1.000000  \n",
       "std            0.762238    0.819232  \n",
       "min            0.100000    0.000000  \n",
       "25%            0.300000    0.000000  \n",
       "50%            1.300000    1.000000  \n",
       "75%            1.800000    2.000000  \n",
       "max            2.500000    2.000000  "
      ]
     },
     "execution_count": 20,
     "metadata": {},
     "output_type": "execute_result"
    }
   ],
   "source": [
    "full.describe()"
   ]
  },
  {
   "cell_type": "code",
   "execution_count": 21,
   "metadata": {},
   "outputs": [
    {
     "data": {
      "text/plain": [
       "array(['setosa', 'versicolor', 'virginica'], dtype='<U10')"
      ]
     },
     "execution_count": 21,
     "metadata": {},
     "output_type": "execute_result"
    }
   ],
   "source": [
    "iris['target_names']"
   ]
  },
  {
   "cell_type": "code",
   "execution_count": 22,
   "metadata": {},
   "outputs": [
    {
     "data": {
      "text/plain": [
       "setosa        50\n",
       "versicolor    50\n",
       "virginica     50\n",
       "Name: species_name, dtype: int64"
      ]
     },
     "execution_count": 22,
     "metadata": {},
     "output_type": "execute_result"
    }
   ],
   "source": [
    "full['species_name'].value_counts().sort_index()"
   ]
  },
  {
   "cell_type": "code",
   "execution_count": 23,
   "metadata": {},
   "outputs": [],
   "source": [
    "split = StratifiedShuffleSplit(n_splits=1, test_size=0.2, random_state=0)\n",
    "\n",
    "for train_idx, valid_idx in split.split(full, full['species']):\n",
    "    train_full = full.iloc[train_idx].copy()\n",
    "    valid_full = full.iloc[valid_idx].copy()"
   ]
  },
  {
   "cell_type": "code",
   "execution_count": 24,
   "metadata": {},
   "outputs": [
    {
     "data": {
      "text/html": [
       "<div>\n",
       "<style scoped>\n",
       "    .dataframe tbody tr th:only-of-type {\n",
       "        vertical-align: middle;\n",
       "    }\n",
       "\n",
       "    .dataframe tbody tr th {\n",
       "        vertical-align: top;\n",
       "    }\n",
       "\n",
       "    .dataframe thead th {\n",
       "        text-align: right;\n",
       "    }\n",
       "</style>\n",
       "<table border=\"1\" class=\"dataframe\">\n",
       "  <thead>\n",
       "    <tr style=\"text-align: right;\">\n",
       "      <th></th>\n",
       "      <th>sepal length (cm)</th>\n",
       "      <th>sepal width (cm)</th>\n",
       "      <th>petal length (cm)</th>\n",
       "      <th>petal width (cm)</th>\n",
       "      <th>species</th>\n",
       "      <th>species_name</th>\n",
       "    </tr>\n",
       "  </thead>\n",
       "  <tbody>\n",
       "    <tr>\n",
       "      <td>36</td>\n",
       "      <td>5.5</td>\n",
       "      <td>3.5</td>\n",
       "      <td>1.3</td>\n",
       "      <td>0.2</td>\n",
       "      <td>0</td>\n",
       "      <td>setosa</td>\n",
       "    </tr>\n",
       "    <tr>\n",
       "      <td>55</td>\n",
       "      <td>5.7</td>\n",
       "      <td>2.8</td>\n",
       "      <td>4.5</td>\n",
       "      <td>1.3</td>\n",
       "      <td>1</td>\n",
       "      <td>versicolor</td>\n",
       "    </tr>\n",
       "    <tr>\n",
       "      <td>44</td>\n",
       "      <td>5.1</td>\n",
       "      <td>3.8</td>\n",
       "      <td>1.9</td>\n",
       "      <td>0.4</td>\n",
       "      <td>0</td>\n",
       "      <td>setosa</td>\n",
       "    </tr>\n",
       "    <tr>\n",
       "      <td>134</td>\n",
       "      <td>6.1</td>\n",
       "      <td>2.6</td>\n",
       "      <td>5.6</td>\n",
       "      <td>1.4</td>\n",
       "      <td>2</td>\n",
       "      <td>virginica</td>\n",
       "    </tr>\n",
       "    <tr>\n",
       "      <td>39</td>\n",
       "      <td>5.1</td>\n",
       "      <td>3.4</td>\n",
       "      <td>1.5</td>\n",
       "      <td>0.2</td>\n",
       "      <td>0</td>\n",
       "      <td>setosa</td>\n",
       "    </tr>\n",
       "    <tr>\n",
       "      <td>90</td>\n",
       "      <td>5.5</td>\n",
       "      <td>2.6</td>\n",
       "      <td>4.4</td>\n",
       "      <td>1.2</td>\n",
       "      <td>1</td>\n",
       "      <td>versicolor</td>\n",
       "    </tr>\n",
       "    <tr>\n",
       "      <td>147</td>\n",
       "      <td>6.5</td>\n",
       "      <td>3.0</td>\n",
       "      <td>5.2</td>\n",
       "      <td>2.0</td>\n",
       "      <td>2</td>\n",
       "      <td>virginica</td>\n",
       "    </tr>\n",
       "    <tr>\n",
       "      <td>47</td>\n",
       "      <td>4.6</td>\n",
       "      <td>3.2</td>\n",
       "      <td>1.4</td>\n",
       "      <td>0.2</td>\n",
       "      <td>0</td>\n",
       "      <td>setosa</td>\n",
       "    </tr>\n",
       "    <tr>\n",
       "      <td>3</td>\n",
       "      <td>4.6</td>\n",
       "      <td>3.1</td>\n",
       "      <td>1.5</td>\n",
       "      <td>0.2</td>\n",
       "      <td>0</td>\n",
       "      <td>setosa</td>\n",
       "    </tr>\n",
       "    <tr>\n",
       "      <td>81</td>\n",
       "      <td>5.5</td>\n",
       "      <td>2.4</td>\n",
       "      <td>3.7</td>\n",
       "      <td>1.0</td>\n",
       "      <td>1</td>\n",
       "      <td>versicolor</td>\n",
       "    </tr>\n",
       "  </tbody>\n",
       "</table>\n",
       "</div>"
      ],
      "text/plain": [
       "     sepal length (cm)  sepal width (cm)  petal length (cm)  petal width (cm)  \\\n",
       "36                 5.5               3.5                1.3               0.2   \n",
       "55                 5.7               2.8                4.5               1.3   \n",
       "44                 5.1               3.8                1.9               0.4   \n",
       "134                6.1               2.6                5.6               1.4   \n",
       "39                 5.1               3.4                1.5               0.2   \n",
       "90                 5.5               2.6                4.4               1.2   \n",
       "147                6.5               3.0                5.2               2.0   \n",
       "47                 4.6               3.2                1.4               0.2   \n",
       "3                  4.6               3.1                1.5               0.2   \n",
       "81                 5.5               2.4                3.7               1.0   \n",
       "\n",
       "     species species_name  \n",
       "36         0       setosa  \n",
       "55         1   versicolor  \n",
       "44         0       setosa  \n",
       "134        2    virginica  \n",
       "39         0       setosa  \n",
       "90         1   versicolor  \n",
       "147        2    virginica  \n",
       "47         0       setosa  \n",
       "3          0       setosa  \n",
       "81         1   versicolor  "
      ]
     },
     "execution_count": 24,
     "metadata": {},
     "output_type": "execute_result"
    }
   ],
   "source": [
    "valid_full[:10]"
   ]
  },
  {
   "cell_type": "code",
   "execution_count": 25,
   "metadata": {},
   "outputs": [],
   "source": [
    "X_train = train_full.drop(['species', 'species_name'], axis=1)\n",
    "y_train = train_full['species']\n",
    "\n",
    "X_valid = valid_full.drop(['species', 'species_name'], axis=1)\n",
    "y_valid = valid_full['species']\n",
    "\n",
    "X_full = full.drop(['species', 'species_name'], axis=1)\n",
    "y_full = full['species']"
   ]
  },
  {
   "cell_type": "code",
   "execution_count": 26,
   "metadata": {},
   "outputs": [
    {
     "name": "stdout",
     "output_type": "stream",
     "text": [
      " 1000 iterations done. Current loss: 0.3713949555773946\n",
      " 2000 iterations done. Current loss: 0.3211633451408345\n",
      " 3000 iterations done. Current loss: 0.30207447248341135\n",
      " 4000 iterations done. Current loss: 0.29571775512882453\n",
      " 5000 iterations done. Current loss: 0.2910980260169992\n",
      "Done. Achieved loss: 0.2910980260169992\n"
     ]
    }
   ],
   "source": [
    "bgd = BatchGradientDescent(verbose=True, l2_lambda=0.05)\n",
    "bgd.fit(X_train, y_train)"
   ]
  },
  {
   "cell_type": "code",
   "execution_count": 27,
   "metadata": {},
   "outputs": [],
   "source": [
    "predictions = bgd.transform(X_valid)"
   ]
  },
  {
   "cell_type": "code",
   "execution_count": 28,
   "metadata": {},
   "outputs": [
    {
     "name": "stdout",
     "output_type": "stream",
     "text": [
      "Accuracy: 100.00%\n"
     ]
    }
   ],
   "source": [
    "accuracy = accuracy_score(y_valid, predictions)\n",
    "print(\"Accuracy: {:.2f}%\".format(100 * accuracy))"
   ]
  },
  {
   "cell_type": "markdown",
   "metadata": {},
   "source": [
    "#### Practical use in sklearn routine"
   ]
  },
  {
   "cell_type": "code",
   "execution_count": 29,
   "metadata": {},
   "outputs": [],
   "source": [
    "bgd_pure = Pipeline(steps=[\n",
    "    ('bgd', BatchGradientDescent(l2_lambda=0.05))\n",
    "])"
   ]
  },
  {
   "cell_type": "code",
   "execution_count": 30,
   "metadata": {},
   "outputs": [
    {
     "data": {
      "text/plain": [
       "Pipeline(memory=None,\n",
       "         steps=[('bgd',\n",
       "                 BatchGradientDescent(EPS=1e-07, add_bias=True, eta=0.1,\n",
       "                                      l2_lambda=0.05, log_freq=1000,\n",
       "                                      n_early_stop=-1, n_iters=5000,\n",
       "                                      verbose=False))],\n",
       "         verbose=False)"
      ]
     },
     "execution_count": 30,
     "metadata": {},
     "output_type": "execute_result"
    }
   ],
   "source": [
    "bgd_pure.fit(X_train, y_train)"
   ]
  },
  {
   "cell_type": "code",
   "execution_count": 31,
   "metadata": {},
   "outputs": [
    {
     "name": "stdout",
     "output_type": "stream",
     "text": [
      "Accuracy: 100.00%\n"
     ]
    }
   ],
   "source": [
    "predictions = bgd_pure.predict(X_valid)\n",
    "\n",
    "accuracy = accuracy_score(y_valid, predictions)\n",
    "print(\"Accuracy: {:.2f}%\".format(100 * accuracy))"
   ]
  },
  {
   "cell_type": "markdown",
   "metadata": {},
   "source": [
    "Let's try adding StandardScaler to the pipeline. In case of batch gradient descent it is generally a good idea to standardize inputs, especially when the features differ significantly in their scale (which might impair the convergence tempo drastically)."
   ]
  },
  {
   "cell_type": "code",
   "execution_count": 32,
   "metadata": {},
   "outputs": [],
   "source": [
    "bgd_standardize = Pipeline(steps=[\n",
    "    ('standardize', StandardScaler()),\n",
    "    ('bgd', BatchGradientDescent(l2_lambda=0.05))\n",
    "])"
   ]
  },
  {
   "cell_type": "code",
   "execution_count": 33,
   "metadata": {},
   "outputs": [
    {
     "data": {
      "text/plain": [
       "Pipeline(memory=None,\n",
       "         steps=[('standardize',\n",
       "                 StandardScaler(copy=True, with_mean=True, with_std=True)),\n",
       "                ('bgd',\n",
       "                 BatchGradientDescent(EPS=1e-07, add_bias=True, eta=0.1,\n",
       "                                      l2_lambda=0.05, log_freq=1000,\n",
       "                                      n_early_stop=-1, n_iters=5000,\n",
       "                                      verbose=False))],\n",
       "         verbose=False)"
      ]
     },
     "execution_count": 33,
     "metadata": {},
     "output_type": "execute_result"
    }
   ],
   "source": [
    "bgd_standardize.fit(X_train, y_train)"
   ]
  },
  {
   "cell_type": "code",
   "execution_count": 34,
   "metadata": {},
   "outputs": [
    {
     "name": "stdout",
     "output_type": "stream",
     "text": [
      "Accuracy: 90.00%\n"
     ]
    }
   ],
   "source": [
    "predictions = bgd_standardize.predict(X_valid)\n",
    "\n",
    "accuracy = accuracy_score(y_valid, predictions)\n",
    "print(\"Accuracy: {:.2f}%\".format(100 * accuracy))"
   ]
  },
  {
   "cell_type": "markdown",
   "metadata": {},
   "source": [
    "The approach above with standardization is actually faulty. It should be instead:"
   ]
  },
  {
   "cell_type": "code",
   "execution_count": 35,
   "metadata": {},
   "outputs": [
    {
     "name": "stdout",
     "output_type": "stream",
     "text": [
      "Accuracy: 93.33%\n"
     ]
    }
   ],
   "source": [
    "scaler = StandardScaler().fit(X_full)\n",
    "X_train_std = scaler.transform(X_train)\n",
    "X_valid_std = scaler.transform(X_valid)\n",
    "\n",
    "bgd_pure.fit(X_train_std, y_train)\n",
    "predictions = bgd_pure.predict(X_valid_std)\n",
    "\n",
    "accuracy = accuracy_score(y_valid, predictions)\n",
    "print(\"Accuracy: {:.2f}%\".format(100 * accuracy))"
   ]
  },
  {
   "cell_type": "markdown",
   "metadata": {},
   "source": [
    "It will also be beneficial to cross validate both of the above pipelines."
   ]
  },
  {
   "cell_type": "code",
   "execution_count": 36,
   "metadata": {},
   "outputs": [],
   "source": [
    "skf_split = StratifiedKFold(n_splits=5)"
   ]
  },
  {
   "cell_type": "code",
   "execution_count": 37,
   "metadata": {},
   "outputs": [
    {
     "name": "stdout",
     "output_type": "stream",
     "text": [
      "Mean accuracy:      96.00%\n",
      "Standard deviation: 2.49%\n",
      "\n",
      "Accuracy in each fold: 93.33%, 96.67%, 93.33%, 96.67%, 100.00%.\n"
     ]
    }
   ],
   "source": [
    "cv_results = cross_val_score(bgd_pure, X_full, y_full, scoring='accuracy', cv=skf_split)\n",
    "print(\"Mean accuracy:      {:.2f}%\".format(100*cv_results.mean()))\n",
    "print(\"Standard deviation: {:.2f}%\".format(100*cv_results.std()))\n",
    "results_str = \", \".join([\"{:.2f}%\".format(100*result) for result in cv_results])\n",
    "print(\"\\nAccuracy in each fold: {}.\".format(results_str))"
   ]
  },
  {
   "cell_type": "code",
   "execution_count": 38,
   "metadata": {},
   "outputs": [
    {
     "name": "stdout",
     "output_type": "stream",
     "text": [
      "Mean accuracy:      94.00%\n",
      "Standard deviation: 4.42%\n",
      "\n",
      "Accuracy in each fold: 86.67%, 96.67%, 93.33%, 93.33%, 100.00%.\n"
     ]
    }
   ],
   "source": [
    "cv_results = cross_val_score(bgd_standardize, X_full, y_full, scoring='accuracy', cv=skf_split)\n",
    "print(\"Mean accuracy:      {:.2f}%\".format(100*cv_results.mean()))\n",
    "print(\"Standard deviation: {:.2f}%\".format(100*cv_results.std()))\n",
    "results_str = \", \".join([\"{:.2f}%\".format(100*result) for result in cv_results])\n",
    "print(\"\\nAccuracy in each fold: {}.\".format(results_str))"
   ]
  },
  {
   "cell_type": "markdown",
   "metadata": {},
   "source": [
    "#### Visualization"
   ]
  },
  {
   "cell_type": "markdown",
   "metadata": {},
   "source": [
    "For the sake of visualization let us consider only the two features that are most correlated with target."
   ]
  },
  {
   "cell_type": "code",
   "execution_count": 39,
   "metadata": {},
   "outputs": [
    {
     "data": {
      "text/html": [
       "<div>\n",
       "<style scoped>\n",
       "    .dataframe tbody tr th:only-of-type {\n",
       "        vertical-align: middle;\n",
       "    }\n",
       "\n",
       "    .dataframe tbody tr th {\n",
       "        vertical-align: top;\n",
       "    }\n",
       "\n",
       "    .dataframe thead th {\n",
       "        text-align: right;\n",
       "    }\n",
       "</style>\n",
       "<table border=\"1\" class=\"dataframe\">\n",
       "  <thead>\n",
       "    <tr style=\"text-align: right;\">\n",
       "      <th></th>\n",
       "      <th>species</th>\n",
       "    </tr>\n",
       "  </thead>\n",
       "  <tbody>\n",
       "    <tr>\n",
       "      <td>sepal length (cm)</td>\n",
       "      <td>0.782561</td>\n",
       "    </tr>\n",
       "    <tr>\n",
       "      <td>sepal width (cm)</td>\n",
       "      <td>-0.426658</td>\n",
       "    </tr>\n",
       "    <tr>\n",
       "      <td>petal length (cm)</td>\n",
       "      <td>0.949035</td>\n",
       "    </tr>\n",
       "    <tr>\n",
       "      <td>petal width (cm)</td>\n",
       "      <td>0.956547</td>\n",
       "    </tr>\n",
       "  </tbody>\n",
       "</table>\n",
       "</div>"
      ],
      "text/plain": [
       "                    species\n",
       "sepal length (cm)  0.782561\n",
       "sepal width (cm)  -0.426658\n",
       "petal length (cm)  0.949035\n",
       "petal width (cm)   0.956547"
      ]
     },
     "execution_count": 39,
     "metadata": {},
     "output_type": "execute_result"
    }
   ],
   "source": [
    "correlations = full.corr()[['species']].drop(['species'], axis=0)\n",
    "correlations"
   ]
  },
  {
   "cell_type": "code",
   "execution_count": 40,
   "metadata": {},
   "outputs": [
    {
     "data": {
      "text/plain": [
       "<PandasArray>\n",
       "['petal length (cm)', 'petal width (cm)']\n",
       "Length: 2, dtype: object"
      ]
     },
     "execution_count": 40,
     "metadata": {},
     "output_type": "execute_result"
    }
   ],
   "source": [
    "best_features = correlations.abs().sort_values(by='species', ascending=False).index[:2]\n",
    "\n",
    "# Length first, then  width for convenience of plotting\n",
    "best_features = best_features.array[::-1]\n",
    "best_features"
   ]
  },
  {
   "cell_type": "markdown",
   "metadata": {},
   "source": [
    "Petal length and petal width features exhibit very strong correlation with flowers' species, therefore those two will be utilized."
   ]
  },
  {
   "cell_type": "code",
   "execution_count": 41,
   "metadata": {},
   "outputs": [],
   "source": [
    "X_full_  = X_full[best_features]\n",
    "X_train_ = X_train[best_features]\n",
    "X_valid_ = X_valid[best_features]"
   ]
  },
  {
   "cell_type": "code",
   "execution_count": 42,
   "metadata": {},
   "outputs": [],
   "source": [
    "bgd = BatchGradientDescent(l2_lambda=0.05)\n",
    "bgd.fit(X_train_, y_train)"
   ]
  },
  {
   "cell_type": "code",
   "execution_count": 43,
   "metadata": {},
   "outputs": [],
   "source": [
    "x_pl, x_pw = np.meshgrid(\n",
    "    np.linspace(0., 7., 500).reshape(-1, 1),\n",
    "    np.linspace(0., 3., 200).reshape(-1, 1),\n",
    ")\n",
    "X_mesh = np.c_[np.ones([x_pl.shape[0]*x_pl.shape[1], 1]), x_pl.ravel(), x_pw.ravel()]"
   ]
  },
  {
   "cell_type": "code",
   "execution_count": 44,
   "metadata": {},
   "outputs": [],
   "source": [
    "y_proba = BatchGradientDescent.get_probabilities(X_mesh, bgd.Thetas)\n",
    "y_predict = np.argmax(y_proba, axis=1)"
   ]
  },
  {
   "cell_type": "code",
   "execution_count": 45,
   "metadata": {},
   "outputs": [
    {
     "data": {
      "image/png": "[encoded data removed]",
      "text/plain": [
       "<Figure size 864x504 with 1 Axes>"
      ]
     },
     "metadata": {
      "needs_background": "light"
     },
     "output_type": "display_data"
    }
   ],
   "source": [
    "fig = plt.figure(figsize=(12, 7))\n",
    "\n",
    "custom_cmap = ListedColormap(['g', 'b', 'r'])\n",
    "plt.contourf(x_pl, x_pw, y_predict.reshape(x_pl.shape), cmap=custom_cmap, alpha=0.2)\n",
    "\n",
    "for species in target['species'].unique():\n",
    "    xs = X_full[target['species'] == species][best_features[0]]\n",
    "    ys = X_full[target['species'] == species][best_features[1]]\n",
    "    \n",
    "    plt.plot(xs, ys, [\"go\", \"bs\", \"r^\"][species], label=iris['target_names'][species])\n",
    "\n",
    "# Contour lines for probability of species == 1 (versicolor)\n",
    "contour = plt.contour(x_pl, x_pw, y_proba[:, 1].reshape(x_pl.shape), cmap=plt.cm.brg, linewidths=1)\n",
    "\n",
    "plt.clabel(contour, inline=1, fontsize=12)\n",
    "plt.xlabel(\"Petal length\", fontsize=14)\n",
    "plt.ylabel(\"Petal width\", fontsize=14)\n",
    "plt.legend(loc=\"upper left\", fontsize=14)\n",
    "plt.grid()\n",
    "\n",
    "plt.show()"
   ]
  },
  {
   "cell_type": "markdown",
   "metadata": {},
   "source": [
    "Contour lines represent certain probabilities of a given flower being Iris Versicolor."
   ]
  }
 ],
 "metadata": {
  "kernelspec": {
   "display_name": "Python 3",
   "language": "python",
   "name": "python3"
  },
  "language_info": {
   "codemirror_mode": {
    "name": "ipython",
    "version": 3
   },
   "file_extension": ".py",
   "mimetype": "text/x-python",
   "name": "python",
   "nbconvert_exporter": "python",
   "pygments_lexer": "ipython3",
   "version": "3.7.4"
  }
 },
 "nbformat": 4,
 "nbformat_minor": 2
}
